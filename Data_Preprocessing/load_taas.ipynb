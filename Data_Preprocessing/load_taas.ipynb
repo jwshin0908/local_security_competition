{
  "nbformat": 4,
  "nbformat_minor": 0,
  "metadata": {
    "colab": {
      "provenance": []
    },
    "kernelspec": {
      "name": "python3",
      "display_name": "Python 3"
    },
    "language_info": {
      "name": "python"
    }
  },
  "cells": [
    {
      "cell_type": "code",
      "execution_count": null,
      "metadata": {
        "id": "ChNx_ZhAE6Zz"
      },
      "outputs": [],
      "source": [
        "import pandas as pd\n",
        "import numpy as np"
      ]
    },
    {
      "cell_type": "markdown",
      "source": [
        "# Load Data from TAAS API"
      ],
      "metadata": {
        "id": "ImBddkW_WC9B"
      }
    },
    {
      "cell_type": "code",
      "source": [
        "# curl test\n",
        "!curl 'http://taas.koroad.or.kr/gis/srh/ash/selectAccidentInfo.do' \\\n",
        "    -X 'POST /gis/srh/ash/selectAccidentInfo.do HTTP/1.1' \\\n",
        "    -H 'Host: taas.koroad.or.kr' \\\n",
        "    -H 'Connection: keep-alive'\\\n",
        "    -H 'Content-Length: 161' \\\n",
        "    -H 'Accept: application/json, text/javascript, */*; q=0.01' \\\n",
        "    -H 'User-Agent: Mozilla/5.0 (X11; Linux x86_64) AppleWebKit/537.36 (KHTML, like Gecko) Chrome/98.0.4758.102 Safari/537.36' \\\n",
        "    -H 'Content-Type: application/json;charset=UTF-8' \\\n",
        "    -H 'Origin: http://taas.koroad.or.kr' \\\n",
        "    -H 'Referer: http://taas.koroad.or.kr/gis/mcm/mcl/initMap.do?menuId=GIS_GMP_AGS_TMM' \\\n",
        "    -H 'Accept-Encoding: gzip, deflate' \\\n",
        "    -H 'Accept-Language: ko-KR,ko;q=0.9,en-US;q=0.8,en;q=0.7' \\\n",
        "    -H 'Cookie: TAASJSESSIONID=IMewmgx6VXxtBAKkpzReCfHWn1ON176pynJS1FDWm6tBw3EtbBJZe7adL80kcLdS.amV1c19kb21haW4vc2VydmVyMg==' \\\n",
        "    -H 'X-Requested-With: XMLHttpRequest' \\\n",
        "    --data-binary '{\"searchType\":\"00\",\"pageIndex\":1,\"zoneYn\":false,\"engnCode\":\"00\",\"startAcdntYear\":\"2019\",\"endAcdntYear\":\"2021\",\"legaldongCode\":\"11%\",\"acdntGaeCode\":\"01,02,03,04\"}'"
      ],
      "metadata": {
        "id": "AZOz9FEFFPBm"
      },
      "execution_count": null,
      "outputs": []
    },
    {
      "cell_type": "code",
      "source": [
        "import json\n",
        "import pandas as pd\n",
        "import csv\n",
        "import os"
      ],
      "metadata": {
        "id": "eCAvc9BVFUtv"
      },
      "execution_count": null,
      "outputs": []
    },
    {
      "cell_type": "code",
      "source": [
        "# legaldongCode\n",
        "## 대전 30%\n",
        "## 충남 44%\n",
        "## 세종 36%\n",
        "## 부산 26%\n",
        "## 대구 27%\n",
        "## 인천 28%\n",
        "## 광주 29%\n",
        "## 울산 31%\n",
        "## 서울 11%\n",
        "\n",
        "curl = \\\n",
        "\"\"\"\n",
        "curl 'http://taas.koroad.or.kr/gis/srh/ash/selectAccidentInfo.do' \\\n",
        "    -X 'POST /gis/srh/ash/selectAccidentInfo.do HTTP/1.1' \\\n",
        "    -H 'Host: taas.koroad.or.kr' \\\n",
        "    -H 'Connection: keep-alive'\\\n",
        "    -H 'Content-Length: 161' \\\n",
        "    -H 'Accept: application/json, text/javascript, */*; q=0.01' \\\n",
        "    -H 'User-Agent: Mozilla/5.0 (X11; Linux x86_64) AppleWebKit/537.36 (KHTML, like Gecko) Chrome/98.0.4758.102 Safari/537.36' \\\n",
        "    -H 'Content-Type: application/json;charset=UTF-8' \\\n",
        "    -H 'Origin: http://taas.koroad.or.kr' \\\n",
        "    -H 'Referer: http://taas.koroad.or.kr/gis/mcm/mcl/initMap.do?menuId=GIS_GMP_AGS_TMM' \\\n",
        "    -H 'Accept-Encoding: gzip, deflate' \\\n",
        "    -H 'Accept-Language: ko-KR,ko;q=0.9,en-US;q=0.8,en;q=0.7' \\\n",
        "    -H 'Cookie: TAASJSESSIONID=IMewmgx6VXxtBAKkpzReCfHWn1ON176pynJS1FDWm6tBw3EtbBJZe7adL80kcLdS.amV1c19kb21haW4vc2VydmVyMg==' \\\n",
        "    -H 'X-Requested-With: XMLHttpRequest' \\\n",
        "    --data-binary '{\"searchType\":\"00\",\"pageIndex\":1,\"zoneYn\":false,\"engnCode\":\"00\",\"startAcdntYear\":\"2019\",\"endAcdntYear\":\"2021\",\"legaldongCode\":\"30%\",\"acdntGaeCode\":\"01,02,03,04\"}'\n",
        "\"\"\""
      ],
      "metadata": {
        "id": "fvUNmiPVFVIM"
      },
      "execution_count": null,
      "outputs": []
    },
    {
      "cell_type": "code",
      "source": [
        "# run curl comand and load response into a json dict\n",
        "response = json.loads(os.popen(curl).read())"
      ],
      "metadata": {
        "id": "ZhxAXxfZFdKT"
      },
      "execution_count": null,
      "outputs": []
    },
    {
      "cell_type": "code",
      "source": [
        "response['resultValue']['accidentInfoList'][0]"
      ],
      "metadata": {
        "colab": {
          "base_uri": "https://localhost:8080/"
        },
        "id": "DZ3Vz3B8FfP_",
        "outputId": "46fac95a-161a-4da4-cb7c-5d59ef13c59a"
      },
      "execution_count": null,
      "outputs": [
        {
          "output_type": "execute_result",
          "data": {
            "text/plain": [
              "{'acdnt_no': '2019010100100057',\n",
              " 'engn_code': '00',\n",
              " 'acdnt_year': '2019',\n",
              " 'acdnt_dd_dc': '2019년  1월  1일',\n",
              " 'dfk_code': '2',\n",
              " 'dfk_dc': '화요일',\n",
              " 'tmzon_div_1_code': '02',\n",
              " 'tmzon_div_1_dc': '야간',\n",
              " 'occrrnc_time_code': '03',\n",
              " 'occrrnc_time_dc': '03시',\n",
              " 'legaldong_code': '3020012900',\n",
              " 'legaldong_name': '대전광역시 유성구 방현동',\n",
              " 'acdnt_hcode': '200',\n",
              " 'acdnt_hdc': '차대차',\n",
              " 'acdnt_mcode': '230',\n",
              " 'acdnt_mdc': '추돌',\n",
              " 'acdnt_code': '235',\n",
              " 'acdnt_dc': '차대차 - 추돌',\n",
              " 'lrg_violt_1_code': '06',\n",
              " 'lrg_violt_1_dc': '안전운전불이행',\n",
              " 'x_crdnt': 988609,\n",
              " 'y_crdnt': 1823370,\n",
              " 'wether_sttus_code': '01',\n",
              " 'wether_sttus_dc': '맑음',\n",
              " 'road_stle_code': '299',\n",
              " 'road_stle_dc': '단일로 - 기타',\n",
              " 'hhdgw_at': 'Y',\n",
              " 'acdnt_gae_code': '03',\n",
              " 'acdnt_gae_dc': '경상사고',\n",
              " 'dprs_cnt': 0,\n",
              " 'sep_cnt': 0,\n",
              " 'slp_cnt': 1,\n",
              " 'inj_aplcnt_cnt': 0,\n",
              " 'wrngdo_vhcle_asort_hcode': '100',\n",
              " 'wrngdo_vhcle_asort_hdc': '원동기 자전거 이상',\n",
              " 'wrngdo_vhcle_asort_code': '110',\n",
              " 'wrngdo_vhcle_asort_dc': '승용',\n",
              " 'injury_dgree_1_hcode': '300',\n",
              " 'injury_dgree_1_hdc': '상해없음',\n",
              " 'injury_dgree_1_code': '300',\n",
              " 'injury_dgree_1_dc': '상해없음',\n",
              " 'acdnt_age_1_code': '31',\n",
              " 'acdnt_age_1_dc': '31세',\n",
              " 'sexdstn_div_1_code': '1',\n",
              " 'sexdstn_div_1_dc': '남',\n",
              " 'dmge_vhcle_asort_hcode': '100',\n",
              " 'dmge_vhcle_asort_hdc': '원동기 자전거 이상',\n",
              " 'dmge_vhcle_asort_code': '130',\n",
              " 'dmge_vhcle_asort_dc': '화물',\n",
              " 'injury_dgree_2_hcode': '200',\n",
              " 'injury_dgree_2_hdc': '부상',\n",
              " 'injury_dgree_2_code': '220',\n",
              " 'injury_dgree_2_dc': '경상',\n",
              " 'acdnt_age_2_code': '36',\n",
              " 'acdnt_age_2_dc': '36세',\n",
              " 'sexdstn_div_2_code': '1',\n",
              " 'sexdstn_div_2_dc': '남',\n",
              " 'bdy_injury_part_1_code': '00',\n",
              " 'bdy_injury_part_1_dc': '상해없음',\n",
              " 'bdy_injury_part_2_code': '08',\n",
              " 'bdy_injury_part_2_dc': '뒷면 허리',\n",
              " 'spt_otlnmap_at': '없음',\n",
              " 'rdse_sttus_code': '01',\n",
              " 'rdse_sttus_dc': '포장 - 건조',\n",
              " 'acdnt_pos': '호남지선고속도로 논산방향 논산기점 49km',\n",
              " 'acdnt_des': None,\n",
              " 'road_div': '101',\n",
              " 'road_no': '251',\n",
              " 'route_nm': '호남고속도로지선',\n",
              " 'otn_acdnt_no': '20190000011640',\n",
              " 'city_idt_code': None,\n",
              " 'city_idt_dc': None,\n",
              " 'xCrdnt': 0.0,\n",
              " 'yCrdnt': 0.0,\n",
              " 'acdnt_frm_lv1': None,\n",
              " 'acdnt_frm_lv2': None,\n",
              " 'acdnt_frm_lv3': None,\n",
              " 'acdnt_sta_lv1': None,\n",
              " 'acdnt_sta_lv2': None,\n",
              " 'rn': None,\n",
              " 'rde_id': None,\n",
              " 'rde_nm': None,\n",
              " 'searchCondition': '',\n",
              " 'pageIndex': 1,\n",
              " 'recordCountPerPage': 10,\n",
              " 'searchConditionText': '',\n",
              " 'searchKeyword': '',\n",
              " 'pageUnit': 3,\n",
              " 'zoneYn': False}"
            ]
          },
          "metadata": {},
          "execution_count": 172
        }
      ]
    },
    {
      "cell_type": "code",
      "source": [
        "#@title write new json file\n",
        "FILE_PATH = 'data/taas/en/daejeon.json'"
      ],
      "metadata": {
        "id": "oHTDtPCfFhku"
      },
      "execution_count": null,
      "outputs": []
    },
    {
      "cell_type": "code",
      "source": [
        "with open(FILE_PATH, 'w', encoding='utf-8') as f:\n",
        "    json.dump(response['resultValue']['accidentInfoList'], f, indent=4)"
      ],
      "metadata": {
        "id": "r-tFuOyCFlAH"
      },
      "execution_count": null,
      "outputs": []
    },
    {
      "cell_type": "code",
      "source": [
        "df = pd.read_json(FILE_PATH)"
      ],
      "metadata": {
        "id": "vCBegx1DNVNU"
      },
      "execution_count": null,
      "outputs": []
    },
    {
      "cell_type": "code",
      "source": [
        "print(f'accidents: {len(df)}')"
      ],
      "metadata": {
        "colab": {
          "base_uri": "https://localhost:8080/"
        },
        "id": "ng0YqNNsGEzk",
        "outputId": "feb376f0-e3c9-4a52-a626-8d5008a377da"
      },
      "execution_count": null,
      "outputs": [
        {
          "output_type": "stream",
          "name": "stdout",
          "text": [
            "accidents: 22579\n"
          ]
        }
      ]
    },
    {
      "cell_type": "code",
      "source": [
        "df.columns"
      ],
      "metadata": {
        "colab": {
          "base_uri": "https://localhost:8080/"
        },
        "id": "hngG5JJ_GI8B",
        "outputId": "2e3f3b41-70fb-459d-f94a-91824b57935d"
      },
      "execution_count": null,
      "outputs": [
        {
          "output_type": "execute_result",
          "data": {
            "text/plain": [
              "Index(['acdnt_no', 'engn_code', 'acdnt_year', 'acdnt_dd_dc', 'dfk_code',\n",
              "       'dfk_dc', 'tmzon_div_1_code', 'tmzon_div_1_dc', 'occrrnc_time_code',\n",
              "       'occrrnc_time_dc', 'legaldong_code', 'legaldong_name', 'acdnt_hcode',\n",
              "       'acdnt_hdc', 'acdnt_mcode', 'acdnt_mdc', 'acdnt_code', 'acdnt_dc',\n",
              "       'lrg_violt_1_code', 'lrg_violt_1_dc', 'x_crdnt', 'y_crdnt',\n",
              "       'wether_sttus_code', 'wether_sttus_dc', 'road_stle_code',\n",
              "       'road_stle_dc', 'hhdgw_at', 'acdnt_gae_code', 'acdnt_gae_dc',\n",
              "       'dprs_cnt', 'sep_cnt', 'slp_cnt', 'inj_aplcnt_cnt',\n",
              "       'wrngdo_vhcle_asort_hcode', 'wrngdo_vhcle_asort_hdc',\n",
              "       'wrngdo_vhcle_asort_code', 'wrngdo_vhcle_asort_dc',\n",
              "       'injury_dgree_1_hcode', 'injury_dgree_1_hdc', 'injury_dgree_1_code',\n",
              "       'injury_dgree_1_dc', 'acdnt_age_1_code', 'acdnt_age_1_dc',\n",
              "       'sexdstn_div_1_code', 'sexdstn_div_1_dc', 'dmge_vhcle_asort_hcode',\n",
              "       'dmge_vhcle_asort_hdc', 'dmge_vhcle_asort_code', 'dmge_vhcle_asort_dc',\n",
              "       'injury_dgree_2_hcode', 'injury_dgree_2_hdc', 'injury_dgree_2_code',\n",
              "       'injury_dgree_2_dc', 'acdnt_age_2_code', 'acdnt_age_2_dc',\n",
              "       'sexdstn_div_2_code', 'sexdstn_div_2_dc', 'bdy_injury_part_1_code',\n",
              "       'bdy_injury_part_1_dc', 'bdy_injury_part_2_code',\n",
              "       'bdy_injury_part_2_dc', 'spt_otlnmap_at', 'rdse_sttus_code',\n",
              "       'rdse_sttus_dc', 'acdnt_pos', 'acdnt_des', 'road_div', 'road_no',\n",
              "       'route_nm', 'otn_acdnt_no', 'city_idt_code', 'city_idt_dc', 'xCrdnt',\n",
              "       'yCrdnt', 'acdnt_frm_lv1', 'acdnt_frm_lv2', 'acdnt_frm_lv3',\n",
              "       'acdnt_sta_lv1', 'acdnt_sta_lv2', 'rn', 'rde_id', 'rde_nm',\n",
              "       'searchCondition', 'pageIndex', 'recordCountPerPage',\n",
              "       'searchConditionText', 'searchKeyword', 'pageUnit', 'zoneYn'],\n",
              "      dtype='object')"
            ]
          },
          "metadata": {},
          "execution_count": 201
        }
      ]
    },
    {
      "cell_type": "code",
      "source": [
        "#@title save only location\n",
        "crdnt = df[['x_crdnt', 'y_crdnt']]\n",
        "print(f'crdnt: {len(crdnt)}')\n",
        "crdnt.head(1)"
      ],
      "metadata": {
        "colab": {
          "base_uri": "https://localhost:8080/",
          "height": 98
        },
        "id": "o50LCiheGR96",
        "outputId": "6e72d207-1245-47b9-9a96-e3ea4ff256cd"
      },
      "execution_count": null,
      "outputs": [
        {
          "output_type": "stream",
          "name": "stdout",
          "text": [
            "crdnt: 22579\n"
          ]
        },
        {
          "output_type": "execute_result",
          "data": {
            "text/plain": [
              "   x_crdnt  y_crdnt\n",
              "0   988609  1823370"
            ],
            "text/html": [
              "\n",
              "  <div id=\"df-3ee68b88-cc03-4e09-9f7a-4ce5876f67e4\">\n",
              "    <div class=\"colab-df-container\">\n",
              "      <div>\n",
              "<style scoped>\n",
              "    .dataframe tbody tr th:only-of-type {\n",
              "        vertical-align: middle;\n",
              "    }\n",
              "\n",
              "    .dataframe tbody tr th {\n",
              "        vertical-align: top;\n",
              "    }\n",
              "\n",
              "    .dataframe thead th {\n",
              "        text-align: right;\n",
              "    }\n",
              "</style>\n",
              "<table border=\"1\" class=\"dataframe\">\n",
              "  <thead>\n",
              "    <tr style=\"text-align: right;\">\n",
              "      <th></th>\n",
              "      <th>x_crdnt</th>\n",
              "      <th>y_crdnt</th>\n",
              "    </tr>\n",
              "  </thead>\n",
              "  <tbody>\n",
              "    <tr>\n",
              "      <th>0</th>\n",
              "      <td>988609</td>\n",
              "      <td>1823370</td>\n",
              "    </tr>\n",
              "  </tbody>\n",
              "</table>\n",
              "</div>\n",
              "      <button class=\"colab-df-convert\" onclick=\"convertToInteractive('df-3ee68b88-cc03-4e09-9f7a-4ce5876f67e4')\"\n",
              "              title=\"Convert this dataframe to an interactive table.\"\n",
              "              style=\"display:none;\">\n",
              "        \n",
              "  <svg xmlns=\"http://www.w3.org/2000/svg\" height=\"24px\"viewBox=\"0 0 24 24\"\n",
              "       width=\"24px\">\n",
              "    <path d=\"M0 0h24v24H0V0z\" fill=\"none\"/>\n",
              "    <path d=\"M18.56 5.44l.94 2.06.94-2.06 2.06-.94-2.06-.94-.94-2.06-.94 2.06-2.06.94zm-11 1L8.5 8.5l.94-2.06 2.06-.94-2.06-.94L8.5 2.5l-.94 2.06-2.06.94zm10 10l.94 2.06.94-2.06 2.06-.94-2.06-.94-.94-2.06-.94 2.06-2.06.94z\"/><path d=\"M17.41 7.96l-1.37-1.37c-.4-.4-.92-.59-1.43-.59-.52 0-1.04.2-1.43.59L10.3 9.45l-7.72 7.72c-.78.78-.78 2.05 0 2.83L4 21.41c.39.39.9.59 1.41.59.51 0 1.02-.2 1.41-.59l7.78-7.78 2.81-2.81c.8-.78.8-2.07 0-2.86zM5.41 20L4 18.59l7.72-7.72 1.47 1.35L5.41 20z\"/>\n",
              "  </svg>\n",
              "      </button>\n",
              "      \n",
              "  <style>\n",
              "    .colab-df-container {\n",
              "      display:flex;\n",
              "      flex-wrap:wrap;\n",
              "      gap: 12px;\n",
              "    }\n",
              "\n",
              "    .colab-df-convert {\n",
              "      background-color: #E8F0FE;\n",
              "      border: none;\n",
              "      border-radius: 50%;\n",
              "      cursor: pointer;\n",
              "      display: none;\n",
              "      fill: #1967D2;\n",
              "      height: 32px;\n",
              "      padding: 0 0 0 0;\n",
              "      width: 32px;\n",
              "    }\n",
              "\n",
              "    .colab-df-convert:hover {\n",
              "      background-color: #E2EBFA;\n",
              "      box-shadow: 0px 1px 2px rgba(60, 64, 67, 0.3), 0px 1px 3px 1px rgba(60, 64, 67, 0.15);\n",
              "      fill: #174EA6;\n",
              "    }\n",
              "\n",
              "    [theme=dark] .colab-df-convert {\n",
              "      background-color: #3B4455;\n",
              "      fill: #D2E3FC;\n",
              "    }\n",
              "\n",
              "    [theme=dark] .colab-df-convert:hover {\n",
              "      background-color: #434B5C;\n",
              "      box-shadow: 0px 1px 3px 1px rgba(0, 0, 0, 0.15);\n",
              "      filter: drop-shadow(0px 1px 2px rgba(0, 0, 0, 0.3));\n",
              "      fill: #FFFFFF;\n",
              "    }\n",
              "  </style>\n",
              "\n",
              "      <script>\n",
              "        const buttonEl =\n",
              "          document.querySelector('#df-3ee68b88-cc03-4e09-9f7a-4ce5876f67e4 button.colab-df-convert');\n",
              "        buttonEl.style.display =\n",
              "          google.colab.kernel.accessAllowed ? 'block' : 'none';\n",
              "\n",
              "        async function convertToInteractive(key) {\n",
              "          const element = document.querySelector('#df-3ee68b88-cc03-4e09-9f7a-4ce5876f67e4');\n",
              "          const dataTable =\n",
              "            await google.colab.kernel.invokeFunction('convertToInteractive',\n",
              "                                                     [key], {});\n",
              "          if (!dataTable) return;\n",
              "\n",
              "          const docLinkHtml = 'Like what you see? Visit the ' +\n",
              "            '<a target=\"_blank\" href=https://colab.research.google.com/notebooks/data_table.ipynb>data table notebook</a>'\n",
              "            + ' to learn more about interactive tables.';\n",
              "          element.innerHTML = '';\n",
              "          dataTable['output_type'] = 'display_data';\n",
              "          await google.colab.output.renderOutput(dataTable, element);\n",
              "          const docLink = document.createElement('div');\n",
              "          docLink.innerHTML = docLinkHtml;\n",
              "          element.appendChild(docLink);\n",
              "        }\n",
              "      </script>\n",
              "    </div>\n",
              "  </div>\n",
              "  "
            ]
          },
          "metadata": {},
          "execution_count": 202
        }
      ]
    },
    {
      "cell_type": "code",
      "source": [
        "crdnt.to_csv('data/taas/crdnt/daejeon_crdnt.csv', index = False, encoding = 'cp949')"
      ],
      "metadata": {
        "id": "hBp6vjQLNO22"
      },
      "execution_count": null,
      "outputs": []
    },
    {
      "cell_type": "markdown",
      "source": [
        "# Concat Crdnt to TAAS Dataset"
      ],
      "metadata": {
        "id": "J03i4DdfWSOv"
      }
    },
    {
      "cell_type": "code",
      "source": [
        "taas = pd.read_csv('data/taas/ko/seoul.csv', encoding = 'cp949')\n",
        "crdnt = pd.read_csv('data/taas/crdnt/seoul_crdnt.csv', encoding = 'cp949')"
      ],
      "metadata": {
        "id": "OrtTJOFXWoiA"
      },
      "execution_count": null,
      "outputs": []
    },
    {
      "cell_type": "code",
      "source": [
        "print(f'taas: {len(taas)}')\n",
        "print(f'crdnt: {len(crdnt)}')"
      ],
      "metadata": {
        "colab": {
          "base_uri": "https://localhost:8080/"
        },
        "id": "Y5i9v5OrZXVu",
        "outputId": "1c3ced97-4b33-438e-f6f5-789c3497bfaf"
      },
      "execution_count": null,
      "outputs": [
        {
          "output_type": "stream",
          "name": "stdout",
          "text": [
            "taas: 108398\n",
            "crdnt: 108398\n"
          ]
        }
      ]
    },
    {
      "cell_type": "code",
      "source": [
        "taas_df = pd.concat([taas, crdnt], axis=1)"
      ],
      "metadata": {
        "id": "9NJb5GF7ZcC4"
      },
      "execution_count": null,
      "outputs": []
    },
    {
      "cell_type": "code",
      "source": [
        "print(f'taas_df: {len(taas_df)}')\n",
        "taas_df.head(1)"
      ],
      "metadata": {
        "colab": {
          "base_uri": "https://localhost:8080/",
          "height": 224
        },
        "id": "dvt_3E77gFJi",
        "outputId": "0ad5571c-6d6e-4d6b-b0b1-6e8f3b5d2374"
      },
      "execution_count": null,
      "outputs": [
        {
          "output_type": "stream",
          "name": "stdout",
          "text": [
            "taas_df: 108398\n"
          ]
        },
        {
          "output_type": "execute_result",
          "data": {
            "text/plain": [
              "               사고번호             사고일시   요일            시군구  사고내용  사망자수  중상자수  \\\n",
              "0  2019010100100001  2019년 1월 1일 00시  화요일  서울특별시 강서구 방화동  경상사고     0     0   \n",
              "\n",
              "   경상자수  부상신고자수        사고유형  ... 가해운전자 차종 가해운전자 성별 가해운전자 연령 가해운전자 상해정도  \\\n",
              "0     1       0  차대사람 - 횡단중  ...       승용        남      26세       상해없음   \n",
              "\n",
              "  피해운전자 차종 피해운전자 성별 피해운전자 연령 피해운전자 상해정도 x_crdnt  y_crdnt  \n",
              "0      보행자        남      40세         경상  939508  1952236  \n",
              "\n",
              "[1 rows x 24 columns]"
            ],
            "text/html": [
              "\n",
              "  <div id=\"df-746ed5bf-cdd3-4aa6-be2d-392f533bd492\">\n",
              "    <div class=\"colab-df-container\">\n",
              "      <div>\n",
              "<style scoped>\n",
              "    .dataframe tbody tr th:only-of-type {\n",
              "        vertical-align: middle;\n",
              "    }\n",
              "\n",
              "    .dataframe tbody tr th {\n",
              "        vertical-align: top;\n",
              "    }\n",
              "\n",
              "    .dataframe thead th {\n",
              "        text-align: right;\n",
              "    }\n",
              "</style>\n",
              "<table border=\"1\" class=\"dataframe\">\n",
              "  <thead>\n",
              "    <tr style=\"text-align: right;\">\n",
              "      <th></th>\n",
              "      <th>사고번호</th>\n",
              "      <th>사고일시</th>\n",
              "      <th>요일</th>\n",
              "      <th>시군구</th>\n",
              "      <th>사고내용</th>\n",
              "      <th>사망자수</th>\n",
              "      <th>중상자수</th>\n",
              "      <th>경상자수</th>\n",
              "      <th>부상신고자수</th>\n",
              "      <th>사고유형</th>\n",
              "      <th>...</th>\n",
              "      <th>가해운전자 차종</th>\n",
              "      <th>가해운전자 성별</th>\n",
              "      <th>가해운전자 연령</th>\n",
              "      <th>가해운전자 상해정도</th>\n",
              "      <th>피해운전자 차종</th>\n",
              "      <th>피해운전자 성별</th>\n",
              "      <th>피해운전자 연령</th>\n",
              "      <th>피해운전자 상해정도</th>\n",
              "      <th>x_crdnt</th>\n",
              "      <th>y_crdnt</th>\n",
              "    </tr>\n",
              "  </thead>\n",
              "  <tbody>\n",
              "    <tr>\n",
              "      <th>0</th>\n",
              "      <td>2019010100100001</td>\n",
              "      <td>2019년 1월 1일 00시</td>\n",
              "      <td>화요일</td>\n",
              "      <td>서울특별시 강서구 방화동</td>\n",
              "      <td>경상사고</td>\n",
              "      <td>0</td>\n",
              "      <td>0</td>\n",
              "      <td>1</td>\n",
              "      <td>0</td>\n",
              "      <td>차대사람 - 횡단중</td>\n",
              "      <td>...</td>\n",
              "      <td>승용</td>\n",
              "      <td>남</td>\n",
              "      <td>26세</td>\n",
              "      <td>상해없음</td>\n",
              "      <td>보행자</td>\n",
              "      <td>남</td>\n",
              "      <td>40세</td>\n",
              "      <td>경상</td>\n",
              "      <td>939508</td>\n",
              "      <td>1952236</td>\n",
              "    </tr>\n",
              "  </tbody>\n",
              "</table>\n",
              "<p>1 rows × 24 columns</p>\n",
              "</div>\n",
              "      <button class=\"colab-df-convert\" onclick=\"convertToInteractive('df-746ed5bf-cdd3-4aa6-be2d-392f533bd492')\"\n",
              "              title=\"Convert this dataframe to an interactive table.\"\n",
              "              style=\"display:none;\">\n",
              "        \n",
              "  <svg xmlns=\"http://www.w3.org/2000/svg\" height=\"24px\"viewBox=\"0 0 24 24\"\n",
              "       width=\"24px\">\n",
              "    <path d=\"M0 0h24v24H0V0z\" fill=\"none\"/>\n",
              "    <path d=\"M18.56 5.44l.94 2.06.94-2.06 2.06-.94-2.06-.94-.94-2.06-.94 2.06-2.06.94zm-11 1L8.5 8.5l.94-2.06 2.06-.94-2.06-.94L8.5 2.5l-.94 2.06-2.06.94zm10 10l.94 2.06.94-2.06 2.06-.94-2.06-.94-.94-2.06-.94 2.06-2.06.94z\"/><path d=\"M17.41 7.96l-1.37-1.37c-.4-.4-.92-.59-1.43-.59-.52 0-1.04.2-1.43.59L10.3 9.45l-7.72 7.72c-.78.78-.78 2.05 0 2.83L4 21.41c.39.39.9.59 1.41.59.51 0 1.02-.2 1.41-.59l7.78-7.78 2.81-2.81c.8-.78.8-2.07 0-2.86zM5.41 20L4 18.59l7.72-7.72 1.47 1.35L5.41 20z\"/>\n",
              "  </svg>\n",
              "      </button>\n",
              "      \n",
              "  <style>\n",
              "    .colab-df-container {\n",
              "      display:flex;\n",
              "      flex-wrap:wrap;\n",
              "      gap: 12px;\n",
              "    }\n",
              "\n",
              "    .colab-df-convert {\n",
              "      background-color: #E8F0FE;\n",
              "      border: none;\n",
              "      border-radius: 50%;\n",
              "      cursor: pointer;\n",
              "      display: none;\n",
              "      fill: #1967D2;\n",
              "      height: 32px;\n",
              "      padding: 0 0 0 0;\n",
              "      width: 32px;\n",
              "    }\n",
              "\n",
              "    .colab-df-convert:hover {\n",
              "      background-color: #E2EBFA;\n",
              "      box-shadow: 0px 1px 2px rgba(60, 64, 67, 0.3), 0px 1px 3px 1px rgba(60, 64, 67, 0.15);\n",
              "      fill: #174EA6;\n",
              "    }\n",
              "\n",
              "    [theme=dark] .colab-df-convert {\n",
              "      background-color: #3B4455;\n",
              "      fill: #D2E3FC;\n",
              "    }\n",
              "\n",
              "    [theme=dark] .colab-df-convert:hover {\n",
              "      background-color: #434B5C;\n",
              "      box-shadow: 0px 1px 3px 1px rgba(0, 0, 0, 0.15);\n",
              "      filter: drop-shadow(0px 1px 2px rgba(0, 0, 0, 0.3));\n",
              "      fill: #FFFFFF;\n",
              "    }\n",
              "  </style>\n",
              "\n",
              "      <script>\n",
              "        const buttonEl =\n",
              "          document.querySelector('#df-746ed5bf-cdd3-4aa6-be2d-392f533bd492 button.colab-df-convert');\n",
              "        buttonEl.style.display =\n",
              "          google.colab.kernel.accessAllowed ? 'block' : 'none';\n",
              "\n",
              "        async function convertToInteractive(key) {\n",
              "          const element = document.querySelector('#df-746ed5bf-cdd3-4aa6-be2d-392f533bd492');\n",
              "          const dataTable =\n",
              "            await google.colab.kernel.invokeFunction('convertToInteractive',\n",
              "                                                     [key], {});\n",
              "          if (!dataTable) return;\n",
              "\n",
              "          const docLinkHtml = 'Like what you see? Visit the ' +\n",
              "            '<a target=\"_blank\" href=https://colab.research.google.com/notebooks/data_table.ipynb>data table notebook</a>'\n",
              "            + ' to learn more about interactive tables.';\n",
              "          element.innerHTML = '';\n",
              "          dataTable['output_type'] = 'display_data';\n",
              "          await google.colab.output.renderOutput(dataTable, element);\n",
              "          const docLink = document.createElement('div');\n",
              "          docLink.innerHTML = docLinkHtml;\n",
              "          element.appendChild(docLink);\n",
              "        }\n",
              "      </script>\n",
              "    </div>\n",
              "  </div>\n",
              "  "
            ]
          },
          "metadata": {},
          "execution_count": 180
        }
      ]
    },
    {
      "cell_type": "markdown",
      "source": [
        "# Filtering\n",
        "합집합\n",
        "- 가해운전자 차종: 이륜차\n",
        "- 피해운전자 차종: 이륜차"
      ],
      "metadata": {
        "id": "tO2SI94hhJl7"
      }
    },
    {
      "cell_type": "code",
      "source": [
        "taas_df['가해운전자 차종'].unique()"
      ],
      "metadata": {
        "colab": {
          "base_uri": "https://localhost:8080/"
        },
        "id": "GHdlWqPdjfqX",
        "outputId": "ef53ad4f-b09a-46c0-8ec1-02aa2c658a80"
      },
      "execution_count": null,
      "outputs": [
        {
          "output_type": "execute_result",
          "data": {
            "text/plain": [
              "array(['승용', '이륜', '화물', '기타불명', '특수', '승합', '원동기', '건설기계', '자전거',\n",
              "       '개인형이동수단(PM)', '사륜오토바이(ATV)', '농기계'], dtype=object)"
            ]
          },
          "metadata": {},
          "execution_count": 209
        }
      ]
    },
    {
      "cell_type": "code",
      "source": [
        "taas_df = taas_df[(taas_df['가해운전자 차종'] == '이륜') | (taas_df['피해운전자 차종'] == '이륜')]\n",
        "taas_df.reset_index(inplace=True)\n",
        "taas_df.drop(columns = 'index', inplace=True)\n",
        "print(f'taas_df: {len(taas_df)}')"
      ],
      "metadata": {
        "colab": {
          "base_uri": "https://localhost:8080/"
        },
        "id": "IoFNxZlNhcBq",
        "outputId": "eeb4f3e3-d246-4d05-f84d-af4cf7655708"
      },
      "execution_count": null,
      "outputs": [
        {
          "output_type": "stream",
          "name": "stdout",
          "text": [
            "taas_df: 25352\n"
          ]
        },
        {
          "output_type": "stream",
          "name": "stderr",
          "text": [
            "/usr/local/lib/python3.8/dist-packages/pandas/core/frame.py:4906: SettingWithCopyWarning: \n",
            "A value is trying to be set on a copy of a slice from a DataFrame\n",
            "\n",
            "See the caveats in the documentation: https://pandas.pydata.org/pandas-docs/stable/user_guide/indexing.html#returning-a-view-versus-a-copy\n",
            "  return super().drop(\n"
          ]
        }
      ]
    },
    {
      "cell_type": "code",
      "source": [
        "taas_df.to_csv('data/taas/before/seoul.csv', index = False, encoding = 'cp949')"
      ],
      "metadata": {
        "id": "0WY9XsjWgHRr"
      },
      "execution_count": null,
      "outputs": []
    },
    {
      "cell_type": "markdown",
      "source": [
        "# Convert location form"
      ],
      "metadata": {
        "id": "bLJqb8K-nUJL"
      }
    },
    {
      "cell_type": "code",
      "source": [
        "!pip install pyproj"
      ],
      "metadata": {
        "colab": {
          "base_uri": "https://localhost:8080/"
        },
        "id": "1hp3G6Pipy7J",
        "outputId": "4329da27-2e08-41b4-c5d8-c1d08fefefe9"
      },
      "execution_count": null,
      "outputs": [
        {
          "output_type": "stream",
          "name": "stdout",
          "text": [
            "Looking in indexes: https://pypi.org/simple, https://us-python.pkg.dev/colab-wheels/public/simple/\n",
            "Requirement already satisfied: pyproj in /usr/local/lib/python3.8/dist-packages (3.4.1)\n",
            "Requirement already satisfied: certifi in /usr/local/lib/python3.8/dist-packages (from pyproj) (2022.12.7)\n"
          ]
        }
      ]
    },
    {
      "cell_type": "code",
      "source": [
        "taas_df = pd.read_csv('data/taas/before/seoul.csv', encoding = 'cp949')"
      ],
      "metadata": {
        "id": "oloAm2XLmeLZ"
      },
      "execution_count": null,
      "outputs": []
    },
    {
      "cell_type": "code",
      "source": [
        "location = taas_df[['x_crdnt', 'y_crdnt']]\n",
        "taas_df.drop(columns = ['x_crdnt', 'y_crdnt'], inplace=True)"
      ],
      "metadata": {
        "id": "F6vXd6GrqDNE"
      },
      "execution_count": null,
      "outputs": []
    },
    {
      "cell_type": "code",
      "source": [
        "taas_df.head(1)"
      ],
      "metadata": {
        "colab": {
          "base_uri": "https://localhost:8080/",
          "height": 189
        },
        "id": "c-BBJ8dNpxGi",
        "outputId": "9facfe5f-806b-4de8-f41f-7d91f7f668db"
      },
      "execution_count": null,
      "outputs": [
        {
          "output_type": "execute_result",
          "data": {
            "text/plain": [
              "               사고번호             사고일시   요일            시군구  사고내용  사망자수  중상자수  \\\n",
              "0  2019010100100002  2019년 1월 1일 00시  화요일  서울특별시 구로구 고척동  경상사고     0     0   \n",
              "\n",
              "   경상자수  부상신고자수      사고유형  ... 기상상태      도로형태 가해운전자 차종 가해운전자 성별 가해운전자 연령  \\\n",
              "0     1       0  차대차 - 추돌  ...   맑음  단일로 - 기타       이륜        남      23세   \n",
              "\n",
              "  가해운전자 상해정도 피해운전자 차종 피해운전자 성별 피해운전자 연령 피해운전자 상해정도  \n",
              "0       상해없음       승용        남      71세         경상  \n",
              "\n",
              "[1 rows x 22 columns]"
            ],
            "text/html": [
              "\n",
              "  <div id=\"df-5f0cb547-bf74-4b88-8bb3-43ec5b314b26\">\n",
              "    <div class=\"colab-df-container\">\n",
              "      <div>\n",
              "<style scoped>\n",
              "    .dataframe tbody tr th:only-of-type {\n",
              "        vertical-align: middle;\n",
              "    }\n",
              "\n",
              "    .dataframe tbody tr th {\n",
              "        vertical-align: top;\n",
              "    }\n",
              "\n",
              "    .dataframe thead th {\n",
              "        text-align: right;\n",
              "    }\n",
              "</style>\n",
              "<table border=\"1\" class=\"dataframe\">\n",
              "  <thead>\n",
              "    <tr style=\"text-align: right;\">\n",
              "      <th></th>\n",
              "      <th>사고번호</th>\n",
              "      <th>사고일시</th>\n",
              "      <th>요일</th>\n",
              "      <th>시군구</th>\n",
              "      <th>사고내용</th>\n",
              "      <th>사망자수</th>\n",
              "      <th>중상자수</th>\n",
              "      <th>경상자수</th>\n",
              "      <th>부상신고자수</th>\n",
              "      <th>사고유형</th>\n",
              "      <th>...</th>\n",
              "      <th>기상상태</th>\n",
              "      <th>도로형태</th>\n",
              "      <th>가해운전자 차종</th>\n",
              "      <th>가해운전자 성별</th>\n",
              "      <th>가해운전자 연령</th>\n",
              "      <th>가해운전자 상해정도</th>\n",
              "      <th>피해운전자 차종</th>\n",
              "      <th>피해운전자 성별</th>\n",
              "      <th>피해운전자 연령</th>\n",
              "      <th>피해운전자 상해정도</th>\n",
              "    </tr>\n",
              "  </thead>\n",
              "  <tbody>\n",
              "    <tr>\n",
              "      <th>0</th>\n",
              "      <td>2019010100100002</td>\n",
              "      <td>2019년 1월 1일 00시</td>\n",
              "      <td>화요일</td>\n",
              "      <td>서울특별시 구로구 고척동</td>\n",
              "      <td>경상사고</td>\n",
              "      <td>0</td>\n",
              "      <td>0</td>\n",
              "      <td>1</td>\n",
              "      <td>0</td>\n",
              "      <td>차대차 - 추돌</td>\n",
              "      <td>...</td>\n",
              "      <td>맑음</td>\n",
              "      <td>단일로 - 기타</td>\n",
              "      <td>이륜</td>\n",
              "      <td>남</td>\n",
              "      <td>23세</td>\n",
              "      <td>상해없음</td>\n",
              "      <td>승용</td>\n",
              "      <td>남</td>\n",
              "      <td>71세</td>\n",
              "      <td>경상</td>\n",
              "    </tr>\n",
              "  </tbody>\n",
              "</table>\n",
              "<p>1 rows × 22 columns</p>\n",
              "</div>\n",
              "      <button class=\"colab-df-convert\" onclick=\"convertToInteractive('df-5f0cb547-bf74-4b88-8bb3-43ec5b314b26')\"\n",
              "              title=\"Convert this dataframe to an interactive table.\"\n",
              "              style=\"display:none;\">\n",
              "        \n",
              "  <svg xmlns=\"http://www.w3.org/2000/svg\" height=\"24px\"viewBox=\"0 0 24 24\"\n",
              "       width=\"24px\">\n",
              "    <path d=\"M0 0h24v24H0V0z\" fill=\"none\"/>\n",
              "    <path d=\"M18.56 5.44l.94 2.06.94-2.06 2.06-.94-2.06-.94-.94-2.06-.94 2.06-2.06.94zm-11 1L8.5 8.5l.94-2.06 2.06-.94-2.06-.94L8.5 2.5l-.94 2.06-2.06.94zm10 10l.94 2.06.94-2.06 2.06-.94-2.06-.94-.94-2.06-.94 2.06-2.06.94z\"/><path d=\"M17.41 7.96l-1.37-1.37c-.4-.4-.92-.59-1.43-.59-.52 0-1.04.2-1.43.59L10.3 9.45l-7.72 7.72c-.78.78-.78 2.05 0 2.83L4 21.41c.39.39.9.59 1.41.59.51 0 1.02-.2 1.41-.59l7.78-7.78 2.81-2.81c.8-.78.8-2.07 0-2.86zM5.41 20L4 18.59l7.72-7.72 1.47 1.35L5.41 20z\"/>\n",
              "  </svg>\n",
              "      </button>\n",
              "      \n",
              "  <style>\n",
              "    .colab-df-container {\n",
              "      display:flex;\n",
              "      flex-wrap:wrap;\n",
              "      gap: 12px;\n",
              "    }\n",
              "\n",
              "    .colab-df-convert {\n",
              "      background-color: #E8F0FE;\n",
              "      border: none;\n",
              "      border-radius: 50%;\n",
              "      cursor: pointer;\n",
              "      display: none;\n",
              "      fill: #1967D2;\n",
              "      height: 32px;\n",
              "      padding: 0 0 0 0;\n",
              "      width: 32px;\n",
              "    }\n",
              "\n",
              "    .colab-df-convert:hover {\n",
              "      background-color: #E2EBFA;\n",
              "      box-shadow: 0px 1px 2px rgba(60, 64, 67, 0.3), 0px 1px 3px 1px rgba(60, 64, 67, 0.15);\n",
              "      fill: #174EA6;\n",
              "    }\n",
              "\n",
              "    [theme=dark] .colab-df-convert {\n",
              "      background-color: #3B4455;\n",
              "      fill: #D2E3FC;\n",
              "    }\n",
              "\n",
              "    [theme=dark] .colab-df-convert:hover {\n",
              "      background-color: #434B5C;\n",
              "      box-shadow: 0px 1px 3px 1px rgba(0, 0, 0, 0.15);\n",
              "      filter: drop-shadow(0px 1px 2px rgba(0, 0, 0, 0.3));\n",
              "      fill: #FFFFFF;\n",
              "    }\n",
              "  </style>\n",
              "\n",
              "      <script>\n",
              "        const buttonEl =\n",
              "          document.querySelector('#df-5f0cb547-bf74-4b88-8bb3-43ec5b314b26 button.colab-df-convert');\n",
              "        buttonEl.style.display =\n",
              "          google.colab.kernel.accessAllowed ? 'block' : 'none';\n",
              "\n",
              "        async function convertToInteractive(key) {\n",
              "          const element = document.querySelector('#df-5f0cb547-bf74-4b88-8bb3-43ec5b314b26');\n",
              "          const dataTable =\n",
              "            await google.colab.kernel.invokeFunction('convertToInteractive',\n",
              "                                                     [key], {});\n",
              "          if (!dataTable) return;\n",
              "\n",
              "          const docLinkHtml = 'Like what you see? Visit the ' +\n",
              "            '<a target=\"_blank\" href=https://colab.research.google.com/notebooks/data_table.ipynb>data table notebook</a>'\n",
              "            + ' to learn more about interactive tables.';\n",
              "          element.innerHTML = '';\n",
              "          dataTable['output_type'] = 'display_data';\n",
              "          await google.colab.output.renderOutput(dataTable, element);\n",
              "          const docLink = document.createElement('div');\n",
              "          docLink.innerHTML = docLinkHtml;\n",
              "          element.appendChild(docLink);\n",
              "        }\n",
              "      </script>\n",
              "    </div>\n",
              "  </div>\n",
              "  "
            ]
          },
          "metadata": {},
          "execution_count": 186
        }
      ]
    },
    {
      "cell_type": "code",
      "source": [
        "location.head(1)"
      ],
      "metadata": {
        "colab": {
          "base_uri": "https://localhost:8080/",
          "height": 81
        },
        "id": "mvmz_xg-qSnC",
        "outputId": "882f6e0e-1674-4e53-d331-497408f5f993"
      },
      "execution_count": null,
      "outputs": [
        {
          "output_type": "execute_result",
          "data": {
            "text/plain": [
              "   x_crdnt  y_crdnt\n",
              "0   944074  1944702"
            ],
            "text/html": [
              "\n",
              "  <div id=\"df-a41f953e-f078-47a0-80bb-32c119e30049\">\n",
              "    <div class=\"colab-df-container\">\n",
              "      <div>\n",
              "<style scoped>\n",
              "    .dataframe tbody tr th:only-of-type {\n",
              "        vertical-align: middle;\n",
              "    }\n",
              "\n",
              "    .dataframe tbody tr th {\n",
              "        vertical-align: top;\n",
              "    }\n",
              "\n",
              "    .dataframe thead th {\n",
              "        text-align: right;\n",
              "    }\n",
              "</style>\n",
              "<table border=\"1\" class=\"dataframe\">\n",
              "  <thead>\n",
              "    <tr style=\"text-align: right;\">\n",
              "      <th></th>\n",
              "      <th>x_crdnt</th>\n",
              "      <th>y_crdnt</th>\n",
              "    </tr>\n",
              "  </thead>\n",
              "  <tbody>\n",
              "    <tr>\n",
              "      <th>0</th>\n",
              "      <td>944074</td>\n",
              "      <td>1944702</td>\n",
              "    </tr>\n",
              "  </tbody>\n",
              "</table>\n",
              "</div>\n",
              "      <button class=\"colab-df-convert\" onclick=\"convertToInteractive('df-a41f953e-f078-47a0-80bb-32c119e30049')\"\n",
              "              title=\"Convert this dataframe to an interactive table.\"\n",
              "              style=\"display:none;\">\n",
              "        \n",
              "  <svg xmlns=\"http://www.w3.org/2000/svg\" height=\"24px\"viewBox=\"0 0 24 24\"\n",
              "       width=\"24px\">\n",
              "    <path d=\"M0 0h24v24H0V0z\" fill=\"none\"/>\n",
              "    <path d=\"M18.56 5.44l.94 2.06.94-2.06 2.06-.94-2.06-.94-.94-2.06-.94 2.06-2.06.94zm-11 1L8.5 8.5l.94-2.06 2.06-.94-2.06-.94L8.5 2.5l-.94 2.06-2.06.94zm10 10l.94 2.06.94-2.06 2.06-.94-2.06-.94-.94-2.06-.94 2.06-2.06.94z\"/><path d=\"M17.41 7.96l-1.37-1.37c-.4-.4-.92-.59-1.43-.59-.52 0-1.04.2-1.43.59L10.3 9.45l-7.72 7.72c-.78.78-.78 2.05 0 2.83L4 21.41c.39.39.9.59 1.41.59.51 0 1.02-.2 1.41-.59l7.78-7.78 2.81-2.81c.8-.78.8-2.07 0-2.86zM5.41 20L4 18.59l7.72-7.72 1.47 1.35L5.41 20z\"/>\n",
              "  </svg>\n",
              "      </button>\n",
              "      \n",
              "  <style>\n",
              "    .colab-df-container {\n",
              "      display:flex;\n",
              "      flex-wrap:wrap;\n",
              "      gap: 12px;\n",
              "    }\n",
              "\n",
              "    .colab-df-convert {\n",
              "      background-color: #E8F0FE;\n",
              "      border: none;\n",
              "      border-radius: 50%;\n",
              "      cursor: pointer;\n",
              "      display: none;\n",
              "      fill: #1967D2;\n",
              "      height: 32px;\n",
              "      padding: 0 0 0 0;\n",
              "      width: 32px;\n",
              "    }\n",
              "\n",
              "    .colab-df-convert:hover {\n",
              "      background-color: #E2EBFA;\n",
              "      box-shadow: 0px 1px 2px rgba(60, 64, 67, 0.3), 0px 1px 3px 1px rgba(60, 64, 67, 0.15);\n",
              "      fill: #174EA6;\n",
              "    }\n",
              "\n",
              "    [theme=dark] .colab-df-convert {\n",
              "      background-color: #3B4455;\n",
              "      fill: #D2E3FC;\n",
              "    }\n",
              "\n",
              "    [theme=dark] .colab-df-convert:hover {\n",
              "      background-color: #434B5C;\n",
              "      box-shadow: 0px 1px 3px 1px rgba(0, 0, 0, 0.15);\n",
              "      filter: drop-shadow(0px 1px 2px rgba(0, 0, 0, 0.3));\n",
              "      fill: #FFFFFF;\n",
              "    }\n",
              "  </style>\n",
              "\n",
              "      <script>\n",
              "        const buttonEl =\n",
              "          document.querySelector('#df-a41f953e-f078-47a0-80bb-32c119e30049 button.colab-df-convert');\n",
              "        buttonEl.style.display =\n",
              "          google.colab.kernel.accessAllowed ? 'block' : 'none';\n",
              "\n",
              "        async function convertToInteractive(key) {\n",
              "          const element = document.querySelector('#df-a41f953e-f078-47a0-80bb-32c119e30049');\n",
              "          const dataTable =\n",
              "            await google.colab.kernel.invokeFunction('convertToInteractive',\n",
              "                                                     [key], {});\n",
              "          if (!dataTable) return;\n",
              "\n",
              "          const docLinkHtml = 'Like what you see? Visit the ' +\n",
              "            '<a target=\"_blank\" href=https://colab.research.google.com/notebooks/data_table.ipynb>data table notebook</a>'\n",
              "            + ' to learn more about interactive tables.';\n",
              "          element.innerHTML = '';\n",
              "          dataTable['output_type'] = 'display_data';\n",
              "          await google.colab.output.renderOutput(dataTable, element);\n",
              "          const docLink = document.createElement('div');\n",
              "          docLink.innerHTML = docLinkHtml;\n",
              "          element.appendChild(docLink);\n",
              "        }\n",
              "      </script>\n",
              "    </div>\n",
              "  </div>\n",
              "  "
            ]
          },
          "metadata": {},
          "execution_count": 187
        }
      ]
    },
    {
      "cell_type": "code",
      "source": [
        "from pyproj import Proj, transform\n",
        " \n",
        "epsg5179= Proj(init=\"epsg:5179\")\n",
        "wgs84=Proj(init='epsg:4326')"
      ],
      "metadata": {
        "colab": {
          "base_uri": "https://localhost:8080/"
        },
        "id": "MoSNF0AJp0Vu",
        "outputId": "718f63ee-b555-4338-ed97-e74af7505e9f"
      },
      "execution_count": null,
      "outputs": [
        {
          "output_type": "stream",
          "name": "stderr",
          "text": [
            "/usr/local/lib/python3.8/dist-packages/pyproj/crs/crs.py:141: FutureWarning: '+init=<authority>:<code>' syntax is deprecated. '<authority>:<code>' is the preferred initialization method. When making the change, be mindful of axis order changes: https://pyproj4.github.io/pyproj/stable/gotchas.html#axis-order-changes-in-proj-6\n",
            "  in_crs_string = _prepare_from_proj_string(in_crs_string)\n",
            "/usr/local/lib/python3.8/dist-packages/pyproj/crs/crs.py:141: FutureWarning: '+init=<authority>:<code>' syntax is deprecated. '<authority>:<code>' is the preferred initialization method. When making the change, be mindful of axis order changes: https://pyproj4.github.io/pyproj/stable/gotchas.html#axis-order-changes-in-proj-6\n",
            "  in_crs_string = _prepare_from_proj_string(in_crs_string)\n"
          ]
        }
      ]
    },
    {
      "cell_type": "code",
      "source": [
        "location['transformed'] = location.apply(lambda row : transform(epsg5179, wgs84, row['x_crdnt'], row['y_crdnt']), axis = 1)\n",
        "\n",
        "location.head(1)"
      ],
      "metadata": {
        "colab": {
          "base_uri": "https://localhost:8080/",
          "height": 220
        },
        "id": "PlCRjaBqp4uF",
        "outputId": "17b5cfe7-6465-4b29-a145-8fc6e2dd8c0d"
      },
      "execution_count": null,
      "outputs": [
        {
          "output_type": "stream",
          "name": "stderr",
          "text": [
            "<ipython-input-189-c8d899f6864e>:1: FutureWarning: This function is deprecated. See: https://pyproj4.github.io/pyproj/stable/gotchas.html#upgrading-to-pyproj-2-from-pyproj-1\n",
            "  location['transformed'] = location.apply(lambda row : transform(epsg5179, wgs84, row['x_crdnt'], row['y_crdnt']), axis = 1)\n",
            "<ipython-input-189-c8d899f6864e>:1: SettingWithCopyWarning: \n",
            "A value is trying to be set on a copy of a slice from a DataFrame.\n",
            "Try using .loc[row_indexer,col_indexer] = value instead\n",
            "\n",
            "See the caveats in the documentation: https://pandas.pydata.org/pandas-docs/stable/user_guide/indexing.html#returning-a-view-versus-a-copy\n",
            "  location['transformed'] = location.apply(lambda row : transform(epsg5179, wgs84, row['x_crdnt'], row['y_crdnt']), axis = 1)\n"
          ]
        },
        {
          "output_type": "execute_result",
          "data": {
            "text/plain": [
              "   x_crdnt  y_crdnt                              transformed\n",
              "0   944074  1944702  (126.86728619469758, 37.49988906509788)"
            ],
            "text/html": [
              "\n",
              "  <div id=\"df-25cb1c50-ca53-4584-a756-33453f96fe1e\">\n",
              "    <div class=\"colab-df-container\">\n",
              "      <div>\n",
              "<style scoped>\n",
              "    .dataframe tbody tr th:only-of-type {\n",
              "        vertical-align: middle;\n",
              "    }\n",
              "\n",
              "    .dataframe tbody tr th {\n",
              "        vertical-align: top;\n",
              "    }\n",
              "\n",
              "    .dataframe thead th {\n",
              "        text-align: right;\n",
              "    }\n",
              "</style>\n",
              "<table border=\"1\" class=\"dataframe\">\n",
              "  <thead>\n",
              "    <tr style=\"text-align: right;\">\n",
              "      <th></th>\n",
              "      <th>x_crdnt</th>\n",
              "      <th>y_crdnt</th>\n",
              "      <th>transformed</th>\n",
              "    </tr>\n",
              "  </thead>\n",
              "  <tbody>\n",
              "    <tr>\n",
              "      <th>0</th>\n",
              "      <td>944074</td>\n",
              "      <td>1944702</td>\n",
              "      <td>(126.86728619469758, 37.49988906509788)</td>\n",
              "    </tr>\n",
              "  </tbody>\n",
              "</table>\n",
              "</div>\n",
              "      <button class=\"colab-df-convert\" onclick=\"convertToInteractive('df-25cb1c50-ca53-4584-a756-33453f96fe1e')\"\n",
              "              title=\"Convert this dataframe to an interactive table.\"\n",
              "              style=\"display:none;\">\n",
              "        \n",
              "  <svg xmlns=\"http://www.w3.org/2000/svg\" height=\"24px\"viewBox=\"0 0 24 24\"\n",
              "       width=\"24px\">\n",
              "    <path d=\"M0 0h24v24H0V0z\" fill=\"none\"/>\n",
              "    <path d=\"M18.56 5.44l.94 2.06.94-2.06 2.06-.94-2.06-.94-.94-2.06-.94 2.06-2.06.94zm-11 1L8.5 8.5l.94-2.06 2.06-.94-2.06-.94L8.5 2.5l-.94 2.06-2.06.94zm10 10l.94 2.06.94-2.06 2.06-.94-2.06-.94-.94-2.06-.94 2.06-2.06.94z\"/><path d=\"M17.41 7.96l-1.37-1.37c-.4-.4-.92-.59-1.43-.59-.52 0-1.04.2-1.43.59L10.3 9.45l-7.72 7.72c-.78.78-.78 2.05 0 2.83L4 21.41c.39.39.9.59 1.41.59.51 0 1.02-.2 1.41-.59l7.78-7.78 2.81-2.81c.8-.78.8-2.07 0-2.86zM5.41 20L4 18.59l7.72-7.72 1.47 1.35L5.41 20z\"/>\n",
              "  </svg>\n",
              "      </button>\n",
              "      \n",
              "  <style>\n",
              "    .colab-df-container {\n",
              "      display:flex;\n",
              "      flex-wrap:wrap;\n",
              "      gap: 12px;\n",
              "    }\n",
              "\n",
              "    .colab-df-convert {\n",
              "      background-color: #E8F0FE;\n",
              "      border: none;\n",
              "      border-radius: 50%;\n",
              "      cursor: pointer;\n",
              "      display: none;\n",
              "      fill: #1967D2;\n",
              "      height: 32px;\n",
              "      padding: 0 0 0 0;\n",
              "      width: 32px;\n",
              "    }\n",
              "\n",
              "    .colab-df-convert:hover {\n",
              "      background-color: #E2EBFA;\n",
              "      box-shadow: 0px 1px 2px rgba(60, 64, 67, 0.3), 0px 1px 3px 1px rgba(60, 64, 67, 0.15);\n",
              "      fill: #174EA6;\n",
              "    }\n",
              "\n",
              "    [theme=dark] .colab-df-convert {\n",
              "      background-color: #3B4455;\n",
              "      fill: #D2E3FC;\n",
              "    }\n",
              "\n",
              "    [theme=dark] .colab-df-convert:hover {\n",
              "      background-color: #434B5C;\n",
              "      box-shadow: 0px 1px 3px 1px rgba(0, 0, 0, 0.15);\n",
              "      filter: drop-shadow(0px 1px 2px rgba(0, 0, 0, 0.3));\n",
              "      fill: #FFFFFF;\n",
              "    }\n",
              "  </style>\n",
              "\n",
              "      <script>\n",
              "        const buttonEl =\n",
              "          document.querySelector('#df-25cb1c50-ca53-4584-a756-33453f96fe1e button.colab-df-convert');\n",
              "        buttonEl.style.display =\n",
              "          google.colab.kernel.accessAllowed ? 'block' : 'none';\n",
              "\n",
              "        async function convertToInteractive(key) {\n",
              "          const element = document.querySelector('#df-25cb1c50-ca53-4584-a756-33453f96fe1e');\n",
              "          const dataTable =\n",
              "            await google.colab.kernel.invokeFunction('convertToInteractive',\n",
              "                                                     [key], {});\n",
              "          if (!dataTable) return;\n",
              "\n",
              "          const docLinkHtml = 'Like what you see? Visit the ' +\n",
              "            '<a target=\"_blank\" href=https://colab.research.google.com/notebooks/data_table.ipynb>data table notebook</a>'\n",
              "            + ' to learn more about interactive tables.';\n",
              "          element.innerHTML = '';\n",
              "          dataTable['output_type'] = 'display_data';\n",
              "          await google.colab.output.renderOutput(dataTable, element);\n",
              "          const docLink = document.createElement('div');\n",
              "          docLink.innerHTML = docLinkHtml;\n",
              "          element.appendChild(docLink);\n",
              "        }\n",
              "      </script>\n",
              "    </div>\n",
              "  </div>\n",
              "  "
            ]
          },
          "metadata": {},
          "execution_count": 189
        }
      ]
    },
    {
      "cell_type": "code",
      "source": [
        "taas_df['x'] = location['transformed'].apply(lambda x : x[0])\n",
        "taas_df['y'] = location['transformed'].apply(lambda x : x[1])\n",
        "\n",
        "taas_df.head(1)"
      ],
      "metadata": {
        "colab": {
          "base_uri": "https://localhost:8080/",
          "height": 224
        },
        "id": "2QLMuElup6qN",
        "outputId": "19284e28-d201-43d7-dd99-5f26f885d22f"
      },
      "execution_count": null,
      "outputs": [
        {
          "output_type": "execute_result",
          "data": {
            "text/plain": [
              "               사고번호             사고일시   요일            시군구  사고내용  사망자수  중상자수  \\\n",
              "0  2019010100100002  2019년 1월 1일 00시  화요일  서울특별시 구로구 고척동  경상사고     0     0   \n",
              "\n",
              "   경상자수  부상신고자수      사고유형  ... 가해운전자 차종 가해운전자 성별 가해운전자 연령 가해운전자 상해정도 피해운전자 차종  \\\n",
              "0     1       0  차대차 - 추돌  ...       이륜        남      23세       상해없음       승용   \n",
              "\n",
              "  피해운전자 성별 피해운전자 연령 피해운전자 상해정도           x          y  \n",
              "0        남      71세         경상  126.867286  37.499889  \n",
              "\n",
              "[1 rows x 24 columns]"
            ],
            "text/html": [
              "\n",
              "  <div id=\"df-2f4c3795-9206-411a-a325-545040200a4f\">\n",
              "    <div class=\"colab-df-container\">\n",
              "      <div>\n",
              "<style scoped>\n",
              "    .dataframe tbody tr th:only-of-type {\n",
              "        vertical-align: middle;\n",
              "    }\n",
              "\n",
              "    .dataframe tbody tr th {\n",
              "        vertical-align: top;\n",
              "    }\n",
              "\n",
              "    .dataframe thead th {\n",
              "        text-align: right;\n",
              "    }\n",
              "</style>\n",
              "<table border=\"1\" class=\"dataframe\">\n",
              "  <thead>\n",
              "    <tr style=\"text-align: right;\">\n",
              "      <th></th>\n",
              "      <th>사고번호</th>\n",
              "      <th>사고일시</th>\n",
              "      <th>요일</th>\n",
              "      <th>시군구</th>\n",
              "      <th>사고내용</th>\n",
              "      <th>사망자수</th>\n",
              "      <th>중상자수</th>\n",
              "      <th>경상자수</th>\n",
              "      <th>부상신고자수</th>\n",
              "      <th>사고유형</th>\n",
              "      <th>...</th>\n",
              "      <th>가해운전자 차종</th>\n",
              "      <th>가해운전자 성별</th>\n",
              "      <th>가해운전자 연령</th>\n",
              "      <th>가해운전자 상해정도</th>\n",
              "      <th>피해운전자 차종</th>\n",
              "      <th>피해운전자 성별</th>\n",
              "      <th>피해운전자 연령</th>\n",
              "      <th>피해운전자 상해정도</th>\n",
              "      <th>x</th>\n",
              "      <th>y</th>\n",
              "    </tr>\n",
              "  </thead>\n",
              "  <tbody>\n",
              "    <tr>\n",
              "      <th>0</th>\n",
              "      <td>2019010100100002</td>\n",
              "      <td>2019년 1월 1일 00시</td>\n",
              "      <td>화요일</td>\n",
              "      <td>서울특별시 구로구 고척동</td>\n",
              "      <td>경상사고</td>\n",
              "      <td>0</td>\n",
              "      <td>0</td>\n",
              "      <td>1</td>\n",
              "      <td>0</td>\n",
              "      <td>차대차 - 추돌</td>\n",
              "      <td>...</td>\n",
              "      <td>이륜</td>\n",
              "      <td>남</td>\n",
              "      <td>23세</td>\n",
              "      <td>상해없음</td>\n",
              "      <td>승용</td>\n",
              "      <td>남</td>\n",
              "      <td>71세</td>\n",
              "      <td>경상</td>\n",
              "      <td>126.867286</td>\n",
              "      <td>37.499889</td>\n",
              "    </tr>\n",
              "  </tbody>\n",
              "</table>\n",
              "<p>1 rows × 24 columns</p>\n",
              "</div>\n",
              "      <button class=\"colab-df-convert\" onclick=\"convertToInteractive('df-2f4c3795-9206-411a-a325-545040200a4f')\"\n",
              "              title=\"Convert this dataframe to an interactive table.\"\n",
              "              style=\"display:none;\">\n",
              "        \n",
              "  <svg xmlns=\"http://www.w3.org/2000/svg\" height=\"24px\"viewBox=\"0 0 24 24\"\n",
              "       width=\"24px\">\n",
              "    <path d=\"M0 0h24v24H0V0z\" fill=\"none\"/>\n",
              "    <path d=\"M18.56 5.44l.94 2.06.94-2.06 2.06-.94-2.06-.94-.94-2.06-.94 2.06-2.06.94zm-11 1L8.5 8.5l.94-2.06 2.06-.94-2.06-.94L8.5 2.5l-.94 2.06-2.06.94zm10 10l.94 2.06.94-2.06 2.06-.94-2.06-.94-.94-2.06-.94 2.06-2.06.94z\"/><path d=\"M17.41 7.96l-1.37-1.37c-.4-.4-.92-.59-1.43-.59-.52 0-1.04.2-1.43.59L10.3 9.45l-7.72 7.72c-.78.78-.78 2.05 0 2.83L4 21.41c.39.39.9.59 1.41.59.51 0 1.02-.2 1.41-.59l7.78-7.78 2.81-2.81c.8-.78.8-2.07 0-2.86zM5.41 20L4 18.59l7.72-7.72 1.47 1.35L5.41 20z\"/>\n",
              "  </svg>\n",
              "      </button>\n",
              "      \n",
              "  <style>\n",
              "    .colab-df-container {\n",
              "      display:flex;\n",
              "      flex-wrap:wrap;\n",
              "      gap: 12px;\n",
              "    }\n",
              "\n",
              "    .colab-df-convert {\n",
              "      background-color: #E8F0FE;\n",
              "      border: none;\n",
              "      border-radius: 50%;\n",
              "      cursor: pointer;\n",
              "      display: none;\n",
              "      fill: #1967D2;\n",
              "      height: 32px;\n",
              "      padding: 0 0 0 0;\n",
              "      width: 32px;\n",
              "    }\n",
              "\n",
              "    .colab-df-convert:hover {\n",
              "      background-color: #E2EBFA;\n",
              "      box-shadow: 0px 1px 2px rgba(60, 64, 67, 0.3), 0px 1px 3px 1px rgba(60, 64, 67, 0.15);\n",
              "      fill: #174EA6;\n",
              "    }\n",
              "\n",
              "    [theme=dark] .colab-df-convert {\n",
              "      background-color: #3B4455;\n",
              "      fill: #D2E3FC;\n",
              "    }\n",
              "\n",
              "    [theme=dark] .colab-df-convert:hover {\n",
              "      background-color: #434B5C;\n",
              "      box-shadow: 0px 1px 3px 1px rgba(0, 0, 0, 0.15);\n",
              "      filter: drop-shadow(0px 1px 2px rgba(0, 0, 0, 0.3));\n",
              "      fill: #FFFFFF;\n",
              "    }\n",
              "  </style>\n",
              "\n",
              "      <script>\n",
              "        const buttonEl =\n",
              "          document.querySelector('#df-2f4c3795-9206-411a-a325-545040200a4f button.colab-df-convert');\n",
              "        buttonEl.style.display =\n",
              "          google.colab.kernel.accessAllowed ? 'block' : 'none';\n",
              "\n",
              "        async function convertToInteractive(key) {\n",
              "          const element = document.querySelector('#df-2f4c3795-9206-411a-a325-545040200a4f');\n",
              "          const dataTable =\n",
              "            await google.colab.kernel.invokeFunction('convertToInteractive',\n",
              "                                                     [key], {});\n",
              "          if (!dataTable) return;\n",
              "\n",
              "          const docLinkHtml = 'Like what you see? Visit the ' +\n",
              "            '<a target=\"_blank\" href=https://colab.research.google.com/notebooks/data_table.ipynb>data table notebook</a>'\n",
              "            + ' to learn more about interactive tables.';\n",
              "          element.innerHTML = '';\n",
              "          dataTable['output_type'] = 'display_data';\n",
              "          await google.colab.output.renderOutput(dataTable, element);\n",
              "          const docLink = document.createElement('div');\n",
              "          docLink.innerHTML = docLinkHtml;\n",
              "          element.appendChild(docLink);\n",
              "        }\n",
              "      </script>\n",
              "    </div>\n",
              "  </div>\n",
              "  "
            ]
          },
          "metadata": {},
          "execution_count": 190
        }
      ]
    },
    {
      "cell_type": "code",
      "source": [
        "print(f'taas_df: {len(taas_df)}')"
      ],
      "metadata": {
        "colab": {
          "base_uri": "https://localhost:8080/"
        },
        "id": "jFmPyYdfwhKL",
        "outputId": "41e8cad4-7ce4-4a8a-9469-3bd3a5b757f8"
      },
      "execution_count": null,
      "outputs": [
        {
          "output_type": "stream",
          "name": "stdout",
          "text": [
            "taas_df: 25352\n"
          ]
        }
      ]
    },
    {
      "cell_type": "code",
      "source": [
        "taas_df.to_csv('data/taas/after/seoul.csv', index = False, encoding = 'cp949')"
      ],
      "metadata": {
        "id": "_1aiC01Qp84y"
      },
      "execution_count": null,
      "outputs": []
    },
    {
      "cell_type": "markdown",
      "source": [
        "# Combine all dataframes"
      ],
      "metadata": {
        "id": "58bQrSMGzELg"
      }
    },
    {
      "cell_type": "code",
      "source": [
        "seoul = pd.read_csv('data/taas/after/seoul.csv', encoding = 'cp949')\n",
        "busan = pd.read_csv('data/taas/after/busan.csv', encoding = 'cp949')\n",
        "daejeon = pd.read_csv('data/taas/after/daejeon.csv', encoding = 'cp949')\n",
        "chungnam = pd.read_csv('data/taas/after/chungnam.csv', encoding = 'cp949')\n",
        "sejong = pd.read_csv('data/taas/after/sejong.csv', encoding = 'cp949')\n",
        "daegu = pd.read_csv('data/taas/after/daegu.csv', encoding = 'cp949')\n",
        "incheon = pd.read_csv('data/taas/after/incheon.csv', encoding = 'cp949')\n",
        "gwangju = pd.read_csv('data/taas/after/gwangju.csv', encoding = 'cp949')\n",
        "ulsan = pd.read_csv('data/taas/after/ulsan.csv', encoding = 'cp949')"
      ],
      "metadata": {
        "id": "Voqad_X3zJLC"
      },
      "execution_count": null,
      "outputs": []
    },
    {
      "cell_type": "code",
      "source": [
        "print(f'seoul: {len(seoul)}')\n",
        "print(f'busan: {len(busan)}')\n",
        "print(f'daejeon: {len(daejeon)}')\n",
        "print(f'chungnam: {len(chungnam)}')\n",
        "print(f'sejong: {len(sejong)}')\n",
        "print(f'daegu: {len(daegu)}')\n",
        "print(f'incheon: {len(incheon)}')\n",
        "print(f'gwangju: {len(gwangju)}')\n",
        "print(f'ulsan: {len(ulsan)}')"
      ],
      "metadata": {
        "colab": {
          "base_uri": "https://localhost:8080/"
        },
        "id": "5DM0FuuF0WtX",
        "outputId": "ed2c43f2-7eea-4e56-ff2b-4e80711a75ac"
      },
      "execution_count": null,
      "outputs": [
        {
          "output_type": "stream",
          "name": "stdout",
          "text": [
            "seoul: 25352\n",
            "busan: 8376\n",
            "daejeon: 3467\n",
            "chungnam: 4666\n",
            "sejong: 409\n",
            "daegu: 8881\n",
            "incheon: 3951\n",
            "gwangju: 3497\n",
            "ulsan: 2816\n"
          ]
        }
      ]
    },
    {
      "cell_type": "code",
      "source": [
        "taas_only = pd.concat([seoul, busan, daejeon, chungnam, sejong, daegu, incheon, gwangju, ulsan])"
      ],
      "metadata": {
        "id": "wrctJ9fj1PI2"
      },
      "execution_count": null,
      "outputs": []
    },
    {
      "cell_type": "code",
      "source": [
        "print(f'all location: {len(taas_only)}')"
      ],
      "metadata": {
        "colab": {
          "base_uri": "https://localhost:8080/"
        },
        "id": "6K2qgcVk1oci",
        "outputId": "bcc77a15-8cb7-49d5-8d6b-6d3b4ef880e3"
      },
      "execution_count": null,
      "outputs": [
        {
          "output_type": "stream",
          "name": "stdout",
          "text": [
            "all location: 61415\n"
          ]
        }
      ]
    },
    {
      "cell_type": "code",
      "source": [
        "taas_only.to_csv('data/taas/taas_only.csv', index = False, encoding = 'cp949')"
      ],
      "metadata": {
        "id": "jK5SifvG1_5x"
      },
      "execution_count": null,
      "outputs": []
    }
  ]
}