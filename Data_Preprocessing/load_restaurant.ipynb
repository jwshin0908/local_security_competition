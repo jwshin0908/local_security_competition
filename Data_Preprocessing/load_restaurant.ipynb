{
  "cells": [
    {
      "cell_type": "markdown",
      "source": [
        "# 음식점 데이터 \n",
        "[LOCALDATA](https://www.localdata.go.kr/main.do)의 `식품>음식점>일반음식점` 데이터"
      ],
      "metadata": {
        "id": "wIcht7V3m9co"
      }
    },
    {
      "cell_type": "code",
      "source": [
        "#@title google drive mount\n",
        "from google.colab import drive\n",
        "drive.mount('/content/drive')"
      ],
      "metadata": {
        "colab": {
          "base_uri": "https://localhost:8080/"
        },
        "id": "oAoKKNPMFanC",
        "outputId": "cb182780-e56d-4ee1-d7b3-fdef7203f6c3"
      },
      "execution_count": 1,
      "outputs": [
        {
          "output_type": "stream",
          "name": "stdout",
          "text": [
            "Mounted at /content/drive\n"
          ]
        }
      ]
    },
    {
      "cell_type": "code",
      "source": [
        "#@title 압축 풀기\n",
        "!unzip data/restaurant/07_23_02_P_CSV.zip -d data/restaurant/"
      ],
      "metadata": {
        "colab": {
          "base_uri": "https://localhost:8080/"
        },
        "id": "ZZHb4ZaTm--_",
        "outputId": "ac30038e-5d11-49cf-a45a-6755b8c8d0e9"
      },
      "execution_count": 60,
      "outputs": [
        {
          "output_type": "stream",
          "name": "stdout",
          "text": [
            "Archive:  data/restaurant/07_23_02_P_CSV.zip\n",
            "  inflating: data/restaurant/fulldata_07_23_02_P_������������.csv  \n"
          ]
        }
      ]
    },
    {
      "cell_type": "code",
      "source": [
        "import pandas as pd"
      ],
      "metadata": {
        "id": "Ky6G1Rcen8dr"
      },
      "execution_count": 6,
      "outputs": []
    },
    {
      "cell_type": "code",
      "source": [
        "rstr = pd.read_csv('data/restaurant/uheung.csv', encoding='cp949')\n",
        "rstr.head(5)\n",
        "print(f'national wide size: {len(rstr)}')"
      ],
      "metadata": {
        "colab": {
          "base_uri": "https://localhost:8080/"
        },
        "id": "IxkyOfRLokOe",
        "outputId": "4370b42f-fc58-4b16-ece4-cf924ca25fdc"
      },
      "execution_count": 63,
      "outputs": [
        {
          "output_type": "stream",
          "name": "stdout",
          "text": [
            "national wide size: 52371\n"
          ]
        },
        {
          "output_type": "stream",
          "name": "stderr",
          "text": [
            "/usr/local/lib/python3.8/dist-packages/IPython/core/interactiveshell.py:3326: DtypeWarning: Columns (11,44,45) have mixed types.Specify dtype option on import or set low_memory=False.\n",
            "  exec(code_obj, self.user_global_ns, self.user_ns)\n"
          ]
        }
      ]
    },
    {
      "cell_type": "code",
      "source": [
        "rstr.columns"
      ],
      "metadata": {
        "colab": {
          "base_uri": "https://localhost:8080/"
        },
        "id": "IpM9DhOEpKQK",
        "outputId": "bc814293-6bf2-4781-fea0-46540fa3382c"
      },
      "execution_count": 64,
      "outputs": [
        {
          "output_type": "execute_result",
          "data": {
            "text/plain": [
              "Index(['번호', '개방서비스명', '개방서비스아이디', '개방자치단체코드', '관리번호', '인허가일자', '인허가취소일자',\n",
              "       '영업상태구분코드', '영업상태명', '상세영업상태코드', '상세영업상태명', '폐업일자', '휴업시작일자', '휴업종료일자',\n",
              "       '재개업일자', '소재지전화', '소재지면적', '소재지우편번호', '소재지전체주소', '도로명전체주소', '도로명우편번호',\n",
              "       '사업장명', '최종수정시점', '데이터갱신구분', '데이터갱신일자', '업태구분명', '좌표정보(x)', '좌표정보(y)',\n",
              "       '위생업태명', '남성종사자수', '여성종사자수', '영업장주변구분명', '등급구분명', '급수시설구분명', '총직원수',\n",
              "       '본사직원수', '공장사무직직원수', '공장판매직직원수', '공장생산직직원수', '건물소유구분명', '보증액', '월세액',\n",
              "       '다중이용업소여부', '시설총규모', '전통업소지정번호', '전통업소주된음식', '홈페이지', 'Unnamed: 47'],\n",
              "      dtype='object')"
            ]
          },
          "metadata": {},
          "execution_count": 64
        }
      ]
    },
    {
      "cell_type": "markdown",
      "source": [
        "## 챙길 컬럼\n",
        "- `관리번호`\n",
        "- `개방자치단체코드`\n",
        "- `좌표정보(x)`\n",
        "- `좌표정보(y)`\n",
        "\n",
        "--------------------------\n",
        "- 일자 데이터 `str` -> `date` 변환 \n",
        "- && `nw_rstr['폐업일자']` > '2021-12-31'  \n",
        "- && 2019-01-01 >= `nw_rstr['인허가일자']`   "
      ],
      "metadata": {
        "id": "652p1-nctYjd"
      }
    },
    {
      "cell_type": "code",
      "source": [
        "#@title datatype str로 통일\n",
        "rstr['폐업일자'].map(type).unique()\n",
        "\n",
        "# type == str -> 폐업했다는 소리\n",
        "# type == float -> 아직 폐업 안 해서 NaN값"
      ],
      "metadata": {
        "colab": {
          "base_uri": "https://localhost:8080/"
        },
        "id": "cYFmxKePZPqj",
        "outputId": "42b85a7b-36a7-4d05-9dd1-1d6f9601b0c8"
      },
      "execution_count": 65,
      "outputs": [
        {
          "output_type": "execute_result",
          "data": {
            "text/plain": [
              "array([<class 'float'>, <class 'str'>], dtype=object)"
            ]
          },
          "metadata": {},
          "execution_count": 65
        }
      ]
    },
    {
      "cell_type": "code",
      "source": [
        "rstr['폐업일자'] = rstr['폐업일자'].map(str)\n",
        "rstr['인허가일자'] = rstr['인허가일자'].map(str)"
      ],
      "metadata": {
        "id": "O0j53FglcqeJ"
      },
      "execution_count": 66,
      "outputs": []
    },
    {
      "cell_type": "code",
      "source": [
        "rstr[['폐업일자', '인허가일자']]"
      ],
      "metadata": {
        "colab": {
          "base_uri": "https://localhost:8080/",
          "height": 424
        },
        "id": "dny1tfRbmSSp",
        "outputId": "d26dc9fc-74d9-4856-cb1e-71cebe6ca058"
      },
      "execution_count": 67,
      "outputs": [
        {
          "output_type": "execute_result",
          "data": {
            "text/plain": [
              "             폐업일자       인허가일자\n",
              "0             nan  2006-06-05\n",
              "1             nan  2006-07-10\n",
              "2             nan  2006-07-28\n",
              "3             nan  2006-10-17\n",
              "4             nan  2006-10-20\n",
              "...           ...         ...\n",
              "52366  2022-12-27  2020-12-09\n",
              "52367  2021-02-01  2020-11-26\n",
              "52368  2021-01-06  2020-03-17\n",
              "52369  2013-05-27  2004-12-21\n",
              "52370  2021-11-08  2021-02-05\n",
              "\n",
              "[52371 rows x 2 columns]"
            ],
            "text/html": [
              "\n",
              "  <div id=\"df-6466f846-5235-483e-a556-628134f8d04d\">\n",
              "    <div class=\"colab-df-container\">\n",
              "      <div>\n",
              "<style scoped>\n",
              "    .dataframe tbody tr th:only-of-type {\n",
              "        vertical-align: middle;\n",
              "    }\n",
              "\n",
              "    .dataframe tbody tr th {\n",
              "        vertical-align: top;\n",
              "    }\n",
              "\n",
              "    .dataframe thead th {\n",
              "        text-align: right;\n",
              "    }\n",
              "</style>\n",
              "<table border=\"1\" class=\"dataframe\">\n",
              "  <thead>\n",
              "    <tr style=\"text-align: right;\">\n",
              "      <th></th>\n",
              "      <th>폐업일자</th>\n",
              "      <th>인허가일자</th>\n",
              "    </tr>\n",
              "  </thead>\n",
              "  <tbody>\n",
              "    <tr>\n",
              "      <th>0</th>\n",
              "      <td>nan</td>\n",
              "      <td>2006-06-05</td>\n",
              "    </tr>\n",
              "    <tr>\n",
              "      <th>1</th>\n",
              "      <td>nan</td>\n",
              "      <td>2006-07-10</td>\n",
              "    </tr>\n",
              "    <tr>\n",
              "      <th>2</th>\n",
              "      <td>nan</td>\n",
              "      <td>2006-07-28</td>\n",
              "    </tr>\n",
              "    <tr>\n",
              "      <th>3</th>\n",
              "      <td>nan</td>\n",
              "      <td>2006-10-17</td>\n",
              "    </tr>\n",
              "    <tr>\n",
              "      <th>4</th>\n",
              "      <td>nan</td>\n",
              "      <td>2006-10-20</td>\n",
              "    </tr>\n",
              "    <tr>\n",
              "      <th>...</th>\n",
              "      <td>...</td>\n",
              "      <td>...</td>\n",
              "    </tr>\n",
              "    <tr>\n",
              "      <th>52366</th>\n",
              "      <td>2022-12-27</td>\n",
              "      <td>2020-12-09</td>\n",
              "    </tr>\n",
              "    <tr>\n",
              "      <th>52367</th>\n",
              "      <td>2021-02-01</td>\n",
              "      <td>2020-11-26</td>\n",
              "    </tr>\n",
              "    <tr>\n",
              "      <th>52368</th>\n",
              "      <td>2021-01-06</td>\n",
              "      <td>2020-03-17</td>\n",
              "    </tr>\n",
              "    <tr>\n",
              "      <th>52369</th>\n",
              "      <td>2013-05-27</td>\n",
              "      <td>2004-12-21</td>\n",
              "    </tr>\n",
              "    <tr>\n",
              "      <th>52370</th>\n",
              "      <td>2021-11-08</td>\n",
              "      <td>2021-02-05</td>\n",
              "    </tr>\n",
              "  </tbody>\n",
              "</table>\n",
              "<p>52371 rows × 2 columns</p>\n",
              "</div>\n",
              "      <button class=\"colab-df-convert\" onclick=\"convertToInteractive('df-6466f846-5235-483e-a556-628134f8d04d')\"\n",
              "              title=\"Convert this dataframe to an interactive table.\"\n",
              "              style=\"display:none;\">\n",
              "        \n",
              "  <svg xmlns=\"http://www.w3.org/2000/svg\" height=\"24px\"viewBox=\"0 0 24 24\"\n",
              "       width=\"24px\">\n",
              "    <path d=\"M0 0h24v24H0V0z\" fill=\"none\"/>\n",
              "    <path d=\"M18.56 5.44l.94 2.06.94-2.06 2.06-.94-2.06-.94-.94-2.06-.94 2.06-2.06.94zm-11 1L8.5 8.5l.94-2.06 2.06-.94-2.06-.94L8.5 2.5l-.94 2.06-2.06.94zm10 10l.94 2.06.94-2.06 2.06-.94-2.06-.94-.94-2.06-.94 2.06-2.06.94z\"/><path d=\"M17.41 7.96l-1.37-1.37c-.4-.4-.92-.59-1.43-.59-.52 0-1.04.2-1.43.59L10.3 9.45l-7.72 7.72c-.78.78-.78 2.05 0 2.83L4 21.41c.39.39.9.59 1.41.59.51 0 1.02-.2 1.41-.59l7.78-7.78 2.81-2.81c.8-.78.8-2.07 0-2.86zM5.41 20L4 18.59l7.72-7.72 1.47 1.35L5.41 20z\"/>\n",
              "  </svg>\n",
              "      </button>\n",
              "      \n",
              "  <style>\n",
              "    .colab-df-container {\n",
              "      display:flex;\n",
              "      flex-wrap:wrap;\n",
              "      gap: 12px;\n",
              "    }\n",
              "\n",
              "    .colab-df-convert {\n",
              "      background-color: #E8F0FE;\n",
              "      border: none;\n",
              "      border-radius: 50%;\n",
              "      cursor: pointer;\n",
              "      display: none;\n",
              "      fill: #1967D2;\n",
              "      height: 32px;\n",
              "      padding: 0 0 0 0;\n",
              "      width: 32px;\n",
              "    }\n",
              "\n",
              "    .colab-df-convert:hover {\n",
              "      background-color: #E2EBFA;\n",
              "      box-shadow: 0px 1px 2px rgba(60, 64, 67, 0.3), 0px 1px 3px 1px rgba(60, 64, 67, 0.15);\n",
              "      fill: #174EA6;\n",
              "    }\n",
              "\n",
              "    [theme=dark] .colab-df-convert {\n",
              "      background-color: #3B4455;\n",
              "      fill: #D2E3FC;\n",
              "    }\n",
              "\n",
              "    [theme=dark] .colab-df-convert:hover {\n",
              "      background-color: #434B5C;\n",
              "      box-shadow: 0px 1px 3px 1px rgba(0, 0, 0, 0.15);\n",
              "      filter: drop-shadow(0px 1px 2px rgba(0, 0, 0, 0.3));\n",
              "      fill: #FFFFFF;\n",
              "    }\n",
              "  </style>\n",
              "\n",
              "      <script>\n",
              "        const buttonEl =\n",
              "          document.querySelector('#df-6466f846-5235-483e-a556-628134f8d04d button.colab-df-convert');\n",
              "        buttonEl.style.display =\n",
              "          google.colab.kernel.accessAllowed ? 'block' : 'none';\n",
              "\n",
              "        async function convertToInteractive(key) {\n",
              "          const element = document.querySelector('#df-6466f846-5235-483e-a556-628134f8d04d');\n",
              "          const dataTable =\n",
              "            await google.colab.kernel.invokeFunction('convertToInteractive',\n",
              "                                                     [key], {});\n",
              "          if (!dataTable) return;\n",
              "\n",
              "          const docLinkHtml = 'Like what you see? Visit the ' +\n",
              "            '<a target=\"_blank\" href=https://colab.research.google.com/notebooks/data_table.ipynb>data table notebook</a>'\n",
              "            + ' to learn more about interactive tables.';\n",
              "          element.innerHTML = '';\n",
              "          dataTable['output_type'] = 'display_data';\n",
              "          await google.colab.output.renderOutput(dataTable, element);\n",
              "          const docLink = document.createElement('div');\n",
              "          docLink.innerHTML = docLinkHtml;\n",
              "          element.appendChild(docLink);\n",
              "        }\n",
              "      </script>\n",
              "    </div>\n",
              "  </div>\n",
              "  "
            ]
          },
          "metadata": {},
          "execution_count": 67
        }
      ]
    },
    {
      "cell_type": "code",
      "source": [
        "#@title '1996-06-00' 같이 00일로 되어있는 날짜 01로 변경\n",
        "rstr['폐업일자'] = rstr['폐업일자'].apply(lambda x : x[:-2]+'01' if x[-2:] == '00' else x)\n",
        "rstr['인허가일자'] = rstr['인허가일자'].apply(lambda x : x[:-2]+'01' if x[-2:] == '00' else x)"
      ],
      "metadata": {
        "id": "UR63csTNPYdO"
      },
      "execution_count": 68,
      "outputs": []
    },
    {
      "cell_type": "code",
      "source": [
        "rstr[['폐업일자', '인허가일자']]"
      ],
      "metadata": {
        "colab": {
          "base_uri": "https://localhost:8080/",
          "height": 424
        },
        "id": "rdj8V3TAgBjf",
        "outputId": "4430f3d9-125c-4d83-e826-f61fa4c3a8fb"
      },
      "execution_count": 69,
      "outputs": [
        {
          "output_type": "execute_result",
          "data": {
            "text/plain": [
              "             폐업일자       인허가일자\n",
              "0             nan  2006-06-05\n",
              "1             nan  2006-07-10\n",
              "2             nan  2006-07-28\n",
              "3             nan  2006-10-17\n",
              "4             nan  2006-10-20\n",
              "...           ...         ...\n",
              "52366  2022-12-27  2020-12-09\n",
              "52367  2021-02-01  2020-11-26\n",
              "52368  2021-01-06  2020-03-17\n",
              "52369  2013-05-27  2004-12-21\n",
              "52370  2021-11-08  2021-02-05\n",
              "\n",
              "[52371 rows x 2 columns]"
            ],
            "text/html": [
              "\n",
              "  <div id=\"df-87ff1024-d578-4029-99c5-f95edbe16961\">\n",
              "    <div class=\"colab-df-container\">\n",
              "      <div>\n",
              "<style scoped>\n",
              "    .dataframe tbody tr th:only-of-type {\n",
              "        vertical-align: middle;\n",
              "    }\n",
              "\n",
              "    .dataframe tbody tr th {\n",
              "        vertical-align: top;\n",
              "    }\n",
              "\n",
              "    .dataframe thead th {\n",
              "        text-align: right;\n",
              "    }\n",
              "</style>\n",
              "<table border=\"1\" class=\"dataframe\">\n",
              "  <thead>\n",
              "    <tr style=\"text-align: right;\">\n",
              "      <th></th>\n",
              "      <th>폐업일자</th>\n",
              "      <th>인허가일자</th>\n",
              "    </tr>\n",
              "  </thead>\n",
              "  <tbody>\n",
              "    <tr>\n",
              "      <th>0</th>\n",
              "      <td>nan</td>\n",
              "      <td>2006-06-05</td>\n",
              "    </tr>\n",
              "    <tr>\n",
              "      <th>1</th>\n",
              "      <td>nan</td>\n",
              "      <td>2006-07-10</td>\n",
              "    </tr>\n",
              "    <tr>\n",
              "      <th>2</th>\n",
              "      <td>nan</td>\n",
              "      <td>2006-07-28</td>\n",
              "    </tr>\n",
              "    <tr>\n",
              "      <th>3</th>\n",
              "      <td>nan</td>\n",
              "      <td>2006-10-17</td>\n",
              "    </tr>\n",
              "    <tr>\n",
              "      <th>4</th>\n",
              "      <td>nan</td>\n",
              "      <td>2006-10-20</td>\n",
              "    </tr>\n",
              "    <tr>\n",
              "      <th>...</th>\n",
              "      <td>...</td>\n",
              "      <td>...</td>\n",
              "    </tr>\n",
              "    <tr>\n",
              "      <th>52366</th>\n",
              "      <td>2022-12-27</td>\n",
              "      <td>2020-12-09</td>\n",
              "    </tr>\n",
              "    <tr>\n",
              "      <th>52367</th>\n",
              "      <td>2021-02-01</td>\n",
              "      <td>2020-11-26</td>\n",
              "    </tr>\n",
              "    <tr>\n",
              "      <th>52368</th>\n",
              "      <td>2021-01-06</td>\n",
              "      <td>2020-03-17</td>\n",
              "    </tr>\n",
              "    <tr>\n",
              "      <th>52369</th>\n",
              "      <td>2013-05-27</td>\n",
              "      <td>2004-12-21</td>\n",
              "    </tr>\n",
              "    <tr>\n",
              "      <th>52370</th>\n",
              "      <td>2021-11-08</td>\n",
              "      <td>2021-02-05</td>\n",
              "    </tr>\n",
              "  </tbody>\n",
              "</table>\n",
              "<p>52371 rows × 2 columns</p>\n",
              "</div>\n",
              "      <button class=\"colab-df-convert\" onclick=\"convertToInteractive('df-87ff1024-d578-4029-99c5-f95edbe16961')\"\n",
              "              title=\"Convert this dataframe to an interactive table.\"\n",
              "              style=\"display:none;\">\n",
              "        \n",
              "  <svg xmlns=\"http://www.w3.org/2000/svg\" height=\"24px\"viewBox=\"0 0 24 24\"\n",
              "       width=\"24px\">\n",
              "    <path d=\"M0 0h24v24H0V0z\" fill=\"none\"/>\n",
              "    <path d=\"M18.56 5.44l.94 2.06.94-2.06 2.06-.94-2.06-.94-.94-2.06-.94 2.06-2.06.94zm-11 1L8.5 8.5l.94-2.06 2.06-.94-2.06-.94L8.5 2.5l-.94 2.06-2.06.94zm10 10l.94 2.06.94-2.06 2.06-.94-2.06-.94-.94-2.06-.94 2.06-2.06.94z\"/><path d=\"M17.41 7.96l-1.37-1.37c-.4-.4-.92-.59-1.43-.59-.52 0-1.04.2-1.43.59L10.3 9.45l-7.72 7.72c-.78.78-.78 2.05 0 2.83L4 21.41c.39.39.9.59 1.41.59.51 0 1.02-.2 1.41-.59l7.78-7.78 2.81-2.81c.8-.78.8-2.07 0-2.86zM5.41 20L4 18.59l7.72-7.72 1.47 1.35L5.41 20z\"/>\n",
              "  </svg>\n",
              "      </button>\n",
              "      \n",
              "  <style>\n",
              "    .colab-df-container {\n",
              "      display:flex;\n",
              "      flex-wrap:wrap;\n",
              "      gap: 12px;\n",
              "    }\n",
              "\n",
              "    .colab-df-convert {\n",
              "      background-color: #E8F0FE;\n",
              "      border: none;\n",
              "      border-radius: 50%;\n",
              "      cursor: pointer;\n",
              "      display: none;\n",
              "      fill: #1967D2;\n",
              "      height: 32px;\n",
              "      padding: 0 0 0 0;\n",
              "      width: 32px;\n",
              "    }\n",
              "\n",
              "    .colab-df-convert:hover {\n",
              "      background-color: #E2EBFA;\n",
              "      box-shadow: 0px 1px 2px rgba(60, 64, 67, 0.3), 0px 1px 3px 1px rgba(60, 64, 67, 0.15);\n",
              "      fill: #174EA6;\n",
              "    }\n",
              "\n",
              "    [theme=dark] .colab-df-convert {\n",
              "      background-color: #3B4455;\n",
              "      fill: #D2E3FC;\n",
              "    }\n",
              "\n",
              "    [theme=dark] .colab-df-convert:hover {\n",
              "      background-color: #434B5C;\n",
              "      box-shadow: 0px 1px 3px 1px rgba(0, 0, 0, 0.15);\n",
              "      filter: drop-shadow(0px 1px 2px rgba(0, 0, 0, 0.3));\n",
              "      fill: #FFFFFF;\n",
              "    }\n",
              "  </style>\n",
              "\n",
              "      <script>\n",
              "        const buttonEl =\n",
              "          document.querySelector('#df-87ff1024-d578-4029-99c5-f95edbe16961 button.colab-df-convert');\n",
              "        buttonEl.style.display =\n",
              "          google.colab.kernel.accessAllowed ? 'block' : 'none';\n",
              "\n",
              "        async function convertToInteractive(key) {\n",
              "          const element = document.querySelector('#df-87ff1024-d578-4029-99c5-f95edbe16961');\n",
              "          const dataTable =\n",
              "            await google.colab.kernel.invokeFunction('convertToInteractive',\n",
              "                                                     [key], {});\n",
              "          if (!dataTable) return;\n",
              "\n",
              "          const docLinkHtml = 'Like what you see? Visit the ' +\n",
              "            '<a target=\"_blank\" href=https://colab.research.google.com/notebooks/data_table.ipynb>data table notebook</a>'\n",
              "            + ' to learn more about interactive tables.';\n",
              "          element.innerHTML = '';\n",
              "          dataTable['output_type'] = 'display_data';\n",
              "          await google.colab.output.renderOutput(dataTable, element);\n",
              "          const docLink = document.createElement('div');\n",
              "          docLink.innerHTML = docLinkHtml;\n",
              "          element.appendChild(docLink);\n",
              "        }\n",
              "      </script>\n",
              "    </div>\n",
              "  </div>\n",
              "  "
            ]
          },
          "metadata": {},
          "execution_count": 69
        }
      ]
    },
    {
      "cell_type": "code",
      "source": [
        "#@title mm 1-12 벗어나는 row 드랍\n",
        "tt = '1993-06-01'\n",
        "tt[5:7]"
      ],
      "metadata": {
        "colab": {
          "base_uri": "https://localhost:8080/",
          "height": 34
        },
        "id": "n58ESsWbTLI9",
        "outputId": "5843a4e1-e815-496e-8152-aae89c7ae46e"
      },
      "execution_count": 70,
      "outputs": [
        {
          "output_type": "execute_result",
          "data": {
            "text/plain": [
              "'06'"
            ],
            "application/vnd.google.colaboratory.intrinsic+json": {
              "type": "string"
            }
          },
          "metadata": {},
          "execution_count": 70
        }
      ]
    },
    {
      "cell_type": "code",
      "source": [
        "# month list\n",
        "months = ['01', '02', '03', '04', '05', '06', '07', '08', '09', '10', '11', '12']"
      ],
      "metadata": {
        "id": "DUsTAgN7tQS8"
      },
      "execution_count": 71,
      "outputs": []
    },
    {
      "cell_type": "code",
      "source": [
        "mask1 = (rstr['폐업일자'] != 'nan') & (rstr['폐업일자'].str[5:7].isin(months) == False) # string [5:7]인덱스(mm에 해당)가 1~12 중에 존재하지 않으면\n",
        "mask2 = (rstr['인허가일자'] != 'nan') & (rstr['인허가일자'].str[5:7].isin(months) == False) # string [5:7]인덱스(mm에 해당)가 1~12 중에 존재하지 않으면\n",
        "mask3 = (rstr['인허가일자'] == 'nan') # 인허가일자가 없으면"
      ],
      "metadata": {
        "id": "D_OwQ7tCSooy"
      },
      "execution_count": 72,
      "outputs": []
    },
    {
      "cell_type": "code",
      "source": [
        "print(rstr[rstr['폐업일자'] == 'nan']['폐업일자'].count()) # 아직 폐업 X\n",
        "print(rstr[rstr['인허가일자'] == 'nan']['인허가일자'].count()) # 인허가일자가 없는 행들은 문제가 됨"
      ],
      "metadata": {
        "colab": {
          "base_uri": "https://localhost:8080/"
        },
        "id": "ZsfMHzMhpC0V",
        "outputId": "1203490d-c8aa-44aa-d42c-815599863fdb"
      },
      "execution_count": 73,
      "outputs": [
        {
          "output_type": "stream",
          "name": "stdout",
          "text": [
            "26265\n",
            "1\n"
          ]
        }
      ]
    },
    {
      "cell_type": "code",
      "source": [
        "# 폐업일자, 인허가일자 제거해줘야하는 행들\n",
        "print(rstr[mask1]['폐업일자'].count())\n",
        "print(rstr[mask2]['인허가일자'].count())\n",
        "print(rstr[mask3]['인허가일자'].count())"
      ],
      "metadata": {
        "colab": {
          "base_uri": "https://localhost:8080/"
        },
        "id": "8YC4y6Ycqix8",
        "outputId": "632c8398-b1c8-466e-f128-5ac970a75e3a"
      },
      "execution_count": 74,
      "outputs": [
        {
          "output_type": "stream",
          "name": "stdout",
          "text": [
            "0\n",
            "0\n",
            "1\n"
          ]
        }
      ]
    },
    {
      "cell_type": "code",
      "source": [
        "rstr[mask1 | mask2 | mask3][['폐업일자', '인허가일자']]"
      ],
      "metadata": {
        "colab": {
          "base_uri": "https://localhost:8080/",
          "height": 81
        },
        "id": "wpcR927Fmt7_",
        "outputId": "ff47a4cf-62c2-472e-bd3d-73b93f498e26"
      },
      "execution_count": 75,
      "outputs": [
        {
          "output_type": "execute_result",
          "data": {
            "text/plain": [
              "             폐업일자 인허가일자\n",
              "38941  1996-07-04   nan"
            ],
            "text/html": [
              "\n",
              "  <div id=\"df-137cd6af-c0ff-478e-88e1-91aa28f218b2\">\n",
              "    <div class=\"colab-df-container\">\n",
              "      <div>\n",
              "<style scoped>\n",
              "    .dataframe tbody tr th:only-of-type {\n",
              "        vertical-align: middle;\n",
              "    }\n",
              "\n",
              "    .dataframe tbody tr th {\n",
              "        vertical-align: top;\n",
              "    }\n",
              "\n",
              "    .dataframe thead th {\n",
              "        text-align: right;\n",
              "    }\n",
              "</style>\n",
              "<table border=\"1\" class=\"dataframe\">\n",
              "  <thead>\n",
              "    <tr style=\"text-align: right;\">\n",
              "      <th></th>\n",
              "      <th>폐업일자</th>\n",
              "      <th>인허가일자</th>\n",
              "    </tr>\n",
              "  </thead>\n",
              "  <tbody>\n",
              "    <tr>\n",
              "      <th>38941</th>\n",
              "      <td>1996-07-04</td>\n",
              "      <td>nan</td>\n",
              "    </tr>\n",
              "  </tbody>\n",
              "</table>\n",
              "</div>\n",
              "      <button class=\"colab-df-convert\" onclick=\"convertToInteractive('df-137cd6af-c0ff-478e-88e1-91aa28f218b2')\"\n",
              "              title=\"Convert this dataframe to an interactive table.\"\n",
              "              style=\"display:none;\">\n",
              "        \n",
              "  <svg xmlns=\"http://www.w3.org/2000/svg\" height=\"24px\"viewBox=\"0 0 24 24\"\n",
              "       width=\"24px\">\n",
              "    <path d=\"M0 0h24v24H0V0z\" fill=\"none\"/>\n",
              "    <path d=\"M18.56 5.44l.94 2.06.94-2.06 2.06-.94-2.06-.94-.94-2.06-.94 2.06-2.06.94zm-11 1L8.5 8.5l.94-2.06 2.06-.94-2.06-.94L8.5 2.5l-.94 2.06-2.06.94zm10 10l.94 2.06.94-2.06 2.06-.94-2.06-.94-.94-2.06-.94 2.06-2.06.94z\"/><path d=\"M17.41 7.96l-1.37-1.37c-.4-.4-.92-.59-1.43-.59-.52 0-1.04.2-1.43.59L10.3 9.45l-7.72 7.72c-.78.78-.78 2.05 0 2.83L4 21.41c.39.39.9.59 1.41.59.51 0 1.02-.2 1.41-.59l7.78-7.78 2.81-2.81c.8-.78.8-2.07 0-2.86zM5.41 20L4 18.59l7.72-7.72 1.47 1.35L5.41 20z\"/>\n",
              "  </svg>\n",
              "      </button>\n",
              "      \n",
              "  <style>\n",
              "    .colab-df-container {\n",
              "      display:flex;\n",
              "      flex-wrap:wrap;\n",
              "      gap: 12px;\n",
              "    }\n",
              "\n",
              "    .colab-df-convert {\n",
              "      background-color: #E8F0FE;\n",
              "      border: none;\n",
              "      border-radius: 50%;\n",
              "      cursor: pointer;\n",
              "      display: none;\n",
              "      fill: #1967D2;\n",
              "      height: 32px;\n",
              "      padding: 0 0 0 0;\n",
              "      width: 32px;\n",
              "    }\n",
              "\n",
              "    .colab-df-convert:hover {\n",
              "      background-color: #E2EBFA;\n",
              "      box-shadow: 0px 1px 2px rgba(60, 64, 67, 0.3), 0px 1px 3px 1px rgba(60, 64, 67, 0.15);\n",
              "      fill: #174EA6;\n",
              "    }\n",
              "\n",
              "    [theme=dark] .colab-df-convert {\n",
              "      background-color: #3B4455;\n",
              "      fill: #D2E3FC;\n",
              "    }\n",
              "\n",
              "    [theme=dark] .colab-df-convert:hover {\n",
              "      background-color: #434B5C;\n",
              "      box-shadow: 0px 1px 3px 1px rgba(0, 0, 0, 0.15);\n",
              "      filter: drop-shadow(0px 1px 2px rgba(0, 0, 0, 0.3));\n",
              "      fill: #FFFFFF;\n",
              "    }\n",
              "  </style>\n",
              "\n",
              "      <script>\n",
              "        const buttonEl =\n",
              "          document.querySelector('#df-137cd6af-c0ff-478e-88e1-91aa28f218b2 button.colab-df-convert');\n",
              "        buttonEl.style.display =\n",
              "          google.colab.kernel.accessAllowed ? 'block' : 'none';\n",
              "\n",
              "        async function convertToInteractive(key) {\n",
              "          const element = document.querySelector('#df-137cd6af-c0ff-478e-88e1-91aa28f218b2');\n",
              "          const dataTable =\n",
              "            await google.colab.kernel.invokeFunction('convertToInteractive',\n",
              "                                                     [key], {});\n",
              "          if (!dataTable) return;\n",
              "\n",
              "          const docLinkHtml = 'Like what you see? Visit the ' +\n",
              "            '<a target=\"_blank\" href=https://colab.research.google.com/notebooks/data_table.ipynb>data table notebook</a>'\n",
              "            + ' to learn more about interactive tables.';\n",
              "          element.innerHTML = '';\n",
              "          dataTable['output_type'] = 'display_data';\n",
              "          await google.colab.output.renderOutput(dataTable, element);\n",
              "          const docLink = document.createElement('div');\n",
              "          docLink.innerHTML = docLinkHtml;\n",
              "          element.appendChild(docLink);\n",
              "        }\n",
              "      </script>\n",
              "    </div>\n",
              "  </div>\n",
              "  "
            ]
          },
          "metadata": {},
          "execution_count": 75
        }
      ]
    },
    {
      "cell_type": "code",
      "source": [
        "rstr.reset_index(drop=True, inplace=True)\n",
        "rstr.drop(rstr[mask1 | mask2 | mask3].index, inplace=True) # 행 drop"
      ],
      "metadata": {
        "id": "uz6sDRRio3CH"
      },
      "execution_count": 76,
      "outputs": []
    },
    {
      "cell_type": "code",
      "source": [
        "rstr[['폐업일자', '인허가일자']]"
      ],
      "metadata": {
        "colab": {
          "base_uri": "https://localhost:8080/",
          "height": 424
        },
        "id": "2iO1BdokiDyp",
        "outputId": "ed9c0b08-5767-4ba5-e930-254756d2cd95"
      },
      "execution_count": 77,
      "outputs": [
        {
          "output_type": "execute_result",
          "data": {
            "text/plain": [
              "             폐업일자       인허가일자\n",
              "0             nan  2006-06-05\n",
              "1             nan  2006-07-10\n",
              "2             nan  2006-07-28\n",
              "3             nan  2006-10-17\n",
              "4             nan  2006-10-20\n",
              "...           ...         ...\n",
              "52366  2022-12-27  2020-12-09\n",
              "52367  2021-02-01  2020-11-26\n",
              "52368  2021-01-06  2020-03-17\n",
              "52369  2013-05-27  2004-12-21\n",
              "52370  2021-11-08  2021-02-05\n",
              "\n",
              "[52370 rows x 2 columns]"
            ],
            "text/html": [
              "\n",
              "  <div id=\"df-5d27a98a-6d40-401d-bcb0-6e64ab8087a3\">\n",
              "    <div class=\"colab-df-container\">\n",
              "      <div>\n",
              "<style scoped>\n",
              "    .dataframe tbody tr th:only-of-type {\n",
              "        vertical-align: middle;\n",
              "    }\n",
              "\n",
              "    .dataframe tbody tr th {\n",
              "        vertical-align: top;\n",
              "    }\n",
              "\n",
              "    .dataframe thead th {\n",
              "        text-align: right;\n",
              "    }\n",
              "</style>\n",
              "<table border=\"1\" class=\"dataframe\">\n",
              "  <thead>\n",
              "    <tr style=\"text-align: right;\">\n",
              "      <th></th>\n",
              "      <th>폐업일자</th>\n",
              "      <th>인허가일자</th>\n",
              "    </tr>\n",
              "  </thead>\n",
              "  <tbody>\n",
              "    <tr>\n",
              "      <th>0</th>\n",
              "      <td>nan</td>\n",
              "      <td>2006-06-05</td>\n",
              "    </tr>\n",
              "    <tr>\n",
              "      <th>1</th>\n",
              "      <td>nan</td>\n",
              "      <td>2006-07-10</td>\n",
              "    </tr>\n",
              "    <tr>\n",
              "      <th>2</th>\n",
              "      <td>nan</td>\n",
              "      <td>2006-07-28</td>\n",
              "    </tr>\n",
              "    <tr>\n",
              "      <th>3</th>\n",
              "      <td>nan</td>\n",
              "      <td>2006-10-17</td>\n",
              "    </tr>\n",
              "    <tr>\n",
              "      <th>4</th>\n",
              "      <td>nan</td>\n",
              "      <td>2006-10-20</td>\n",
              "    </tr>\n",
              "    <tr>\n",
              "      <th>...</th>\n",
              "      <td>...</td>\n",
              "      <td>...</td>\n",
              "    </tr>\n",
              "    <tr>\n",
              "      <th>52366</th>\n",
              "      <td>2022-12-27</td>\n",
              "      <td>2020-12-09</td>\n",
              "    </tr>\n",
              "    <tr>\n",
              "      <th>52367</th>\n",
              "      <td>2021-02-01</td>\n",
              "      <td>2020-11-26</td>\n",
              "    </tr>\n",
              "    <tr>\n",
              "      <th>52368</th>\n",
              "      <td>2021-01-06</td>\n",
              "      <td>2020-03-17</td>\n",
              "    </tr>\n",
              "    <tr>\n",
              "      <th>52369</th>\n",
              "      <td>2013-05-27</td>\n",
              "      <td>2004-12-21</td>\n",
              "    </tr>\n",
              "    <tr>\n",
              "      <th>52370</th>\n",
              "      <td>2021-11-08</td>\n",
              "      <td>2021-02-05</td>\n",
              "    </tr>\n",
              "  </tbody>\n",
              "</table>\n",
              "<p>52370 rows × 2 columns</p>\n",
              "</div>\n",
              "      <button class=\"colab-df-convert\" onclick=\"convertToInteractive('df-5d27a98a-6d40-401d-bcb0-6e64ab8087a3')\"\n",
              "              title=\"Convert this dataframe to an interactive table.\"\n",
              "              style=\"display:none;\">\n",
              "        \n",
              "  <svg xmlns=\"http://www.w3.org/2000/svg\" height=\"24px\"viewBox=\"0 0 24 24\"\n",
              "       width=\"24px\">\n",
              "    <path d=\"M0 0h24v24H0V0z\" fill=\"none\"/>\n",
              "    <path d=\"M18.56 5.44l.94 2.06.94-2.06 2.06-.94-2.06-.94-.94-2.06-.94 2.06-2.06.94zm-11 1L8.5 8.5l.94-2.06 2.06-.94-2.06-.94L8.5 2.5l-.94 2.06-2.06.94zm10 10l.94 2.06.94-2.06 2.06-.94-2.06-.94-.94-2.06-.94 2.06-2.06.94z\"/><path d=\"M17.41 7.96l-1.37-1.37c-.4-.4-.92-.59-1.43-.59-.52 0-1.04.2-1.43.59L10.3 9.45l-7.72 7.72c-.78.78-.78 2.05 0 2.83L4 21.41c.39.39.9.59 1.41.59.51 0 1.02-.2 1.41-.59l7.78-7.78 2.81-2.81c.8-.78.8-2.07 0-2.86zM5.41 20L4 18.59l7.72-7.72 1.47 1.35L5.41 20z\"/>\n",
              "  </svg>\n",
              "      </button>\n",
              "      \n",
              "  <style>\n",
              "    .colab-df-container {\n",
              "      display:flex;\n",
              "      flex-wrap:wrap;\n",
              "      gap: 12px;\n",
              "    }\n",
              "\n",
              "    .colab-df-convert {\n",
              "      background-color: #E8F0FE;\n",
              "      border: none;\n",
              "      border-radius: 50%;\n",
              "      cursor: pointer;\n",
              "      display: none;\n",
              "      fill: #1967D2;\n",
              "      height: 32px;\n",
              "      padding: 0 0 0 0;\n",
              "      width: 32px;\n",
              "    }\n",
              "\n",
              "    .colab-df-convert:hover {\n",
              "      background-color: #E2EBFA;\n",
              "      box-shadow: 0px 1px 2px rgba(60, 64, 67, 0.3), 0px 1px 3px 1px rgba(60, 64, 67, 0.15);\n",
              "      fill: #174EA6;\n",
              "    }\n",
              "\n",
              "    [theme=dark] .colab-df-convert {\n",
              "      background-color: #3B4455;\n",
              "      fill: #D2E3FC;\n",
              "    }\n",
              "\n",
              "    [theme=dark] .colab-df-convert:hover {\n",
              "      background-color: #434B5C;\n",
              "      box-shadow: 0px 1px 3px 1px rgba(0, 0, 0, 0.15);\n",
              "      filter: drop-shadow(0px 1px 2px rgba(0, 0, 0, 0.3));\n",
              "      fill: #FFFFFF;\n",
              "    }\n",
              "  </style>\n",
              "\n",
              "      <script>\n",
              "        const buttonEl =\n",
              "          document.querySelector('#df-5d27a98a-6d40-401d-bcb0-6e64ab8087a3 button.colab-df-convert');\n",
              "        buttonEl.style.display =\n",
              "          google.colab.kernel.accessAllowed ? 'block' : 'none';\n",
              "\n",
              "        async function convertToInteractive(key) {\n",
              "          const element = document.querySelector('#df-5d27a98a-6d40-401d-bcb0-6e64ab8087a3');\n",
              "          const dataTable =\n",
              "            await google.colab.kernel.invokeFunction('convertToInteractive',\n",
              "                                                     [key], {});\n",
              "          if (!dataTable) return;\n",
              "\n",
              "          const docLinkHtml = 'Like what you see? Visit the ' +\n",
              "            '<a target=\"_blank\" href=https://colab.research.google.com/notebooks/data_table.ipynb>data table notebook</a>'\n",
              "            + ' to learn more about interactive tables.';\n",
              "          element.innerHTML = '';\n",
              "          dataTable['output_type'] = 'display_data';\n",
              "          await google.colab.output.renderOutput(dataTable, element);\n",
              "          const docLink = document.createElement('div');\n",
              "          docLink.innerHTML = docLinkHtml;\n",
              "          element.appendChild(docLink);\n",
              "        }\n",
              "      </script>\n",
              "    </div>\n",
              "  </div>\n",
              "  "
            ]
          },
          "metadata": {},
          "execution_count": 77
        }
      ]
    },
    {
      "cell_type": "code",
      "source": [
        "#@title 'nan' 제외 나머지 date 형태로 변경\n",
        "# ValueError: day is out of range for month 예외처리 해줘야함\n",
        "rstr['폐업일자'] = pd.to_datetime(rstr['폐업일자'], errors='coerce')\n",
        "rstr['인허가일자'] = pd.to_datetime(rstr['인허가일자'], errors='coerce')"
      ],
      "metadata": {
        "id": "j17viBmQIPqQ"
      },
      "execution_count": 78,
      "outputs": []
    },
    {
      "cell_type": "code",
      "source": [
        "rstr[['폐업일자', '인허가일자']]"
      ],
      "metadata": {
        "colab": {
          "base_uri": "https://localhost:8080/",
          "height": 424
        },
        "id": "WO8Fxwk5lIgt",
        "outputId": "3e271ab1-4942-4b5d-e311-f771560eea46"
      },
      "execution_count": 79,
      "outputs": [
        {
          "output_type": "execute_result",
          "data": {
            "text/plain": [
              "            폐업일자      인허가일자\n",
              "0            NaT 2006-06-05\n",
              "1            NaT 2006-07-10\n",
              "2            NaT 2006-07-28\n",
              "3            NaT 2006-10-17\n",
              "4            NaT 2006-10-20\n",
              "...          ...        ...\n",
              "52366 2022-12-27 2020-12-09\n",
              "52367 2021-02-01 2020-11-26\n",
              "52368 2021-01-06 2020-03-17\n",
              "52369 2013-05-27 2004-12-21\n",
              "52370 2021-11-08 2021-02-05\n",
              "\n",
              "[52370 rows x 2 columns]"
            ],
            "text/html": [
              "\n",
              "  <div id=\"df-4e805deb-07bb-4620-b8de-f4816a59088f\">\n",
              "    <div class=\"colab-df-container\">\n",
              "      <div>\n",
              "<style scoped>\n",
              "    .dataframe tbody tr th:only-of-type {\n",
              "        vertical-align: middle;\n",
              "    }\n",
              "\n",
              "    .dataframe tbody tr th {\n",
              "        vertical-align: top;\n",
              "    }\n",
              "\n",
              "    .dataframe thead th {\n",
              "        text-align: right;\n",
              "    }\n",
              "</style>\n",
              "<table border=\"1\" class=\"dataframe\">\n",
              "  <thead>\n",
              "    <tr style=\"text-align: right;\">\n",
              "      <th></th>\n",
              "      <th>폐업일자</th>\n",
              "      <th>인허가일자</th>\n",
              "    </tr>\n",
              "  </thead>\n",
              "  <tbody>\n",
              "    <tr>\n",
              "      <th>0</th>\n",
              "      <td>NaT</td>\n",
              "      <td>2006-06-05</td>\n",
              "    </tr>\n",
              "    <tr>\n",
              "      <th>1</th>\n",
              "      <td>NaT</td>\n",
              "      <td>2006-07-10</td>\n",
              "    </tr>\n",
              "    <tr>\n",
              "      <th>2</th>\n",
              "      <td>NaT</td>\n",
              "      <td>2006-07-28</td>\n",
              "    </tr>\n",
              "    <tr>\n",
              "      <th>3</th>\n",
              "      <td>NaT</td>\n",
              "      <td>2006-10-17</td>\n",
              "    </tr>\n",
              "    <tr>\n",
              "      <th>4</th>\n",
              "      <td>NaT</td>\n",
              "      <td>2006-10-20</td>\n",
              "    </tr>\n",
              "    <tr>\n",
              "      <th>...</th>\n",
              "      <td>...</td>\n",
              "      <td>...</td>\n",
              "    </tr>\n",
              "    <tr>\n",
              "      <th>52366</th>\n",
              "      <td>2022-12-27</td>\n",
              "      <td>2020-12-09</td>\n",
              "    </tr>\n",
              "    <tr>\n",
              "      <th>52367</th>\n",
              "      <td>2021-02-01</td>\n",
              "      <td>2020-11-26</td>\n",
              "    </tr>\n",
              "    <tr>\n",
              "      <th>52368</th>\n",
              "      <td>2021-01-06</td>\n",
              "      <td>2020-03-17</td>\n",
              "    </tr>\n",
              "    <tr>\n",
              "      <th>52369</th>\n",
              "      <td>2013-05-27</td>\n",
              "      <td>2004-12-21</td>\n",
              "    </tr>\n",
              "    <tr>\n",
              "      <th>52370</th>\n",
              "      <td>2021-11-08</td>\n",
              "      <td>2021-02-05</td>\n",
              "    </tr>\n",
              "  </tbody>\n",
              "</table>\n",
              "<p>52370 rows × 2 columns</p>\n",
              "</div>\n",
              "      <button class=\"colab-df-convert\" onclick=\"convertToInteractive('df-4e805deb-07bb-4620-b8de-f4816a59088f')\"\n",
              "              title=\"Convert this dataframe to an interactive table.\"\n",
              "              style=\"display:none;\">\n",
              "        \n",
              "  <svg xmlns=\"http://www.w3.org/2000/svg\" height=\"24px\"viewBox=\"0 0 24 24\"\n",
              "       width=\"24px\">\n",
              "    <path d=\"M0 0h24v24H0V0z\" fill=\"none\"/>\n",
              "    <path d=\"M18.56 5.44l.94 2.06.94-2.06 2.06-.94-2.06-.94-.94-2.06-.94 2.06-2.06.94zm-11 1L8.5 8.5l.94-2.06 2.06-.94-2.06-.94L8.5 2.5l-.94 2.06-2.06.94zm10 10l.94 2.06.94-2.06 2.06-.94-2.06-.94-.94-2.06-.94 2.06-2.06.94z\"/><path d=\"M17.41 7.96l-1.37-1.37c-.4-.4-.92-.59-1.43-.59-.52 0-1.04.2-1.43.59L10.3 9.45l-7.72 7.72c-.78.78-.78 2.05 0 2.83L4 21.41c.39.39.9.59 1.41.59.51 0 1.02-.2 1.41-.59l7.78-7.78 2.81-2.81c.8-.78.8-2.07 0-2.86zM5.41 20L4 18.59l7.72-7.72 1.47 1.35L5.41 20z\"/>\n",
              "  </svg>\n",
              "      </button>\n",
              "      \n",
              "  <style>\n",
              "    .colab-df-container {\n",
              "      display:flex;\n",
              "      flex-wrap:wrap;\n",
              "      gap: 12px;\n",
              "    }\n",
              "\n",
              "    .colab-df-convert {\n",
              "      background-color: #E8F0FE;\n",
              "      border: none;\n",
              "      border-radius: 50%;\n",
              "      cursor: pointer;\n",
              "      display: none;\n",
              "      fill: #1967D2;\n",
              "      height: 32px;\n",
              "      padding: 0 0 0 0;\n",
              "      width: 32px;\n",
              "    }\n",
              "\n",
              "    .colab-df-convert:hover {\n",
              "      background-color: #E2EBFA;\n",
              "      box-shadow: 0px 1px 2px rgba(60, 64, 67, 0.3), 0px 1px 3px 1px rgba(60, 64, 67, 0.15);\n",
              "      fill: #174EA6;\n",
              "    }\n",
              "\n",
              "    [theme=dark] .colab-df-convert {\n",
              "      background-color: #3B4455;\n",
              "      fill: #D2E3FC;\n",
              "    }\n",
              "\n",
              "    [theme=dark] .colab-df-convert:hover {\n",
              "      background-color: #434B5C;\n",
              "      box-shadow: 0px 1px 3px 1px rgba(0, 0, 0, 0.15);\n",
              "      filter: drop-shadow(0px 1px 2px rgba(0, 0, 0, 0.3));\n",
              "      fill: #FFFFFF;\n",
              "    }\n",
              "  </style>\n",
              "\n",
              "      <script>\n",
              "        const buttonEl =\n",
              "          document.querySelector('#df-4e805deb-07bb-4620-b8de-f4816a59088f button.colab-df-convert');\n",
              "        buttonEl.style.display =\n",
              "          google.colab.kernel.accessAllowed ? 'block' : 'none';\n",
              "\n",
              "        async function convertToInteractive(key) {\n",
              "          const element = document.querySelector('#df-4e805deb-07bb-4620-b8de-f4816a59088f');\n",
              "          const dataTable =\n",
              "            await google.colab.kernel.invokeFunction('convertToInteractive',\n",
              "                                                     [key], {});\n",
              "          if (!dataTable) return;\n",
              "\n",
              "          const docLinkHtml = 'Like what you see? Visit the ' +\n",
              "            '<a target=\"_blank\" href=https://colab.research.google.com/notebooks/data_table.ipynb>data table notebook</a>'\n",
              "            + ' to learn more about interactive tables.';\n",
              "          element.innerHTML = '';\n",
              "          dataTable['output_type'] = 'display_data';\n",
              "          await google.colab.output.renderOutput(dataTable, element);\n",
              "          const docLink = document.createElement('div');\n",
              "          docLink.innerHTML = docLinkHtml;\n",
              "          element.appendChild(docLink);\n",
              "        }\n",
              "      </script>\n",
              "    </div>\n",
              "  </div>\n",
              "  "
            ]
          },
          "metadata": {},
          "execution_count": 79
        }
      ]
    },
    {
      "cell_type": "code",
      "source": [
        "# timestamp 크기 비교 가능\n",
        "rstr['폐업일자'][40750] < pd.Timestamp('2022-09-01')"
      ],
      "metadata": {
        "colab": {
          "base_uri": "https://localhost:8080/"
        },
        "id": "6wnPEtoI7rvy",
        "outputId": "ce19c0c1-cf7a-4dd4-f726-668b7c27c263"
      },
      "execution_count": 80,
      "outputs": [
        {
          "output_type": "execute_result",
          "data": {
            "text/plain": [
              "True"
            ]
          },
          "metadata": {},
          "execution_count": 80
        }
      ]
    },
    {
      "cell_type": "code",
      "source": [
        "mask1 = (~rstr['폐업일자'].isna()) & (rstr['폐업일자'] < pd.Timestamp('2019-01-01'))\n",
        "mask2 = (~rstr['인허가일자'].isna()) & (rstr['인허가일자'] > pd.Timestamp('2021-12-31'))\n",
        "\n",
        "rstr.drop(rstr[mask1 | mask2].index, inplace=True)"
      ],
      "metadata": {
        "id": "ldQIXPoYkIcX"
      },
      "execution_count": 81,
      "outputs": []
    },
    {
      "cell_type": "code",
      "source": [
        "rstr[['폐업일자', '인허가일자']]"
      ],
      "metadata": {
        "colab": {
          "base_uri": "https://localhost:8080/",
          "height": 424
        },
        "id": "Us49ahdVkTwc",
        "outputId": "a727e60b-a7f4-41e5-aad7-77ed8519b96b"
      },
      "execution_count": 82,
      "outputs": [
        {
          "output_type": "execute_result",
          "data": {
            "text/plain": [
              "            폐업일자      인허가일자\n",
              "0            NaT 2006-06-05\n",
              "1            NaT 2006-07-10\n",
              "2            NaT 2006-07-28\n",
              "3            NaT 2006-10-17\n",
              "4            NaT 2006-10-20\n",
              "...          ...        ...\n",
              "52365 2019-06-18 2018-11-06\n",
              "52366 2022-12-27 2020-12-09\n",
              "52367 2021-02-01 2020-11-26\n",
              "52368 2021-01-06 2020-03-17\n",
              "52370 2021-11-08 2021-02-05\n",
              "\n",
              "[29812 rows x 2 columns]"
            ],
            "text/html": [
              "\n",
              "  <div id=\"df-a639ecad-3424-4cc0-9236-a670f773d78f\">\n",
              "    <div class=\"colab-df-container\">\n",
              "      <div>\n",
              "<style scoped>\n",
              "    .dataframe tbody tr th:only-of-type {\n",
              "        vertical-align: middle;\n",
              "    }\n",
              "\n",
              "    .dataframe tbody tr th {\n",
              "        vertical-align: top;\n",
              "    }\n",
              "\n",
              "    .dataframe thead th {\n",
              "        text-align: right;\n",
              "    }\n",
              "</style>\n",
              "<table border=\"1\" class=\"dataframe\">\n",
              "  <thead>\n",
              "    <tr style=\"text-align: right;\">\n",
              "      <th></th>\n",
              "      <th>폐업일자</th>\n",
              "      <th>인허가일자</th>\n",
              "    </tr>\n",
              "  </thead>\n",
              "  <tbody>\n",
              "    <tr>\n",
              "      <th>0</th>\n",
              "      <td>NaT</td>\n",
              "      <td>2006-06-05</td>\n",
              "    </tr>\n",
              "    <tr>\n",
              "      <th>1</th>\n",
              "      <td>NaT</td>\n",
              "      <td>2006-07-10</td>\n",
              "    </tr>\n",
              "    <tr>\n",
              "      <th>2</th>\n",
              "      <td>NaT</td>\n",
              "      <td>2006-07-28</td>\n",
              "    </tr>\n",
              "    <tr>\n",
              "      <th>3</th>\n",
              "      <td>NaT</td>\n",
              "      <td>2006-10-17</td>\n",
              "    </tr>\n",
              "    <tr>\n",
              "      <th>4</th>\n",
              "      <td>NaT</td>\n",
              "      <td>2006-10-20</td>\n",
              "    </tr>\n",
              "    <tr>\n",
              "      <th>...</th>\n",
              "      <td>...</td>\n",
              "      <td>...</td>\n",
              "    </tr>\n",
              "    <tr>\n",
              "      <th>52365</th>\n",
              "      <td>2019-06-18</td>\n",
              "      <td>2018-11-06</td>\n",
              "    </tr>\n",
              "    <tr>\n",
              "      <th>52366</th>\n",
              "      <td>2022-12-27</td>\n",
              "      <td>2020-12-09</td>\n",
              "    </tr>\n",
              "    <tr>\n",
              "      <th>52367</th>\n",
              "      <td>2021-02-01</td>\n",
              "      <td>2020-11-26</td>\n",
              "    </tr>\n",
              "    <tr>\n",
              "      <th>52368</th>\n",
              "      <td>2021-01-06</td>\n",
              "      <td>2020-03-17</td>\n",
              "    </tr>\n",
              "    <tr>\n",
              "      <th>52370</th>\n",
              "      <td>2021-11-08</td>\n",
              "      <td>2021-02-05</td>\n",
              "    </tr>\n",
              "  </tbody>\n",
              "</table>\n",
              "<p>29812 rows × 2 columns</p>\n",
              "</div>\n",
              "      <button class=\"colab-df-convert\" onclick=\"convertToInteractive('df-a639ecad-3424-4cc0-9236-a670f773d78f')\"\n",
              "              title=\"Convert this dataframe to an interactive table.\"\n",
              "              style=\"display:none;\">\n",
              "        \n",
              "  <svg xmlns=\"http://www.w3.org/2000/svg\" height=\"24px\"viewBox=\"0 0 24 24\"\n",
              "       width=\"24px\">\n",
              "    <path d=\"M0 0h24v24H0V0z\" fill=\"none\"/>\n",
              "    <path d=\"M18.56 5.44l.94 2.06.94-2.06 2.06-.94-2.06-.94-.94-2.06-.94 2.06-2.06.94zm-11 1L8.5 8.5l.94-2.06 2.06-.94-2.06-.94L8.5 2.5l-.94 2.06-2.06.94zm10 10l.94 2.06.94-2.06 2.06-.94-2.06-.94-.94-2.06-.94 2.06-2.06.94z\"/><path d=\"M17.41 7.96l-1.37-1.37c-.4-.4-.92-.59-1.43-.59-.52 0-1.04.2-1.43.59L10.3 9.45l-7.72 7.72c-.78.78-.78 2.05 0 2.83L4 21.41c.39.39.9.59 1.41.59.51 0 1.02-.2 1.41-.59l7.78-7.78 2.81-2.81c.8-.78.8-2.07 0-2.86zM5.41 20L4 18.59l7.72-7.72 1.47 1.35L5.41 20z\"/>\n",
              "  </svg>\n",
              "      </button>\n",
              "      \n",
              "  <style>\n",
              "    .colab-df-container {\n",
              "      display:flex;\n",
              "      flex-wrap:wrap;\n",
              "      gap: 12px;\n",
              "    }\n",
              "\n",
              "    .colab-df-convert {\n",
              "      background-color: #E8F0FE;\n",
              "      border: none;\n",
              "      border-radius: 50%;\n",
              "      cursor: pointer;\n",
              "      display: none;\n",
              "      fill: #1967D2;\n",
              "      height: 32px;\n",
              "      padding: 0 0 0 0;\n",
              "      width: 32px;\n",
              "    }\n",
              "\n",
              "    .colab-df-convert:hover {\n",
              "      background-color: #E2EBFA;\n",
              "      box-shadow: 0px 1px 2px rgba(60, 64, 67, 0.3), 0px 1px 3px 1px rgba(60, 64, 67, 0.15);\n",
              "      fill: #174EA6;\n",
              "    }\n",
              "\n",
              "    [theme=dark] .colab-df-convert {\n",
              "      background-color: #3B4455;\n",
              "      fill: #D2E3FC;\n",
              "    }\n",
              "\n",
              "    [theme=dark] .colab-df-convert:hover {\n",
              "      background-color: #434B5C;\n",
              "      box-shadow: 0px 1px 3px 1px rgba(0, 0, 0, 0.15);\n",
              "      filter: drop-shadow(0px 1px 2px rgba(0, 0, 0, 0.3));\n",
              "      fill: #FFFFFF;\n",
              "    }\n",
              "  </style>\n",
              "\n",
              "      <script>\n",
              "        const buttonEl =\n",
              "          document.querySelector('#df-a639ecad-3424-4cc0-9236-a670f773d78f button.colab-df-convert');\n",
              "        buttonEl.style.display =\n",
              "          google.colab.kernel.accessAllowed ? 'block' : 'none';\n",
              "\n",
              "        async function convertToInteractive(key) {\n",
              "          const element = document.querySelector('#df-a639ecad-3424-4cc0-9236-a670f773d78f');\n",
              "          const dataTable =\n",
              "            await google.colab.kernel.invokeFunction('convertToInteractive',\n",
              "                                                     [key], {});\n",
              "          if (!dataTable) return;\n",
              "\n",
              "          const docLinkHtml = 'Like what you see? Visit the ' +\n",
              "            '<a target=\"_blank\" href=https://colab.research.google.com/notebooks/data_table.ipynb>data table notebook</a>'\n",
              "            + ' to learn more about interactive tables.';\n",
              "          element.innerHTML = '';\n",
              "          dataTable['output_type'] = 'display_data';\n",
              "          await google.colab.output.renderOutput(dataTable, element);\n",
              "          const docLink = document.createElement('div');\n",
              "          docLink.innerHTML = docLinkHtml;\n",
              "          element.appendChild(docLink);\n",
              "        }\n",
              "      </script>\n",
              "    </div>\n",
              "  </div>\n",
              "  "
            ]
          },
          "metadata": {},
          "execution_count": 82
        }
      ]
    },
    {
      "cell_type": "code",
      "source": [
        "print(rstr['폐업일자'].min())\n",
        "print(rstr['인허가일자'].max())"
      ],
      "metadata": {
        "colab": {
          "base_uri": "https://localhost:8080/"
        },
        "id": "D4vSEP7Ckh64",
        "outputId": "ab76de08-9380-489d-8edd-c0a1df318e08"
      },
      "execution_count": 83,
      "outputs": [
        {
          "output_type": "stream",
          "name": "stdout",
          "text": [
            "2019-01-02 00:00:00\n",
            "2021-12-31 00:00:00\n"
          ]
        }
      ]
    },
    {
      "cell_type": "code",
      "source": [
        "#@title filter 적용해서 프레임 뽑기\n",
        "rstr = rstr[['관리번호', '개방자치단체코드', '좌표정보(x)', '좌표정보(y)']]\n",
        "rstr"
      ],
      "metadata": {
        "colab": {
          "base_uri": "https://localhost:8080/",
          "height": 424
        },
        "id": "Ae-7Z7zjhLz8",
        "outputId": "c69ff12a-68b7-45d7-a6b5-6a38a06f2ed1"
      },
      "execution_count": 84,
      "outputs": [
        {
          "output_type": "execute_result",
          "data": {
            "text/plain": [
              "                         관리번호  개방자치단체코드        좌표정보(x)        좌표정보(y)\n",
              "0      3630000-102-2006-00009   3630000  185880.086598  191241.520048\n",
              "1      3630000-102-2006-00013   3630000  185697.510050  191262.531468\n",
              "2      3630000-102-2006-00014   3630000  185697.510050  191262.531468\n",
              "3      3630000-102-2006-00016   3630000  185956.390037  191106.914065\n",
              "4      3630000-102-2006-00017   3630000  186089.124391  191063.262512\n",
              "...                       ...       ...            ...            ...\n",
              "52365  5310000-102-2018-00002   5310000  301698.040172  188081.813977\n",
              "52366  3330000-102-2020-00008   3330000  396864.269411  186789.879379\n",
              "52367  3270000-102-2020-00001   3270000  388002.448307  184046.278157\n",
              "52368  3370000-102-2020-00003   3370000  389425.128230  189489.778723\n",
              "52370  5600000-102-2021-00001   5600000  212661.921522  480541.371993\n",
              "\n",
              "[29812 rows x 4 columns]"
            ],
            "text/html": [
              "\n",
              "  <div id=\"df-bb8614a4-5a6f-4c13-aef8-33787f930db3\">\n",
              "    <div class=\"colab-df-container\">\n",
              "      <div>\n",
              "<style scoped>\n",
              "    .dataframe tbody tr th:only-of-type {\n",
              "        vertical-align: middle;\n",
              "    }\n",
              "\n",
              "    .dataframe tbody tr th {\n",
              "        vertical-align: top;\n",
              "    }\n",
              "\n",
              "    .dataframe thead th {\n",
              "        text-align: right;\n",
              "    }\n",
              "</style>\n",
              "<table border=\"1\" class=\"dataframe\">\n",
              "  <thead>\n",
              "    <tr style=\"text-align: right;\">\n",
              "      <th></th>\n",
              "      <th>관리번호</th>\n",
              "      <th>개방자치단체코드</th>\n",
              "      <th>좌표정보(x)</th>\n",
              "      <th>좌표정보(y)</th>\n",
              "    </tr>\n",
              "  </thead>\n",
              "  <tbody>\n",
              "    <tr>\n",
              "      <th>0</th>\n",
              "      <td>3630000-102-2006-00009</td>\n",
              "      <td>3630000</td>\n",
              "      <td>185880.086598</td>\n",
              "      <td>191241.520048</td>\n",
              "    </tr>\n",
              "    <tr>\n",
              "      <th>1</th>\n",
              "      <td>3630000-102-2006-00013</td>\n",
              "      <td>3630000</td>\n",
              "      <td>185697.510050</td>\n",
              "      <td>191262.531468</td>\n",
              "    </tr>\n",
              "    <tr>\n",
              "      <th>2</th>\n",
              "      <td>3630000-102-2006-00014</td>\n",
              "      <td>3630000</td>\n",
              "      <td>185697.510050</td>\n",
              "      <td>191262.531468</td>\n",
              "    </tr>\n",
              "    <tr>\n",
              "      <th>3</th>\n",
              "      <td>3630000-102-2006-00016</td>\n",
              "      <td>3630000</td>\n",
              "      <td>185956.390037</td>\n",
              "      <td>191106.914065</td>\n",
              "    </tr>\n",
              "    <tr>\n",
              "      <th>4</th>\n",
              "      <td>3630000-102-2006-00017</td>\n",
              "      <td>3630000</td>\n",
              "      <td>186089.124391</td>\n",
              "      <td>191063.262512</td>\n",
              "    </tr>\n",
              "    <tr>\n",
              "      <th>...</th>\n",
              "      <td>...</td>\n",
              "      <td>...</td>\n",
              "      <td>...</td>\n",
              "      <td>...</td>\n",
              "    </tr>\n",
              "    <tr>\n",
              "      <th>52365</th>\n",
              "      <td>5310000-102-2018-00002</td>\n",
              "      <td>5310000</td>\n",
              "      <td>301698.040172</td>\n",
              "      <td>188081.813977</td>\n",
              "    </tr>\n",
              "    <tr>\n",
              "      <th>52366</th>\n",
              "      <td>3330000-102-2020-00008</td>\n",
              "      <td>3330000</td>\n",
              "      <td>396864.269411</td>\n",
              "      <td>186789.879379</td>\n",
              "    </tr>\n",
              "    <tr>\n",
              "      <th>52367</th>\n",
              "      <td>3270000-102-2020-00001</td>\n",
              "      <td>3270000</td>\n",
              "      <td>388002.448307</td>\n",
              "      <td>184046.278157</td>\n",
              "    </tr>\n",
              "    <tr>\n",
              "      <th>52368</th>\n",
              "      <td>3370000-102-2020-00003</td>\n",
              "      <td>3370000</td>\n",
              "      <td>389425.128230</td>\n",
              "      <td>189489.778723</td>\n",
              "    </tr>\n",
              "    <tr>\n",
              "      <th>52370</th>\n",
              "      <td>5600000-102-2021-00001</td>\n",
              "      <td>5600000</td>\n",
              "      <td>212661.921522</td>\n",
              "      <td>480541.371993</td>\n",
              "    </tr>\n",
              "  </tbody>\n",
              "</table>\n",
              "<p>29812 rows × 4 columns</p>\n",
              "</div>\n",
              "      <button class=\"colab-df-convert\" onclick=\"convertToInteractive('df-bb8614a4-5a6f-4c13-aef8-33787f930db3')\"\n",
              "              title=\"Convert this dataframe to an interactive table.\"\n",
              "              style=\"display:none;\">\n",
              "        \n",
              "  <svg xmlns=\"http://www.w3.org/2000/svg\" height=\"24px\"viewBox=\"0 0 24 24\"\n",
              "       width=\"24px\">\n",
              "    <path d=\"M0 0h24v24H0V0z\" fill=\"none\"/>\n",
              "    <path d=\"M18.56 5.44l.94 2.06.94-2.06 2.06-.94-2.06-.94-.94-2.06-.94 2.06-2.06.94zm-11 1L8.5 8.5l.94-2.06 2.06-.94-2.06-.94L8.5 2.5l-.94 2.06-2.06.94zm10 10l.94 2.06.94-2.06 2.06-.94-2.06-.94-.94-2.06-.94 2.06-2.06.94z\"/><path d=\"M17.41 7.96l-1.37-1.37c-.4-.4-.92-.59-1.43-.59-.52 0-1.04.2-1.43.59L10.3 9.45l-7.72 7.72c-.78.78-.78 2.05 0 2.83L4 21.41c.39.39.9.59 1.41.59.51 0 1.02-.2 1.41-.59l7.78-7.78 2.81-2.81c.8-.78.8-2.07 0-2.86zM5.41 20L4 18.59l7.72-7.72 1.47 1.35L5.41 20z\"/>\n",
              "  </svg>\n",
              "      </button>\n",
              "      \n",
              "  <style>\n",
              "    .colab-df-container {\n",
              "      display:flex;\n",
              "      flex-wrap:wrap;\n",
              "      gap: 12px;\n",
              "    }\n",
              "\n",
              "    .colab-df-convert {\n",
              "      background-color: #E8F0FE;\n",
              "      border: none;\n",
              "      border-radius: 50%;\n",
              "      cursor: pointer;\n",
              "      display: none;\n",
              "      fill: #1967D2;\n",
              "      height: 32px;\n",
              "      padding: 0 0 0 0;\n",
              "      width: 32px;\n",
              "    }\n",
              "\n",
              "    .colab-df-convert:hover {\n",
              "      background-color: #E2EBFA;\n",
              "      box-shadow: 0px 1px 2px rgba(60, 64, 67, 0.3), 0px 1px 3px 1px rgba(60, 64, 67, 0.15);\n",
              "      fill: #174EA6;\n",
              "    }\n",
              "\n",
              "    [theme=dark] .colab-df-convert {\n",
              "      background-color: #3B4455;\n",
              "      fill: #D2E3FC;\n",
              "    }\n",
              "\n",
              "    [theme=dark] .colab-df-convert:hover {\n",
              "      background-color: #434B5C;\n",
              "      box-shadow: 0px 1px 3px 1px rgba(0, 0, 0, 0.15);\n",
              "      filter: drop-shadow(0px 1px 2px rgba(0, 0, 0, 0.3));\n",
              "      fill: #FFFFFF;\n",
              "    }\n",
              "  </style>\n",
              "\n",
              "      <script>\n",
              "        const buttonEl =\n",
              "          document.querySelector('#df-bb8614a4-5a6f-4c13-aef8-33787f930db3 button.colab-df-convert');\n",
              "        buttonEl.style.display =\n",
              "          google.colab.kernel.accessAllowed ? 'block' : 'none';\n",
              "\n",
              "        async function convertToInteractive(key) {\n",
              "          const element = document.querySelector('#df-bb8614a4-5a6f-4c13-aef8-33787f930db3');\n",
              "          const dataTable =\n",
              "            await google.colab.kernel.invokeFunction('convertToInteractive',\n",
              "                                                     [key], {});\n",
              "          if (!dataTable) return;\n",
              "\n",
              "          const docLinkHtml = 'Like what you see? Visit the ' +\n",
              "            '<a target=\"_blank\" href=https://colab.research.google.com/notebooks/data_table.ipynb>data table notebook</a>'\n",
              "            + ' to learn more about interactive tables.';\n",
              "          element.innerHTML = '';\n",
              "          dataTable['output_type'] = 'display_data';\n",
              "          await google.colab.output.renderOutput(dataTable, element);\n",
              "          const docLink = document.createElement('div');\n",
              "          docLink.innerHTML = docLinkHtml;\n",
              "          element.appendChild(docLink);\n",
              "        }\n",
              "      </script>\n",
              "    </div>\n",
              "  </div>\n",
              "  "
            ]
          },
          "metadata": {},
          "execution_count": 84
        }
      ]
    },
    {
      "cell_type": "code",
      "source": [
        "# nw_rstr.to_csv('nw_rstr.csv')"
      ],
      "metadata": {
        "id": "AFWqjqPs1h05"
      },
      "execution_count": 85,
      "outputs": []
    },
    {
      "cell_type": "markdown",
      "source": [
        "## 일부 지역 필터링"
      ],
      "metadata": {
        "id": "STgXLiSesoP3"
      }
    },
    {
      "cell_type": "markdown",
      "source": [
        "![image.png](data:image/png;base64,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)"
      ],
      "metadata": {
        "id": "4xyVVR_SYNM0"
      }
    },
    {
      "cell_type": "markdown",
      "source": [
        "![image.png](data:image/png;base64,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)"
      ],
      "metadata": {
        "id": "IIa6-FWBqRWB"
      }
    },
    {
      "cell_type": "code",
      "source": [
        "# nw_rstr = pd.read_csv('nw_rstr.csv')"
      ],
      "metadata": {
        "id": "wkmksDHx97im"
      },
      "execution_count": 86,
      "outputs": []
    },
    {
      "cell_type": "code",
      "source": [
        "print(len(rstr))\n",
        "rstr.head(3)"
      ],
      "metadata": {
        "colab": {
          "base_uri": "https://localhost:8080/",
          "height": 161
        },
        "id": "SoVg2yOX-16w",
        "outputId": "f42060db-fcce-4148-bd9a-106307912545"
      },
      "execution_count": 87,
      "outputs": [
        {
          "output_type": "stream",
          "name": "stdout",
          "text": [
            "29812\n"
          ]
        },
        {
          "output_type": "execute_result",
          "data": {
            "text/plain": [
              "                     관리번호  개방자치단체코드        좌표정보(x)        좌표정보(y)\n",
              "0  3630000-102-2006-00009   3630000  185880.086598  191241.520048\n",
              "1  3630000-102-2006-00013   3630000  185697.510050  191262.531468\n",
              "2  3630000-102-2006-00014   3630000  185697.510050  191262.531468"
            ],
            "text/html": [
              "\n",
              "  <div id=\"df-1b76383d-6c82-4b50-ae78-9b0e80846300\">\n",
              "    <div class=\"colab-df-container\">\n",
              "      <div>\n",
              "<style scoped>\n",
              "    .dataframe tbody tr th:only-of-type {\n",
              "        vertical-align: middle;\n",
              "    }\n",
              "\n",
              "    .dataframe tbody tr th {\n",
              "        vertical-align: top;\n",
              "    }\n",
              "\n",
              "    .dataframe thead th {\n",
              "        text-align: right;\n",
              "    }\n",
              "</style>\n",
              "<table border=\"1\" class=\"dataframe\">\n",
              "  <thead>\n",
              "    <tr style=\"text-align: right;\">\n",
              "      <th></th>\n",
              "      <th>관리번호</th>\n",
              "      <th>개방자치단체코드</th>\n",
              "      <th>좌표정보(x)</th>\n",
              "      <th>좌표정보(y)</th>\n",
              "    </tr>\n",
              "  </thead>\n",
              "  <tbody>\n",
              "    <tr>\n",
              "      <th>0</th>\n",
              "      <td>3630000-102-2006-00009</td>\n",
              "      <td>3630000</td>\n",
              "      <td>185880.086598</td>\n",
              "      <td>191241.520048</td>\n",
              "    </tr>\n",
              "    <tr>\n",
              "      <th>1</th>\n",
              "      <td>3630000-102-2006-00013</td>\n",
              "      <td>3630000</td>\n",
              "      <td>185697.510050</td>\n",
              "      <td>191262.531468</td>\n",
              "    </tr>\n",
              "    <tr>\n",
              "      <th>2</th>\n",
              "      <td>3630000-102-2006-00014</td>\n",
              "      <td>3630000</td>\n",
              "      <td>185697.510050</td>\n",
              "      <td>191262.531468</td>\n",
              "    </tr>\n",
              "  </tbody>\n",
              "</table>\n",
              "</div>\n",
              "      <button class=\"colab-df-convert\" onclick=\"convertToInteractive('df-1b76383d-6c82-4b50-ae78-9b0e80846300')\"\n",
              "              title=\"Convert this dataframe to an interactive table.\"\n",
              "              style=\"display:none;\">\n",
              "        \n",
              "  <svg xmlns=\"http://www.w3.org/2000/svg\" height=\"24px\"viewBox=\"0 0 24 24\"\n",
              "       width=\"24px\">\n",
              "    <path d=\"M0 0h24v24H0V0z\" fill=\"none\"/>\n",
              "    <path d=\"M18.56 5.44l.94 2.06.94-2.06 2.06-.94-2.06-.94-.94-2.06-.94 2.06-2.06.94zm-11 1L8.5 8.5l.94-2.06 2.06-.94-2.06-.94L8.5 2.5l-.94 2.06-2.06.94zm10 10l.94 2.06.94-2.06 2.06-.94-2.06-.94-.94-2.06-.94 2.06-2.06.94z\"/><path d=\"M17.41 7.96l-1.37-1.37c-.4-.4-.92-.59-1.43-.59-.52 0-1.04.2-1.43.59L10.3 9.45l-7.72 7.72c-.78.78-.78 2.05 0 2.83L4 21.41c.39.39.9.59 1.41.59.51 0 1.02-.2 1.41-.59l7.78-7.78 2.81-2.81c.8-.78.8-2.07 0-2.86zM5.41 20L4 18.59l7.72-7.72 1.47 1.35L5.41 20z\"/>\n",
              "  </svg>\n",
              "      </button>\n",
              "      \n",
              "  <style>\n",
              "    .colab-df-container {\n",
              "      display:flex;\n",
              "      flex-wrap:wrap;\n",
              "      gap: 12px;\n",
              "    }\n",
              "\n",
              "    .colab-df-convert {\n",
              "      background-color: #E8F0FE;\n",
              "      border: none;\n",
              "      border-radius: 50%;\n",
              "      cursor: pointer;\n",
              "      display: none;\n",
              "      fill: #1967D2;\n",
              "      height: 32px;\n",
              "      padding: 0 0 0 0;\n",
              "      width: 32px;\n",
              "    }\n",
              "\n",
              "    .colab-df-convert:hover {\n",
              "      background-color: #E2EBFA;\n",
              "      box-shadow: 0px 1px 2px rgba(60, 64, 67, 0.3), 0px 1px 3px 1px rgba(60, 64, 67, 0.15);\n",
              "      fill: #174EA6;\n",
              "    }\n",
              "\n",
              "    [theme=dark] .colab-df-convert {\n",
              "      background-color: #3B4455;\n",
              "      fill: #D2E3FC;\n",
              "    }\n",
              "\n",
              "    [theme=dark] .colab-df-convert:hover {\n",
              "      background-color: #434B5C;\n",
              "      box-shadow: 0px 1px 3px 1px rgba(0, 0, 0, 0.15);\n",
              "      filter: drop-shadow(0px 1px 2px rgba(0, 0, 0, 0.3));\n",
              "      fill: #FFFFFF;\n",
              "    }\n",
              "  </style>\n",
              "\n",
              "      <script>\n",
              "        const buttonEl =\n",
              "          document.querySelector('#df-1b76383d-6c82-4b50-ae78-9b0e80846300 button.colab-df-convert');\n",
              "        buttonEl.style.display =\n",
              "          google.colab.kernel.accessAllowed ? 'block' : 'none';\n",
              "\n",
              "        async function convertToInteractive(key) {\n",
              "          const element = document.querySelector('#df-1b76383d-6c82-4b50-ae78-9b0e80846300');\n",
              "          const dataTable =\n",
              "            await google.colab.kernel.invokeFunction('convertToInteractive',\n",
              "                                                     [key], {});\n",
              "          if (!dataTable) return;\n",
              "\n",
              "          const docLinkHtml = 'Like what you see? Visit the ' +\n",
              "            '<a target=\"_blank\" href=https://colab.research.google.com/notebooks/data_table.ipynb>data table notebook</a>'\n",
              "            + ' to learn more about interactive tables.';\n",
              "          element.innerHTML = '';\n",
              "          dataTable['output_type'] = 'display_data';\n",
              "          await google.colab.output.renderOutput(dataTable, element);\n",
              "          const docLink = document.createElement('div');\n",
              "          docLink.innerHTML = docLinkHtml;\n",
              "          element.appendChild(docLink);\n",
              "        }\n",
              "      </script>\n",
              "    </div>\n",
              "  </div>\n",
              "  "
            ]
          },
          "metadata": {},
          "execution_count": 87
        }
      ]
    },
    {
      "cell_type": "code",
      "source": [
        "#@title localCode에 맞는거만 필터링\n",
        "su_localCode = [i*10000 for i in range(300, 325)]\n",
        "bs_localCode = [i*10000 for i in range(325, 341)]\n",
        "dg_localCode = [i*10000 for i in range(341, 349)]\n",
        "ic_localCode = [i*10000 for i in range(349, 359)]\n",
        "gj_localCode = [i*10000 for i in range(359, 364)]\n",
        "dj_localCode = [i*10000 for i in range(364, 369)]\n",
        "us_localCode = [i*10000 for i in range(369, 374)]\n",
        "sj_localCode = [5690000]"
      ],
      "metadata": {
        "id": "TxH4mRVaruGN"
      },
      "execution_count": 88,
      "outputs": []
    },
    {
      "cell_type": "code",
      "source": [
        "nw_localCode = su_localCode + bs_localCode + dg_localCode + ic_localCode + gj_localCode + dj_localCode + us_localCode + sj_localCode"
      ],
      "metadata": {
        "id": "rKHtBEM3nGDd"
      },
      "execution_count": 89,
      "outputs": []
    },
    {
      "cell_type": "code",
      "source": [
        "rstr = rstr[rstr['개방자치단체코드'].isin(nw_localCode)]"
      ],
      "metadata": {
        "id": "701xpb9LrEy3"
      },
      "execution_count": 90,
      "outputs": []
    },
    {
      "cell_type": "code",
      "source": [
        "print(len(rstr))\n",
        "rstr.head(3)"
      ],
      "metadata": {
        "colab": {
          "base_uri": "https://localhost:8080/",
          "height": 161
        },
        "id": "dX77zswHtBDO",
        "outputId": "de4bcd2c-8001-4966-8cda-09c92fc2c930"
      },
      "execution_count": 91,
      "outputs": [
        {
          "output_type": "stream",
          "name": "stdout",
          "text": [
            "9353\n"
          ]
        },
        {
          "output_type": "execute_result",
          "data": {
            "text/plain": [
              "                     관리번호  개방자치단체코드        좌표정보(x)        좌표정보(y)\n",
              "0  3630000-102-2006-00009   3630000  185880.086598  191241.520048\n",
              "1  3630000-102-2006-00013   3630000  185697.510050  191262.531468\n",
              "2  3630000-102-2006-00014   3630000  185697.510050  191262.531468"
            ],
            "text/html": [
              "\n",
              "  <div id=\"df-52f942ad-6a79-4cb0-8df3-16764122f165\">\n",
              "    <div class=\"colab-df-container\">\n",
              "      <div>\n",
              "<style scoped>\n",
              "    .dataframe tbody tr th:only-of-type {\n",
              "        vertical-align: middle;\n",
              "    }\n",
              "\n",
              "    .dataframe tbody tr th {\n",
              "        vertical-align: top;\n",
              "    }\n",
              "\n",
              "    .dataframe thead th {\n",
              "        text-align: right;\n",
              "    }\n",
              "</style>\n",
              "<table border=\"1\" class=\"dataframe\">\n",
              "  <thead>\n",
              "    <tr style=\"text-align: right;\">\n",
              "      <th></th>\n",
              "      <th>관리번호</th>\n",
              "      <th>개방자치단체코드</th>\n",
              "      <th>좌표정보(x)</th>\n",
              "      <th>좌표정보(y)</th>\n",
              "    </tr>\n",
              "  </thead>\n",
              "  <tbody>\n",
              "    <tr>\n",
              "      <th>0</th>\n",
              "      <td>3630000-102-2006-00009</td>\n",
              "      <td>3630000</td>\n",
              "      <td>185880.086598</td>\n",
              "      <td>191241.520048</td>\n",
              "    </tr>\n",
              "    <tr>\n",
              "      <th>1</th>\n",
              "      <td>3630000-102-2006-00013</td>\n",
              "      <td>3630000</td>\n",
              "      <td>185697.510050</td>\n",
              "      <td>191262.531468</td>\n",
              "    </tr>\n",
              "    <tr>\n",
              "      <th>2</th>\n",
              "      <td>3630000-102-2006-00014</td>\n",
              "      <td>3630000</td>\n",
              "      <td>185697.510050</td>\n",
              "      <td>191262.531468</td>\n",
              "    </tr>\n",
              "  </tbody>\n",
              "</table>\n",
              "</div>\n",
              "      <button class=\"colab-df-convert\" onclick=\"convertToInteractive('df-52f942ad-6a79-4cb0-8df3-16764122f165')\"\n",
              "              title=\"Convert this dataframe to an interactive table.\"\n",
              "              style=\"display:none;\">\n",
              "        \n",
              "  <svg xmlns=\"http://www.w3.org/2000/svg\" height=\"24px\"viewBox=\"0 0 24 24\"\n",
              "       width=\"24px\">\n",
              "    <path d=\"M0 0h24v24H0V0z\" fill=\"none\"/>\n",
              "    <path d=\"M18.56 5.44l.94 2.06.94-2.06 2.06-.94-2.06-.94-.94-2.06-.94 2.06-2.06.94zm-11 1L8.5 8.5l.94-2.06 2.06-.94-2.06-.94L8.5 2.5l-.94 2.06-2.06.94zm10 10l.94 2.06.94-2.06 2.06-.94-2.06-.94-.94-2.06-.94 2.06-2.06.94z\"/><path d=\"M17.41 7.96l-1.37-1.37c-.4-.4-.92-.59-1.43-.59-.52 0-1.04.2-1.43.59L10.3 9.45l-7.72 7.72c-.78.78-.78 2.05 0 2.83L4 21.41c.39.39.9.59 1.41.59.51 0 1.02-.2 1.41-.59l7.78-7.78 2.81-2.81c.8-.78.8-2.07 0-2.86zM5.41 20L4 18.59l7.72-7.72 1.47 1.35L5.41 20z\"/>\n",
              "  </svg>\n",
              "      </button>\n",
              "      \n",
              "  <style>\n",
              "    .colab-df-container {\n",
              "      display:flex;\n",
              "      flex-wrap:wrap;\n",
              "      gap: 12px;\n",
              "    }\n",
              "\n",
              "    .colab-df-convert {\n",
              "      background-color: #E8F0FE;\n",
              "      border: none;\n",
              "      border-radius: 50%;\n",
              "      cursor: pointer;\n",
              "      display: none;\n",
              "      fill: #1967D2;\n",
              "      height: 32px;\n",
              "      padding: 0 0 0 0;\n",
              "      width: 32px;\n",
              "    }\n",
              "\n",
              "    .colab-df-convert:hover {\n",
              "      background-color: #E2EBFA;\n",
              "      box-shadow: 0px 1px 2px rgba(60, 64, 67, 0.3), 0px 1px 3px 1px rgba(60, 64, 67, 0.15);\n",
              "      fill: #174EA6;\n",
              "    }\n",
              "\n",
              "    [theme=dark] .colab-df-convert {\n",
              "      background-color: #3B4455;\n",
              "      fill: #D2E3FC;\n",
              "    }\n",
              "\n",
              "    [theme=dark] .colab-df-convert:hover {\n",
              "      background-color: #434B5C;\n",
              "      box-shadow: 0px 1px 3px 1px rgba(0, 0, 0, 0.15);\n",
              "      filter: drop-shadow(0px 1px 2px rgba(0, 0, 0, 0.3));\n",
              "      fill: #FFFFFF;\n",
              "    }\n",
              "  </style>\n",
              "\n",
              "      <script>\n",
              "        const buttonEl =\n",
              "          document.querySelector('#df-52f942ad-6a79-4cb0-8df3-16764122f165 button.colab-df-convert');\n",
              "        buttonEl.style.display =\n",
              "          google.colab.kernel.accessAllowed ? 'block' : 'none';\n",
              "\n",
              "        async function convertToInteractive(key) {\n",
              "          const element = document.querySelector('#df-52f942ad-6a79-4cb0-8df3-16764122f165');\n",
              "          const dataTable =\n",
              "            await google.colab.kernel.invokeFunction('convertToInteractive',\n",
              "                                                     [key], {});\n",
              "          if (!dataTable) return;\n",
              "\n",
              "          const docLinkHtml = 'Like what you see? Visit the ' +\n",
              "            '<a target=\"_blank\" href=https://colab.research.google.com/notebooks/data_table.ipynb>data table notebook</a>'\n",
              "            + ' to learn more about interactive tables.';\n",
              "          element.innerHTML = '';\n",
              "          dataTable['output_type'] = 'display_data';\n",
              "          await google.colab.output.renderOutput(dataTable, element);\n",
              "          const docLink = document.createElement('div');\n",
              "          docLink.innerHTML = docLinkHtml;\n",
              "          element.appendChild(docLink);\n",
              "        }\n",
              "      </script>\n",
              "    </div>\n",
              "  </div>\n",
              "  "
            ]
          },
          "metadata": {},
          "execution_count": 91
        }
      ]
    },
    {
      "cell_type": "code",
      "source": [
        "#@title transform 바로 할 수 없는 상황\n",
        "rstr['좌표정보(y)'].map(type).unique"
      ],
      "metadata": {
        "colab": {
          "base_uri": "https://localhost:8080/"
        },
        "id": "rKUhZHwrAfdr",
        "outputId": "91444a09-c811-417d-cc79-20d6b8aaac20"
      },
      "execution_count": 92,
      "outputs": [
        {
          "output_type": "execute_result",
          "data": {
            "text/plain": [
              "<bound method Series.unique of 0        <class 'float'>\n",
              "1        <class 'float'>\n",
              "2        <class 'float'>\n",
              "3        <class 'float'>\n",
              "4        <class 'float'>\n",
              "              ...       \n",
              "52361    <class 'float'>\n",
              "52362    <class 'float'>\n",
              "52366    <class 'float'>\n",
              "52367    <class 'float'>\n",
              "52368    <class 'float'>\n",
              "Name: 좌표정보(y), Length: 9353, dtype: object>"
            ]
          },
          "metadata": {},
          "execution_count": 92
        }
      ]
    },
    {
      "cell_type": "code",
      "source": [
        "#@title **try** float 변환, **except** return 0\n",
        "def convert_float(item):\n",
        "  try:\n",
        "    return float(item)\n",
        "  except:\n",
        "    return 0"
      ],
      "metadata": {
        "id": "Lo5jud1lQ2N9"
      },
      "execution_count": 93,
      "outputs": []
    },
    {
      "cell_type": "code",
      "source": [
        "rstr['좌표정보(y)'] = rstr['좌표정보(y)'].map(convert_float)"
      ],
      "metadata": {
        "colab": {
          "base_uri": "https://localhost:8080/"
        },
        "id": "E79bJPhFRb0u",
        "outputId": "3c9d4a7c-2ca6-452e-82ee-8b420c7fa88c"
      },
      "execution_count": 94,
      "outputs": [
        {
          "output_type": "stream",
          "name": "stderr",
          "text": [
            "<ipython-input-94-60c9143c2600>:1: SettingWithCopyWarning: \n",
            "A value is trying to be set on a copy of a slice from a DataFrame.\n",
            "Try using .loc[row_indexer,col_indexer] = value instead\n",
            "\n",
            "See the caveats in the documentation: https://pandas.pydata.org/pandas-docs/stable/user_guide/indexing.html#returning-a-view-versus-a-copy\n",
            "  rstr['좌표정보(y)'] = rstr['좌표정보(y)'].map(convert_float)\n"
          ]
        }
      ]
    },
    {
      "cell_type": "code",
      "source": [
        "# 0인 행 삭제\n",
        "rstr.drop(rstr[rstr['좌표정보(y)'] == 0].index, inplace=True)"
      ],
      "metadata": {
        "colab": {
          "base_uri": "https://localhost:8080/"
        },
        "id": "-YuqjZuPR04H",
        "outputId": "993d1fc4-8ee9-485f-ef43-d6900383b561"
      },
      "execution_count": 95,
      "outputs": [
        {
          "output_type": "stream",
          "name": "stderr",
          "text": [
            "/usr/local/lib/python3.8/dist-packages/pandas/core/frame.py:4906: SettingWithCopyWarning: \n",
            "A value is trying to be set on a copy of a slice from a DataFrame\n",
            "\n",
            "See the caveats in the documentation: https://pandas.pydata.org/pandas-docs/stable/user_guide/indexing.html#returning-a-view-versus-a-copy\n",
            "  return super().drop(\n"
          ]
        }
      ]
    },
    {
      "cell_type": "code",
      "source": [
        "print(len(rstr))\n",
        "rstr.head(3)"
      ],
      "metadata": {
        "colab": {
          "base_uri": "https://localhost:8080/",
          "height": 161
        },
        "id": "5b63km4wSPrN",
        "outputId": "869c683f-c788-4e30-8bb5-efc8f11838e7"
      },
      "execution_count": 96,
      "outputs": [
        {
          "output_type": "stream",
          "name": "stdout",
          "text": [
            "9353\n"
          ]
        },
        {
          "output_type": "execute_result",
          "data": {
            "text/plain": [
              "                     관리번호  개방자치단체코드        좌표정보(x)        좌표정보(y)\n",
              "0  3630000-102-2006-00009   3630000  185880.086598  191241.520048\n",
              "1  3630000-102-2006-00013   3630000  185697.510050  191262.531468\n",
              "2  3630000-102-2006-00014   3630000  185697.510050  191262.531468"
            ],
            "text/html": [
              "\n",
              "  <div id=\"df-6b3e3751-a3c7-4f8e-8627-4ba3ff43c3fa\">\n",
              "    <div class=\"colab-df-container\">\n",
              "      <div>\n",
              "<style scoped>\n",
              "    .dataframe tbody tr th:only-of-type {\n",
              "        vertical-align: middle;\n",
              "    }\n",
              "\n",
              "    .dataframe tbody tr th {\n",
              "        vertical-align: top;\n",
              "    }\n",
              "\n",
              "    .dataframe thead th {\n",
              "        text-align: right;\n",
              "    }\n",
              "</style>\n",
              "<table border=\"1\" class=\"dataframe\">\n",
              "  <thead>\n",
              "    <tr style=\"text-align: right;\">\n",
              "      <th></th>\n",
              "      <th>관리번호</th>\n",
              "      <th>개방자치단체코드</th>\n",
              "      <th>좌표정보(x)</th>\n",
              "      <th>좌표정보(y)</th>\n",
              "    </tr>\n",
              "  </thead>\n",
              "  <tbody>\n",
              "    <tr>\n",
              "      <th>0</th>\n",
              "      <td>3630000-102-2006-00009</td>\n",
              "      <td>3630000</td>\n",
              "      <td>185880.086598</td>\n",
              "      <td>191241.520048</td>\n",
              "    </tr>\n",
              "    <tr>\n",
              "      <th>1</th>\n",
              "      <td>3630000-102-2006-00013</td>\n",
              "      <td>3630000</td>\n",
              "      <td>185697.510050</td>\n",
              "      <td>191262.531468</td>\n",
              "    </tr>\n",
              "    <tr>\n",
              "      <th>2</th>\n",
              "      <td>3630000-102-2006-00014</td>\n",
              "      <td>3630000</td>\n",
              "      <td>185697.510050</td>\n",
              "      <td>191262.531468</td>\n",
              "    </tr>\n",
              "  </tbody>\n",
              "</table>\n",
              "</div>\n",
              "      <button class=\"colab-df-convert\" onclick=\"convertToInteractive('df-6b3e3751-a3c7-4f8e-8627-4ba3ff43c3fa')\"\n",
              "              title=\"Convert this dataframe to an interactive table.\"\n",
              "              style=\"display:none;\">\n",
              "        \n",
              "  <svg xmlns=\"http://www.w3.org/2000/svg\" height=\"24px\"viewBox=\"0 0 24 24\"\n",
              "       width=\"24px\">\n",
              "    <path d=\"M0 0h24v24H0V0z\" fill=\"none\"/>\n",
              "    <path d=\"M18.56 5.44l.94 2.06.94-2.06 2.06-.94-2.06-.94-.94-2.06-.94 2.06-2.06.94zm-11 1L8.5 8.5l.94-2.06 2.06-.94-2.06-.94L8.5 2.5l-.94 2.06-2.06.94zm10 10l.94 2.06.94-2.06 2.06-.94-2.06-.94-.94-2.06-.94 2.06-2.06.94z\"/><path d=\"M17.41 7.96l-1.37-1.37c-.4-.4-.92-.59-1.43-.59-.52 0-1.04.2-1.43.59L10.3 9.45l-7.72 7.72c-.78.78-.78 2.05 0 2.83L4 21.41c.39.39.9.59 1.41.59.51 0 1.02-.2 1.41-.59l7.78-7.78 2.81-2.81c.8-.78.8-2.07 0-2.86zM5.41 20L4 18.59l7.72-7.72 1.47 1.35L5.41 20z\"/>\n",
              "  </svg>\n",
              "      </button>\n",
              "      \n",
              "  <style>\n",
              "    .colab-df-container {\n",
              "      display:flex;\n",
              "      flex-wrap:wrap;\n",
              "      gap: 12px;\n",
              "    }\n",
              "\n",
              "    .colab-df-convert {\n",
              "      background-color: #E8F0FE;\n",
              "      border: none;\n",
              "      border-radius: 50%;\n",
              "      cursor: pointer;\n",
              "      display: none;\n",
              "      fill: #1967D2;\n",
              "      height: 32px;\n",
              "      padding: 0 0 0 0;\n",
              "      width: 32px;\n",
              "    }\n",
              "\n",
              "    .colab-df-convert:hover {\n",
              "      background-color: #E2EBFA;\n",
              "      box-shadow: 0px 1px 2px rgba(60, 64, 67, 0.3), 0px 1px 3px 1px rgba(60, 64, 67, 0.15);\n",
              "      fill: #174EA6;\n",
              "    }\n",
              "\n",
              "    [theme=dark] .colab-df-convert {\n",
              "      background-color: #3B4455;\n",
              "      fill: #D2E3FC;\n",
              "    }\n",
              "\n",
              "    [theme=dark] .colab-df-convert:hover {\n",
              "      background-color: #434B5C;\n",
              "      box-shadow: 0px 1px 3px 1px rgba(0, 0, 0, 0.15);\n",
              "      filter: drop-shadow(0px 1px 2px rgba(0, 0, 0, 0.3));\n",
              "      fill: #FFFFFF;\n",
              "    }\n",
              "  </style>\n",
              "\n",
              "      <script>\n",
              "        const buttonEl =\n",
              "          document.querySelector('#df-6b3e3751-a3c7-4f8e-8627-4ba3ff43c3fa button.colab-df-convert');\n",
              "        buttonEl.style.display =\n",
              "          google.colab.kernel.accessAllowed ? 'block' : 'none';\n",
              "\n",
              "        async function convertToInteractive(key) {\n",
              "          const element = document.querySelector('#df-6b3e3751-a3c7-4f8e-8627-4ba3ff43c3fa');\n",
              "          const dataTable =\n",
              "            await google.colab.kernel.invokeFunction('convertToInteractive',\n",
              "                                                     [key], {});\n",
              "          if (!dataTable) return;\n",
              "\n",
              "          const docLinkHtml = 'Like what you see? Visit the ' +\n",
              "            '<a target=\"_blank\" href=https://colab.research.google.com/notebooks/data_table.ipynb>data table notebook</a>'\n",
              "            + ' to learn more about interactive tables.';\n",
              "          element.innerHTML = '';\n",
              "          dataTable['output_type'] = 'display_data';\n",
              "          await google.colab.output.renderOutput(dataTable, element);\n",
              "          const docLink = document.createElement('div');\n",
              "          docLink.innerHTML = docLinkHtml;\n",
              "          element.appendChild(docLink);\n",
              "        }\n",
              "      </script>\n",
              "    </div>\n",
              "  </div>\n",
              "  "
            ]
          },
          "metadata": {},
          "execution_count": 96
        }
      ]
    },
    {
      "cell_type": "code",
      "source": [
        "print(f'총 음식점 개수: {len(rstr)}')"
      ],
      "metadata": {
        "colab": {
          "base_uri": "https://localhost:8080/"
        },
        "id": "SIvRTnu5wX4w",
        "outputId": "f56594eb-b17c-4abd-bc32-8f7fe5b016fd"
      },
      "execution_count": 97,
      "outputs": [
        {
          "output_type": "stream",
          "name": "stdout",
          "text": [
            "총 음식점 개수: 9353\n"
          ]
        }
      ]
    },
    {
      "cell_type": "code",
      "source": [
        "# rstr.to_csv('rstr.csv', index = False, encoding='cp949')"
      ],
      "metadata": {
        "id": "o_ZmoKTiUWPk"
      },
      "execution_count": 98,
      "outputs": []
    },
    {
      "cell_type": "markdown",
      "source": [
        "## 좌표계 변경\n",
        "- 기존: 중부원점TM(EPSG:2097)좌표계\n",
        "- 변경: 'epsg:4326' 위도 경도"
      ],
      "metadata": {
        "id": "OhXouNg4yMtO"
      }
    },
    {
      "cell_type": "code",
      "source": [
        "!pip install pyproj"
      ],
      "metadata": {
        "colab": {
          "base_uri": "https://localhost:8080/"
        },
        "id": "VJD717fhzIEH",
        "outputId": "74ed75e7-7268-4486-c4e3-3fc8606e4687"
      },
      "execution_count": 99,
      "outputs": [
        {
          "output_type": "stream",
          "name": "stdout",
          "text": [
            "Looking in indexes: https://pypi.org/simple, https://us-python.pkg.dev/colab-wheels/public/simple/\n",
            "Requirement already satisfied: pyproj in /usr/local/lib/python3.8/dist-packages (3.4.1)\n",
            "Requirement already satisfied: certifi in /usr/local/lib/python3.8/dist-packages (from pyproj) (2022.12.7)\n"
          ]
        }
      ]
    },
    {
      "cell_type": "code",
      "source": [
        "from pyproj import Proj, transform\n",
        " \n",
        "epsg2097= Proj(init=\"epsg:2097\")\n",
        "wgs84=Proj(init='epsg:4326')"
      ],
      "metadata": {
        "colab": {
          "base_uri": "https://localhost:8080/"
        },
        "id": "mcK9nsunySlE",
        "outputId": "78a02249-969e-403e-f991-79399b015c36"
      },
      "execution_count": 100,
      "outputs": [
        {
          "output_type": "stream",
          "name": "stderr",
          "text": [
            "/usr/local/lib/python3.8/dist-packages/pyproj/crs/crs.py:141: FutureWarning: '+init=<authority>:<code>' syntax is deprecated. '<authority>:<code>' is the preferred initialization method. When making the change, be mindful of axis order changes: https://pyproj4.github.io/pyproj/stable/gotchas.html#axis-order-changes-in-proj-6\n",
            "  in_crs_string = _prepare_from_proj_string(in_crs_string)\n",
            "/usr/local/lib/python3.8/dist-packages/pyproj/crs/crs.py:141: FutureWarning: '+init=<authority>:<code>' syntax is deprecated. '<authority>:<code>' is the preferred initialization method. When making the change, be mindful of axis order changes: https://pyproj4.github.io/pyproj/stable/gotchas.html#axis-order-changes-in-proj-6\n",
            "  in_crs_string = _prepare_from_proj_string(in_crs_string)\n"
          ]
        }
      ]
    },
    {
      "cell_type": "code",
      "source": [
        "transform(epsg2097, wgs84, 213117.592076, 437825.856238) # 변환 체크"
      ],
      "metadata": {
        "colab": {
          "base_uri": "https://localhost:8080/"
        },
        "id": "70L0gk3xzXiQ",
        "outputId": "8dafebf2-a83c-42cb-8c5b-6e0b2988b1b8"
      },
      "execution_count": 101,
      "outputs": [
        {
          "output_type": "stream",
          "name": "stderr",
          "text": [
            "<ipython-input-101-e33f5afcaa69>:1: FutureWarning: This function is deprecated. See: https://pyproj4.github.io/pyproj/stable/gotchas.html#upgrading-to-pyproj-2-from-pyproj-1\n",
            "  transform(epsg2097, wgs84, 213117.592076, 437825.856238) # 변환 체크\n"
          ]
        },
        {
          "output_type": "execute_result",
          "data": {
            "text/plain": [
              "(127.14613057655316, 37.44248701960818)"
            ]
          },
          "metadata": {},
          "execution_count": 101
        }
      ]
    },
    {
      "cell_type": "code",
      "source": [
        "rstr['transformed'] = rstr.apply(lambda row : transform(epsg2097, wgs84, row['좌표정보(x)'], row['좌표정보(y)']), axis = 1)\n",
        "rstr['x'] = rstr['transformed'].apply(lambda x : x[0])\n",
        "rstr['y'] = rstr['transformed'].apply(lambda x : x[1])\n",
        "rstr = rstr.drop(columns = ['transformed', '좌표정보(x)', '좌표정보(y)'])"
      ],
      "metadata": {
        "id": "sn_yYbmgzUNw",
        "colab": {
          "base_uri": "https://localhost:8080/"
        },
        "outputId": "6846556f-fe17-4bee-c74a-f1ea712e7cf4"
      },
      "execution_count": 102,
      "outputs": [
        {
          "output_type": "stream",
          "name": "stderr",
          "text": [
            "<ipython-input-102-8a377a4d2b75>:1: FutureWarning: This function is deprecated. See: https://pyproj4.github.io/pyproj/stable/gotchas.html#upgrading-to-pyproj-2-from-pyproj-1\n",
            "  rstr['transformed'] = rstr.apply(lambda row : transform(epsg2097, wgs84, row['좌표정보(x)'], row['좌표정보(y)']), axis = 1)\n",
            "<ipython-input-102-8a377a4d2b75>:1: SettingWithCopyWarning: \n",
            "A value is trying to be set on a copy of a slice from a DataFrame.\n",
            "Try using .loc[row_indexer,col_indexer] = value instead\n",
            "\n",
            "See the caveats in the documentation: https://pandas.pydata.org/pandas-docs/stable/user_guide/indexing.html#returning-a-view-versus-a-copy\n",
            "  rstr['transformed'] = rstr.apply(lambda row : transform(epsg2097, wgs84, row['좌표정보(x)'], row['좌표정보(y)']), axis = 1)\n",
            "<ipython-input-102-8a377a4d2b75>:2: SettingWithCopyWarning: \n",
            "A value is trying to be set on a copy of a slice from a DataFrame.\n",
            "Try using .loc[row_indexer,col_indexer] = value instead\n",
            "\n",
            "See the caveats in the documentation: https://pandas.pydata.org/pandas-docs/stable/user_guide/indexing.html#returning-a-view-versus-a-copy\n",
            "  rstr['x'] = rstr['transformed'].apply(lambda x : x[0])\n",
            "<ipython-input-102-8a377a4d2b75>:3: SettingWithCopyWarning: \n",
            "A value is trying to be set on a copy of a slice from a DataFrame.\n",
            "Try using .loc[row_indexer,col_indexer] = value instead\n",
            "\n",
            "See the caveats in the documentation: https://pandas.pydata.org/pandas-docs/stable/user_guide/indexing.html#returning-a-view-versus-a-copy\n",
            "  rstr['y'] = rstr['transformed'].apply(lambda x : x[1])\n"
          ]
        }
      ]
    },
    {
      "cell_type": "code",
      "source": [
        "print(len(rstr))\n",
        "rstr.head(3)"
      ],
      "metadata": {
        "id": "Q25R48bk6BSh",
        "colab": {
          "base_uri": "https://localhost:8080/",
          "height": 161
        },
        "outputId": "3a4d474d-f067-4516-b64d-0e2c5fba8659"
      },
      "execution_count": 103,
      "outputs": [
        {
          "output_type": "stream",
          "name": "stdout",
          "text": [
            "9353\n"
          ]
        },
        {
          "output_type": "execute_result",
          "data": {
            "text/plain": [
              "                     관리번호  개방자치단체코드           x          y\n",
              "0  3630000-102-2006-00009   3630000  126.842828  35.220318\n",
              "1  3630000-102-2006-00013   3630000  126.840823  35.220504\n",
              "2  3630000-102-2006-00014   3630000  126.840823  35.220504"
            ],
            "text/html": [
              "\n",
              "  <div id=\"df-b9696f1f-1284-4a7c-bbfa-affe1b62dfff\">\n",
              "    <div class=\"colab-df-container\">\n",
              "      <div>\n",
              "<style scoped>\n",
              "    .dataframe tbody tr th:only-of-type {\n",
              "        vertical-align: middle;\n",
              "    }\n",
              "\n",
              "    .dataframe tbody tr th {\n",
              "        vertical-align: top;\n",
              "    }\n",
              "\n",
              "    .dataframe thead th {\n",
              "        text-align: right;\n",
              "    }\n",
              "</style>\n",
              "<table border=\"1\" class=\"dataframe\">\n",
              "  <thead>\n",
              "    <tr style=\"text-align: right;\">\n",
              "      <th></th>\n",
              "      <th>관리번호</th>\n",
              "      <th>개방자치단체코드</th>\n",
              "      <th>x</th>\n",
              "      <th>y</th>\n",
              "    </tr>\n",
              "  </thead>\n",
              "  <tbody>\n",
              "    <tr>\n",
              "      <th>0</th>\n",
              "      <td>3630000-102-2006-00009</td>\n",
              "      <td>3630000</td>\n",
              "      <td>126.842828</td>\n",
              "      <td>35.220318</td>\n",
              "    </tr>\n",
              "    <tr>\n",
              "      <th>1</th>\n",
              "      <td>3630000-102-2006-00013</td>\n",
              "      <td>3630000</td>\n",
              "      <td>126.840823</td>\n",
              "      <td>35.220504</td>\n",
              "    </tr>\n",
              "    <tr>\n",
              "      <th>2</th>\n",
              "      <td>3630000-102-2006-00014</td>\n",
              "      <td>3630000</td>\n",
              "      <td>126.840823</td>\n",
              "      <td>35.220504</td>\n",
              "    </tr>\n",
              "  </tbody>\n",
              "</table>\n",
              "</div>\n",
              "      <button class=\"colab-df-convert\" onclick=\"convertToInteractive('df-b9696f1f-1284-4a7c-bbfa-affe1b62dfff')\"\n",
              "              title=\"Convert this dataframe to an interactive table.\"\n",
              "              style=\"display:none;\">\n",
              "        \n",
              "  <svg xmlns=\"http://www.w3.org/2000/svg\" height=\"24px\"viewBox=\"0 0 24 24\"\n",
              "       width=\"24px\">\n",
              "    <path d=\"M0 0h24v24H0V0z\" fill=\"none\"/>\n",
              "    <path d=\"M18.56 5.44l.94 2.06.94-2.06 2.06-.94-2.06-.94-.94-2.06-.94 2.06-2.06.94zm-11 1L8.5 8.5l.94-2.06 2.06-.94-2.06-.94L8.5 2.5l-.94 2.06-2.06.94zm10 10l.94 2.06.94-2.06 2.06-.94-2.06-.94-.94-2.06-.94 2.06-2.06.94z\"/><path d=\"M17.41 7.96l-1.37-1.37c-.4-.4-.92-.59-1.43-.59-.52 0-1.04.2-1.43.59L10.3 9.45l-7.72 7.72c-.78.78-.78 2.05 0 2.83L4 21.41c.39.39.9.59 1.41.59.51 0 1.02-.2 1.41-.59l7.78-7.78 2.81-2.81c.8-.78.8-2.07 0-2.86zM5.41 20L4 18.59l7.72-7.72 1.47 1.35L5.41 20z\"/>\n",
              "  </svg>\n",
              "      </button>\n",
              "      \n",
              "  <style>\n",
              "    .colab-df-container {\n",
              "      display:flex;\n",
              "      flex-wrap:wrap;\n",
              "      gap: 12px;\n",
              "    }\n",
              "\n",
              "    .colab-df-convert {\n",
              "      background-color: #E8F0FE;\n",
              "      border: none;\n",
              "      border-radius: 50%;\n",
              "      cursor: pointer;\n",
              "      display: none;\n",
              "      fill: #1967D2;\n",
              "      height: 32px;\n",
              "      padding: 0 0 0 0;\n",
              "      width: 32px;\n",
              "    }\n",
              "\n",
              "    .colab-df-convert:hover {\n",
              "      background-color: #E2EBFA;\n",
              "      box-shadow: 0px 1px 2px rgba(60, 64, 67, 0.3), 0px 1px 3px 1px rgba(60, 64, 67, 0.15);\n",
              "      fill: #174EA6;\n",
              "    }\n",
              "\n",
              "    [theme=dark] .colab-df-convert {\n",
              "      background-color: #3B4455;\n",
              "      fill: #D2E3FC;\n",
              "    }\n",
              "\n",
              "    [theme=dark] .colab-df-convert:hover {\n",
              "      background-color: #434B5C;\n",
              "      box-shadow: 0px 1px 3px 1px rgba(0, 0, 0, 0.15);\n",
              "      filter: drop-shadow(0px 1px 2px rgba(0, 0, 0, 0.3));\n",
              "      fill: #FFFFFF;\n",
              "    }\n",
              "  </style>\n",
              "\n",
              "      <script>\n",
              "        const buttonEl =\n",
              "          document.querySelector('#df-b9696f1f-1284-4a7c-bbfa-affe1b62dfff button.colab-df-convert');\n",
              "        buttonEl.style.display =\n",
              "          google.colab.kernel.accessAllowed ? 'block' : 'none';\n",
              "\n",
              "        async function convertToInteractive(key) {\n",
              "          const element = document.querySelector('#df-b9696f1f-1284-4a7c-bbfa-affe1b62dfff');\n",
              "          const dataTable =\n",
              "            await google.colab.kernel.invokeFunction('convertToInteractive',\n",
              "                                                     [key], {});\n",
              "          if (!dataTable) return;\n",
              "\n",
              "          const docLinkHtml = 'Like what you see? Visit the ' +\n",
              "            '<a target=\"_blank\" href=https://colab.research.google.com/notebooks/data_table.ipynb>data table notebook</a>'\n",
              "            + ' to learn more about interactive tables.';\n",
              "          element.innerHTML = '';\n",
              "          dataTable['output_type'] = 'display_data';\n",
              "          await google.colab.output.renderOutput(dataTable, element);\n",
              "          const docLink = document.createElement('div');\n",
              "          docLink.innerHTML = docLinkHtml;\n",
              "          element.appendChild(docLink);\n",
              "        }\n",
              "      </script>\n",
              "    </div>\n",
              "  </div>\n",
              "  "
            ]
          },
          "metadata": {},
          "execution_count": 103
        }
      ]
    },
    {
      "cell_type": "code",
      "source": [
        "rstr.to_csv('data/restaurant/uheung_rstr.csv', index = False, encoding='cp949')"
      ],
      "metadata": {
        "id": "RAOpPmrVz2iY"
      },
      "execution_count": 105,
      "outputs": []
    }
  ],
  "metadata": {
    "colab": {
      "provenance": []
    },
    "kernelspec": {
      "display_name": "Python 3",
      "name": "python3"
    },
    "language_info": {
      "name": "python"
    }
  },
  "nbformat": 4,
  "nbformat_minor": 0
}