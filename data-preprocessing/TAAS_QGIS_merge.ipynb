{
 "cells": [
  {
   "cell_type": "code",
   "execution_count": 1,
   "id": "33ee42af",
   "metadata": {},
   "outputs": [],
   "source": [
    "import re\n",
    "import numpy as np\n",
    "import pandas as pd\n",
    "import seaborn as sns\n",
    "import matplotlib.pyplot as plt\n",
    "\n",
    "plt.rcParams['font.family'] = 'Malgun Gothic'\n",
    "pd.set_option('mode.chained_assignment',  None) # 경고를 끈다\n",
    "pd.set_option('display.max_columns', None) # 모든 열 출력\n",
    "plt.rcParams['axes.unicode_minus'] = False"
   ]
  },
  {
   "cell_type": "code",
   "execution_count": 2,
   "id": "daa193e9",
   "metadata": {},
   "outputs": [],
   "source": [
    "taas = pd.read_csv('data/taas/taas_motor_population_weather.csv', encoding = 'cp949')\n",
    "qgis_1 = pd.read_csv('data/qgis/taas_grid_join.csv', encoding = 'cp949')\n",
    "qgis_intersection = pd.read_csv('data/qgis/taas_grid_intersection.csv', encoding = 'cp949')\n",
    "qgis_bus = pd.read_csv('data/qgis/taas_grid_bus.csv', encoding = 'cp949')"
   ]
  },
  {
   "cell_type": "code",
   "execution_count": 3,
   "id": "8ac1cf53",
   "metadata": {
    "scrolled": true
   },
   "outputs": [
    {
     "data": {
      "text/html": [
       "<div>\n",
       "<style scoped>\n",
       "    .dataframe tbody tr th:only-of-type {\n",
       "        vertical-align: middle;\n",
       "    }\n",
       "\n",
       "    .dataframe tbody tr th {\n",
       "        vertical-align: top;\n",
       "    }\n",
       "\n",
       "    .dataframe thead th {\n",
       "        text-align: right;\n",
       "    }\n",
       "</style>\n",
       "<table border=\"1\" class=\"dataframe\">\n",
       "  <thead>\n",
       "    <tr style=\"text-align: right;\">\n",
       "      <th></th>\n",
       "      <th>사고번호</th>\n",
       "      <th>사고일시</th>\n",
       "      <th>요일</th>\n",
       "      <th>시군구</th>\n",
       "      <th>사고유형</th>\n",
       "      <th>법규위반</th>\n",
       "      <th>노면상태</th>\n",
       "      <th>기상상태</th>\n",
       "      <th>도로형태</th>\n",
       "      <th>가해운전자 차종</th>\n",
       "      <th>가해운전자 성별</th>\n",
       "      <th>가해운전자 연령</th>\n",
       "      <th>x</th>\n",
       "      <th>y</th>\n",
       "      <th>EPDO</th>\n",
       "      <th>연월</th>\n",
       "      <th>위치</th>\n",
       "      <th>이륜차</th>\n",
       "      <th>인구</th>\n",
       "      <th>기온</th>\n",
       "      <th>강수량</th>\n",
       "      <th>풍속</th>\n",
       "    </tr>\n",
       "  </thead>\n",
       "  <tbody>\n",
       "    <tr>\n",
       "      <th>0</th>\n",
       "      <td>2019010100100002</td>\n",
       "      <td>201901010000</td>\n",
       "      <td>화요일</td>\n",
       "      <td>서울특별시 구로구 고척동</td>\n",
       "      <td>차대차</td>\n",
       "      <td>안전운전불이행</td>\n",
       "      <td>건조</td>\n",
       "      <td>맑음</td>\n",
       "      <td>단일로 - 기타</td>\n",
       "      <td>이륜</td>\n",
       "      <td>남</td>\n",
       "      <td>청년</td>\n",
       "      <td>126.867286</td>\n",
       "      <td>37.499889</td>\n",
       "      <td>3</td>\n",
       "      <td>201901</td>\n",
       "      <td>서울특별시 구로구</td>\n",
       "      <td>15623</td>\n",
       "      <td>404049</td>\n",
       "      <td>-5.5</td>\n",
       "      <td>0.0</td>\n",
       "      <td>1.0</td>\n",
       "    </tr>\n",
       "  </tbody>\n",
       "</table>\n",
       "</div>"
      ],
      "text/plain": [
       "               사고번호          사고일시   요일            시군구 사고유형     법규위반 노면상태 기상상태  \\\n",
       "0  2019010100100002  201901010000  화요일  서울특별시 구로구 고척동  차대차  안전운전불이행   건조   맑음   \n",
       "\n",
       "       도로형태 가해운전자 차종 가해운전자 성별 가해운전자 연령           x          y  EPDO      연월  \\\n",
       "0  단일로 - 기타       이륜        남       청년  126.867286  37.499889     3  201901   \n",
       "\n",
       "          위치    이륜차      인구   기온  강수량   풍속  \n",
       "0  서울특별시 구로구  15623  404049 -5.5  0.0  1.0  "
      ]
     },
     "execution_count": 3,
     "metadata": {},
     "output_type": "execute_result"
    }
   ],
   "source": [
    "taas.head(1)"
   ]
  },
  {
   "cell_type": "code",
   "execution_count": 4,
   "id": "0e2a7cc4",
   "metadata": {
    "scrolled": true
   },
   "outputs": [
    {
     "data": {
      "text/html": [
       "<div>\n",
       "<style scoped>\n",
       "    .dataframe tbody tr th:only-of-type {\n",
       "        vertical-align: middle;\n",
       "    }\n",
       "\n",
       "    .dataframe tbody tr th {\n",
       "        vertical-align: top;\n",
       "    }\n",
       "\n",
       "    .dataframe thead th {\n",
       "        text-align: right;\n",
       "    }\n",
       "</style>\n",
       "<table border=\"1\" class=\"dataframe\">\n",
       "  <thead>\n",
       "    <tr style=\"text-align: right;\">\n",
       "      <th></th>\n",
       "      <th>사고번호</th>\n",
       "      <th>사고일시</th>\n",
       "      <th>요일</th>\n",
       "      <th>시군구</th>\n",
       "      <th>사고내용</th>\n",
       "      <th>사망자수</th>\n",
       "      <th>중상자수</th>\n",
       "      <th>경상자수</th>\n",
       "      <th>부상신고자수</th>\n",
       "      <th>사고유형</th>\n",
       "      <th>법규위반</th>\n",
       "      <th>노면상태</th>\n",
       "      <th>기상상태</th>\n",
       "      <th>도로형태</th>\n",
       "      <th>가해운전자 차종</th>\n",
       "      <th>가해운전자 성별</th>\n",
       "      <th>가해운전자 연령</th>\n",
       "      <th>가해운전자 상해정도</th>\n",
       "      <th>피해운전자 차종</th>\n",
       "      <th>피해운전자 성별</th>\n",
       "      <th>피해운전자 연령</th>\n",
       "      <th>피해운전자 상해정도</th>\n",
       "      <th>x</th>\n",
       "      <th>y</th>\n",
       "      <th>id</th>\n",
       "      <th>cam_n</th>\n",
       "      <th>schoolzone_n</th>\n",
       "      <th>rstr_n</th>\n",
       "      <th>uheung_n</th>\n",
       "      <th>danran_n</th>\n",
       "    </tr>\n",
       "  </thead>\n",
       "  <tbody>\n",
       "    <tr>\n",
       "      <th>0</th>\n",
       "      <td>2019010100100002</td>\n",
       "      <td>2019년 1월 1일 00시</td>\n",
       "      <td>화요일</td>\n",
       "      <td>서울특별시 구로구 고척동</td>\n",
       "      <td>경상사고</td>\n",
       "      <td>0</td>\n",
       "      <td>0</td>\n",
       "      <td>1</td>\n",
       "      <td>0</td>\n",
       "      <td>차대차 - 추돌</td>\n",
       "      <td>안전운전불이행</td>\n",
       "      <td>포장 - 건조</td>\n",
       "      <td>맑음</td>\n",
       "      <td>단일로 - 기타</td>\n",
       "      <td>이륜</td>\n",
       "      <td>남</td>\n",
       "      <td>23세</td>\n",
       "      <td>상해없음</td>\n",
       "      <td>승용</td>\n",
       "      <td>남</td>\n",
       "      <td>71세</td>\n",
       "      <td>경상</td>\n",
       "      <td>126.867286</td>\n",
       "      <td>37.499889</td>\n",
       "      <td>1980515.0</td>\n",
       "      <td>0.0</td>\n",
       "      <td>0.0</td>\n",
       "      <td>23.0</td>\n",
       "      <td>0.0</td>\n",
       "      <td>0.0</td>\n",
       "    </tr>\n",
       "  </tbody>\n",
       "</table>\n",
       "</div>"
      ],
      "text/plain": [
       "               사고번호             사고일시   요일            시군구  사고내용  사망자수  중상자수  \\\n",
       "0  2019010100100002  2019년 1월 1일 00시  화요일  서울특별시 구로구 고척동  경상사고     0     0   \n",
       "\n",
       "   경상자수  부상신고자수      사고유형     법규위반     노면상태 기상상태      도로형태 가해운전자 차종 가해운전자 성별  \\\n",
       "0     1       0  차대차 - 추돌  안전운전불이행  포장 - 건조   맑음  단일로 - 기타       이륜        남   \n",
       "\n",
       "  가해운전자 연령 가해운전자 상해정도 피해운전자 차종 피해운전자 성별 피해운전자 연령 피해운전자 상해정도           x  \\\n",
       "0      23세       상해없음       승용        남      71세         경상  126.867286   \n",
       "\n",
       "           y         id  cam_n  schoolzone_n  rstr_n  uheung_n  danran_n  \n",
       "0  37.499889  1980515.0    0.0           0.0    23.0       0.0       0.0  "
      ]
     },
     "execution_count": 4,
     "metadata": {},
     "output_type": "execute_result"
    }
   ],
   "source": [
    "qgis_1.head(1)"
   ]
  },
  {
   "cell_type": "code",
   "execution_count": 5,
   "id": "63a078e8",
   "metadata": {},
   "outputs": [
    {
     "data": {
      "text/html": [
       "<div>\n",
       "<style scoped>\n",
       "    .dataframe tbody tr th:only-of-type {\n",
       "        vertical-align: middle;\n",
       "    }\n",
       "\n",
       "    .dataframe tbody tr th {\n",
       "        vertical-align: top;\n",
       "    }\n",
       "\n",
       "    .dataframe thead th {\n",
       "        text-align: right;\n",
       "    }\n",
       "</style>\n",
       "<table border=\"1\" class=\"dataframe\">\n",
       "  <thead>\n",
       "    <tr style=\"text-align: right;\">\n",
       "      <th></th>\n",
       "      <th>id</th>\n",
       "      <th>left</th>\n",
       "      <th>top</th>\n",
       "      <th>right</th>\n",
       "      <th>bottom</th>\n",
       "      <th>NUMPOINTS</th>\n",
       "    </tr>\n",
       "  </thead>\n",
       "  <tbody>\n",
       "    <tr>\n",
       "      <th>0</th>\n",
       "      <td>1538221</td>\n",
       "      <td>899743.158231</td>\n",
       "      <td>1.969487e+06</td>\n",
       "      <td>899974.098339</td>\n",
       "      <td>1.969287e+06</td>\n",
       "      <td>0</td>\n",
       "    </tr>\n",
       "  </tbody>\n",
       "</table>\n",
       "</div>"
      ],
      "text/plain": [
       "        id           left           top          right        bottom  \\\n",
       "0  1538221  899743.158231  1.969487e+06  899974.098339  1.969287e+06   \n",
       "\n",
       "   NUMPOINTS  \n",
       "0          0  "
      ]
     },
     "execution_count": 5,
     "metadata": {},
     "output_type": "execute_result"
    }
   ],
   "source": [
    "qgis_intersection.head(1)"
   ]
  },
  {
   "cell_type": "code",
   "execution_count": 6,
   "id": "8dffdffd",
   "metadata": {},
   "outputs": [
    {
     "data": {
      "text/html": [
       "<div>\n",
       "<style scoped>\n",
       "    .dataframe tbody tr th:only-of-type {\n",
       "        vertical-align: middle;\n",
       "    }\n",
       "\n",
       "    .dataframe tbody tr th {\n",
       "        vertical-align: top;\n",
       "    }\n",
       "\n",
       "    .dataframe thead th {\n",
       "        text-align: right;\n",
       "    }\n",
       "</style>\n",
       "<table border=\"1\" class=\"dataframe\">\n",
       "  <thead>\n",
       "    <tr style=\"text-align: right;\">\n",
       "      <th></th>\n",
       "      <th>id</th>\n",
       "      <th>left</th>\n",
       "      <th>top</th>\n",
       "      <th>right</th>\n",
       "      <th>bottom</th>\n",
       "      <th>bus</th>\n",
       "    </tr>\n",
       "  </thead>\n",
       "  <tbody>\n",
       "    <tr>\n",
       "      <th>0</th>\n",
       "      <td>4159496</td>\n",
       "      <td>1.161456e+06</td>\n",
       "      <td>1.729387e+06</td>\n",
       "      <td>1.161687e+06</td>\n",
       "      <td>1.729187e+06</td>\n",
       "      <td>2</td>\n",
       "    </tr>\n",
       "  </tbody>\n",
       "</table>\n",
       "</div>"
      ],
      "text/plain": [
       "        id          left           top         right        bottom  bus\n",
       "0  4159496  1.161456e+06  1.729387e+06  1.161687e+06  1.729187e+06    2"
      ]
     },
     "execution_count": 6,
     "metadata": {},
     "output_type": "execute_result"
    }
   ],
   "source": [
    "qgis_bus.head(1)"
   ]
  },
  {
   "cell_type": "markdown",
   "id": "f603d8c4",
   "metadata": {},
   "source": [
    "### qgis_1과 merge"
   ]
  },
  {
   "cell_type": "code",
   "execution_count": 7,
   "id": "797fca7f",
   "metadata": {},
   "outputs": [],
   "source": [
    "qgis_1_sub = qgis_1[['사고번호','id','cam_n','schoolzone_n','rstr_n','uheung_n','danran_n']]"
   ]
  },
  {
   "cell_type": "code",
   "execution_count": 8,
   "id": "ce8e932e",
   "metadata": {
    "scrolled": true
   },
   "outputs": [
    {
     "data": {
      "text/html": [
       "<div>\n",
       "<style scoped>\n",
       "    .dataframe tbody tr th:only-of-type {\n",
       "        vertical-align: middle;\n",
       "    }\n",
       "\n",
       "    .dataframe tbody tr th {\n",
       "        vertical-align: top;\n",
       "    }\n",
       "\n",
       "    .dataframe thead th {\n",
       "        text-align: right;\n",
       "    }\n",
       "</style>\n",
       "<table border=\"1\" class=\"dataframe\">\n",
       "  <thead>\n",
       "    <tr style=\"text-align: right;\">\n",
       "      <th></th>\n",
       "      <th>사고번호</th>\n",
       "      <th>id</th>\n",
       "      <th>cam_n</th>\n",
       "      <th>schoolzone_n</th>\n",
       "      <th>rstr_n</th>\n",
       "      <th>uheung_n</th>\n",
       "      <th>danran_n</th>\n",
       "    </tr>\n",
       "  </thead>\n",
       "  <tbody>\n",
       "    <tr>\n",
       "      <th>0</th>\n",
       "      <td>2019010100100002</td>\n",
       "      <td>1980515.0</td>\n",
       "      <td>0.0</td>\n",
       "      <td>0.0</td>\n",
       "      <td>23.0</td>\n",
       "      <td>0.0</td>\n",
       "      <td>0.0</td>\n",
       "    </tr>\n",
       "  </tbody>\n",
       "</table>\n",
       "</div>"
      ],
      "text/plain": [
       "               사고번호         id  cam_n  schoolzone_n  rstr_n  uheung_n  \\\n",
       "0  2019010100100002  1980515.0    0.0           0.0    23.0       0.0   \n",
       "\n",
       "   danran_n  \n",
       "0       0.0  "
      ]
     },
     "execution_count": 8,
     "metadata": {},
     "output_type": "execute_result"
    }
   ],
   "source": [
    "qgis_1_sub.head(1)"
   ]
  },
  {
   "cell_type": "code",
   "execution_count": 9,
   "id": "2b70405e",
   "metadata": {
    "scrolled": true
   },
   "outputs": [],
   "source": [
    "taas1 = pd.merge(taas, qgis_1_sub, on='사고번호', how='left')"
   ]
  },
  {
   "cell_type": "code",
   "execution_count": 10,
   "id": "1b88d6df",
   "metadata": {
    "scrolled": false
   },
   "outputs": [
    {
     "data": {
      "text/plain": [
       "사고번호             0\n",
       "사고일시             0\n",
       "요일               0\n",
       "시군구              0\n",
       "사고유형             0\n",
       "법규위반             0\n",
       "노면상태             0\n",
       "기상상태             0\n",
       "도로형태             0\n",
       "가해운전자 차종         0\n",
       "가해운전자 성별         0\n",
       "가해운전자 연령         0\n",
       "x                0\n",
       "y                0\n",
       "EPDO             0\n",
       "연월               0\n",
       "위치               0\n",
       "이륜차              0\n",
       "인구               0\n",
       "기온               0\n",
       "강수량              0\n",
       "풍속               0\n",
       "id              10\n",
       "cam_n            1\n",
       "schoolzone_n     1\n",
       "rstr_n           1\n",
       "uheung_n         1\n",
       "danran_n         1\n",
       "dtype: int64"
      ]
     },
     "execution_count": 10,
     "metadata": {},
     "output_type": "execute_result"
    }
   ],
   "source": [
    "taas1.isnull().sum()"
   ]
  },
  {
   "cell_type": "code",
   "execution_count": 11,
   "id": "0380e95b",
   "metadata": {},
   "outputs": [],
   "source": [
    "taas1['cam_n'] = taas1['cam_n'].fillna(0)\n",
    "taas1['schoolzone_n'] = taas1['schoolzone_n'].fillna(0)\n",
    "taas1['rstr_n'] = taas1['rstr_n'].fillna(0)\n",
    "taas1['uheung_n'] = taas1['uheung_n'].fillna(0)\n",
    "taas1['danran_n'] = taas1['danran_n'].fillna(0)"
   ]
  },
  {
   "cell_type": "code",
   "execution_count": 12,
   "id": "cf5d3b9f",
   "metadata": {},
   "outputs": [
    {
     "data": {
      "text/plain": [
       "사고번호             0\n",
       "사고일시             0\n",
       "요일               0\n",
       "시군구              0\n",
       "사고유형             0\n",
       "법규위반             0\n",
       "노면상태             0\n",
       "기상상태             0\n",
       "도로형태             0\n",
       "가해운전자 차종         0\n",
       "가해운전자 성별         0\n",
       "가해운전자 연령         0\n",
       "x                0\n",
       "y                0\n",
       "EPDO             0\n",
       "연월               0\n",
       "위치               0\n",
       "이륜차              0\n",
       "인구               0\n",
       "기온               0\n",
       "강수량              0\n",
       "풍속               0\n",
       "id              10\n",
       "cam_n            0\n",
       "schoolzone_n     0\n",
       "rstr_n           0\n",
       "uheung_n         0\n",
       "danran_n         0\n",
       "dtype: int64"
      ]
     },
     "execution_count": 12,
     "metadata": {},
     "output_type": "execute_result"
    }
   ],
   "source": [
    "taas1.isnull().sum()"
   ]
  },
  {
   "cell_type": "code",
   "execution_count": 13,
   "id": "991f9945",
   "metadata": {},
   "outputs": [],
   "source": [
    "taas2 = taas1.dropna()"
   ]
  },
  {
   "cell_type": "code",
   "execution_count": 14,
   "id": "a6c26385",
   "metadata": {
    "scrolled": true
   },
   "outputs": [
    {
     "data": {
      "text/html": [
       "<div>\n",
       "<style scoped>\n",
       "    .dataframe tbody tr th:only-of-type {\n",
       "        vertical-align: middle;\n",
       "    }\n",
       "\n",
       "    .dataframe tbody tr th {\n",
       "        vertical-align: top;\n",
       "    }\n",
       "\n",
       "    .dataframe thead th {\n",
       "        text-align: right;\n",
       "    }\n",
       "</style>\n",
       "<table border=\"1\" class=\"dataframe\">\n",
       "  <thead>\n",
       "    <tr style=\"text-align: right;\">\n",
       "      <th></th>\n",
       "      <th>사고번호</th>\n",
       "      <th>사고일시</th>\n",
       "      <th>요일</th>\n",
       "      <th>시군구</th>\n",
       "      <th>사고유형</th>\n",
       "      <th>법규위반</th>\n",
       "      <th>노면상태</th>\n",
       "      <th>기상상태</th>\n",
       "      <th>도로형태</th>\n",
       "      <th>가해운전자 차종</th>\n",
       "      <th>가해운전자 성별</th>\n",
       "      <th>가해운전자 연령</th>\n",
       "      <th>x</th>\n",
       "      <th>y</th>\n",
       "      <th>EPDO</th>\n",
       "      <th>연월</th>\n",
       "      <th>위치</th>\n",
       "      <th>이륜차</th>\n",
       "      <th>인구</th>\n",
       "      <th>기온</th>\n",
       "      <th>강수량</th>\n",
       "      <th>풍속</th>\n",
       "      <th>id</th>\n",
       "      <th>cam_n</th>\n",
       "      <th>schoolzone_n</th>\n",
       "      <th>rstr_n</th>\n",
       "      <th>uheung_n</th>\n",
       "      <th>danran_n</th>\n",
       "    </tr>\n",
       "  </thead>\n",
       "  <tbody>\n",
       "    <tr>\n",
       "      <th>0</th>\n",
       "      <td>2019010100100002</td>\n",
       "      <td>201901010000</td>\n",
       "      <td>화요일</td>\n",
       "      <td>서울특별시 구로구 고척동</td>\n",
       "      <td>차대차</td>\n",
       "      <td>안전운전불이행</td>\n",
       "      <td>건조</td>\n",
       "      <td>맑음</td>\n",
       "      <td>단일로 - 기타</td>\n",
       "      <td>이륜</td>\n",
       "      <td>남</td>\n",
       "      <td>청년</td>\n",
       "      <td>126.867286</td>\n",
       "      <td>37.499889</td>\n",
       "      <td>3</td>\n",
       "      <td>201901</td>\n",
       "      <td>서울특별시 구로구</td>\n",
       "      <td>15623</td>\n",
       "      <td>404049</td>\n",
       "      <td>-5.5</td>\n",
       "      <td>0.0</td>\n",
       "      <td>1.0</td>\n",
       "      <td>1980515.0</td>\n",
       "      <td>0.0</td>\n",
       "      <td>0.0</td>\n",
       "      <td>23.0</td>\n",
       "      <td>0.0</td>\n",
       "      <td>0.0</td>\n",
       "    </tr>\n",
       "  </tbody>\n",
       "</table>\n",
       "</div>"
      ],
      "text/plain": [
       "               사고번호          사고일시   요일            시군구 사고유형     법규위반 노면상태 기상상태  \\\n",
       "0  2019010100100002  201901010000  화요일  서울특별시 구로구 고척동  차대차  안전운전불이행   건조   맑음   \n",
       "\n",
       "       도로형태 가해운전자 차종 가해운전자 성별 가해운전자 연령           x          y  EPDO      연월  \\\n",
       "0  단일로 - 기타       이륜        남       청년  126.867286  37.499889     3  201901   \n",
       "\n",
       "          위치    이륜차      인구   기온  강수량   풍속         id  cam_n  schoolzone_n  \\\n",
       "0  서울특별시 구로구  15623  404049 -5.5  0.0  1.0  1980515.0    0.0           0.0   \n",
       "\n",
       "   rstr_n  uheung_n  danran_n  \n",
       "0    23.0       0.0       0.0  "
      ]
     },
     "execution_count": 14,
     "metadata": {},
     "output_type": "execute_result"
    }
   ],
   "source": [
    "taas2.head(1)"
   ]
  },
  {
   "cell_type": "code",
   "execution_count": 15,
   "id": "c60122fa",
   "metadata": {},
   "outputs": [
    {
     "data": {
      "text/plain": [
       "(61404, 28)"
      ]
     },
     "execution_count": 15,
     "metadata": {},
     "output_type": "execute_result"
    }
   ],
   "source": [
    "taas2.shape"
   ]
  },
  {
   "cell_type": "markdown",
   "id": "2e798469",
   "metadata": {},
   "source": [
    "### qgis_intersection과 merge"
   ]
  },
  {
   "cell_type": "code",
   "execution_count": 16,
   "id": "80a2813a",
   "metadata": {},
   "outputs": [],
   "source": [
    "qgis_intersection_sub = qgis_intersection[['id','NUMPOINTS']]"
   ]
  },
  {
   "cell_type": "code",
   "execution_count": 17,
   "id": "7261991d",
   "metadata": {},
   "outputs": [
    {
     "data": {
      "text/html": [
       "<div>\n",
       "<style scoped>\n",
       "    .dataframe tbody tr th:only-of-type {\n",
       "        vertical-align: middle;\n",
       "    }\n",
       "\n",
       "    .dataframe tbody tr th {\n",
       "        vertical-align: top;\n",
       "    }\n",
       "\n",
       "    .dataframe thead th {\n",
       "        text-align: right;\n",
       "    }\n",
       "</style>\n",
       "<table border=\"1\" class=\"dataframe\">\n",
       "  <thead>\n",
       "    <tr style=\"text-align: right;\">\n",
       "      <th></th>\n",
       "      <th>id</th>\n",
       "      <th>NUMPOINTS</th>\n",
       "    </tr>\n",
       "  </thead>\n",
       "  <tbody>\n",
       "    <tr>\n",
       "      <th>0</th>\n",
       "      <td>1538221</td>\n",
       "      <td>0</td>\n",
       "    </tr>\n",
       "  </tbody>\n",
       "</table>\n",
       "</div>"
      ],
      "text/plain": [
       "        id  NUMPOINTS\n",
       "0  1538221          0"
      ]
     },
     "execution_count": 17,
     "metadata": {},
     "output_type": "execute_result"
    }
   ],
   "source": [
    "qgis_intersection_sub.head(1)"
   ]
  },
  {
   "cell_type": "code",
   "execution_count": 18,
   "id": "b4747842",
   "metadata": {},
   "outputs": [],
   "source": [
    "taas3 = pd.merge(taas2, qgis_intersection_sub, on='id', how='left')"
   ]
  },
  {
   "cell_type": "code",
   "execution_count": 19,
   "id": "666bb756",
   "metadata": {
    "scrolled": false
   },
   "outputs": [
    {
     "data": {
      "text/plain": [
       "사고번호            0\n",
       "사고일시            0\n",
       "요일              0\n",
       "시군구             0\n",
       "사고유형            0\n",
       "법규위반            0\n",
       "노면상태            0\n",
       "기상상태            0\n",
       "도로형태            0\n",
       "가해운전자 차종        0\n",
       "가해운전자 성별        0\n",
       "가해운전자 연령        0\n",
       "x               0\n",
       "y               0\n",
       "EPDO            0\n",
       "연월              0\n",
       "위치              0\n",
       "이륜차             0\n",
       "인구              0\n",
       "기온              0\n",
       "강수량             0\n",
       "풍속              0\n",
       "id              0\n",
       "cam_n           0\n",
       "schoolzone_n    0\n",
       "rstr_n          0\n",
       "uheung_n        0\n",
       "danran_n        0\n",
       "NUMPOINTS       0\n",
       "dtype: int64"
      ]
     },
     "execution_count": 19,
     "metadata": {},
     "output_type": "execute_result"
    }
   ],
   "source": [
    "taas3.isnull().sum()"
   ]
  },
  {
   "cell_type": "code",
   "execution_count": 20,
   "id": "4e8bfca3",
   "metadata": {
    "scrolled": true
   },
   "outputs": [
    {
     "data": {
      "text/plain": [
       "(61404, 29)"
      ]
     },
     "execution_count": 20,
     "metadata": {},
     "output_type": "execute_result"
    }
   ],
   "source": [
    "taas3.shape"
   ]
  },
  {
   "cell_type": "markdown",
   "id": "38de6490",
   "metadata": {},
   "source": [
    "### qgis_bus와 merge"
   ]
  },
  {
   "cell_type": "code",
   "execution_count": 21,
   "id": "064a71c4",
   "metadata": {},
   "outputs": [],
   "source": [
    "qgis_bus_sub = qgis_bus[['id','bus']]"
   ]
  },
  {
   "cell_type": "code",
   "execution_count": 22,
   "id": "e510c41f",
   "metadata": {
    "scrolled": true
   },
   "outputs": [
    {
     "data": {
      "text/html": [
       "<div>\n",
       "<style scoped>\n",
       "    .dataframe tbody tr th:only-of-type {\n",
       "        vertical-align: middle;\n",
       "    }\n",
       "\n",
       "    .dataframe tbody tr th {\n",
       "        vertical-align: top;\n",
       "    }\n",
       "\n",
       "    .dataframe thead th {\n",
       "        text-align: right;\n",
       "    }\n",
       "</style>\n",
       "<table border=\"1\" class=\"dataframe\">\n",
       "  <thead>\n",
       "    <tr style=\"text-align: right;\">\n",
       "      <th></th>\n",
       "      <th>id</th>\n",
       "      <th>bus</th>\n",
       "    </tr>\n",
       "  </thead>\n",
       "  <tbody>\n",
       "    <tr>\n",
       "      <th>0</th>\n",
       "      <td>4159496</td>\n",
       "      <td>2</td>\n",
       "    </tr>\n",
       "  </tbody>\n",
       "</table>\n",
       "</div>"
      ],
      "text/plain": [
       "        id  bus\n",
       "0  4159496    2"
      ]
     },
     "execution_count": 22,
     "metadata": {},
     "output_type": "execute_result"
    }
   ],
   "source": [
    "qgis_bus_sub.head(1)"
   ]
  },
  {
   "cell_type": "code",
   "execution_count": 23,
   "id": "de16b08e",
   "metadata": {},
   "outputs": [],
   "source": [
    "taas4 = pd.merge(taas3, qgis_bus_sub, on='id', how='left')"
   ]
  },
  {
   "cell_type": "code",
   "execution_count": 24,
   "id": "a1a66f2c",
   "metadata": {
    "scrolled": false
   },
   "outputs": [
    {
     "data": {
      "text/plain": [
       "사고번호                0\n",
       "사고일시                0\n",
       "요일                  0\n",
       "시군구                 0\n",
       "사고유형                0\n",
       "법규위반                0\n",
       "노면상태                0\n",
       "기상상태                0\n",
       "도로형태                0\n",
       "가해운전자 차종            0\n",
       "가해운전자 성별            0\n",
       "가해운전자 연령            0\n",
       "x                   0\n",
       "y                   0\n",
       "EPDO                0\n",
       "연월                  0\n",
       "위치                  0\n",
       "이륜차                 0\n",
       "인구                  0\n",
       "기온                  0\n",
       "강수량                 0\n",
       "풍속                  0\n",
       "id                  0\n",
       "cam_n               0\n",
       "schoolzone_n        0\n",
       "rstr_n              0\n",
       "uheung_n            0\n",
       "danran_n            0\n",
       "NUMPOINTS           0\n",
       "bus             10068\n",
       "dtype: int64"
      ]
     },
     "execution_count": 24,
     "metadata": {},
     "output_type": "execute_result"
    }
   ],
   "source": [
    "taas4.isnull().sum()"
   ]
  },
  {
   "cell_type": "code",
   "execution_count": 25,
   "id": "82221747",
   "metadata": {},
   "outputs": [],
   "source": [
    "taas4['bus'] = taas4['bus'].fillna(0)"
   ]
  },
  {
   "cell_type": "code",
   "execution_count": 26,
   "id": "5064f423",
   "metadata": {
    "scrolled": true
   },
   "outputs": [
    {
     "data": {
      "text/plain": [
       "(61404, 30)"
      ]
     },
     "execution_count": 26,
     "metadata": {},
     "output_type": "execute_result"
    }
   ],
   "source": [
    "taas4.shape"
   ]
  },
  {
   "cell_type": "code",
   "execution_count": 27,
   "id": "2ba7c483",
   "metadata": {},
   "outputs": [],
   "source": [
    "taas4 = taas4.rename(columns={'id':'grid_id', 'cam_n':'단속카메라수', 'schoolzone_n':'스쿨존수', 'rstr_n':'음식점수', 'uheung_n':'유흥주점수', 'danran_n':'단란주점수', 'NUMPOINTS':'교차로수', 'bus':'버스정류장수' })"
   ]
  },
  {
   "cell_type": "code",
   "execution_count": 28,
   "id": "566af72b",
   "metadata": {},
   "outputs": [
    {
     "data": {
      "text/html": [
       "<div>\n",
       "<style scoped>\n",
       "    .dataframe tbody tr th:only-of-type {\n",
       "        vertical-align: middle;\n",
       "    }\n",
       "\n",
       "    .dataframe tbody tr th {\n",
       "        vertical-align: top;\n",
       "    }\n",
       "\n",
       "    .dataframe thead th {\n",
       "        text-align: right;\n",
       "    }\n",
       "</style>\n",
       "<table border=\"1\" class=\"dataframe\">\n",
       "  <thead>\n",
       "    <tr style=\"text-align: right;\">\n",
       "      <th></th>\n",
       "      <th>사고번호</th>\n",
       "      <th>사고일시</th>\n",
       "      <th>요일</th>\n",
       "      <th>시군구</th>\n",
       "      <th>사고유형</th>\n",
       "      <th>법규위반</th>\n",
       "      <th>노면상태</th>\n",
       "      <th>기상상태</th>\n",
       "      <th>도로형태</th>\n",
       "      <th>가해운전자 차종</th>\n",
       "      <th>가해운전자 성별</th>\n",
       "      <th>가해운전자 연령</th>\n",
       "      <th>x</th>\n",
       "      <th>y</th>\n",
       "      <th>EPDO</th>\n",
       "      <th>연월</th>\n",
       "      <th>위치</th>\n",
       "      <th>이륜차</th>\n",
       "      <th>인구</th>\n",
       "      <th>기온</th>\n",
       "      <th>강수량</th>\n",
       "      <th>풍속</th>\n",
       "      <th>grid_id</th>\n",
       "      <th>단속카메라수</th>\n",
       "      <th>스쿨존수</th>\n",
       "      <th>음식점수</th>\n",
       "      <th>유흥주점수</th>\n",
       "      <th>단란주점수</th>\n",
       "      <th>교차로수</th>\n",
       "      <th>버스정류장수</th>\n",
       "    </tr>\n",
       "  </thead>\n",
       "  <tbody>\n",
       "    <tr>\n",
       "      <th>0</th>\n",
       "      <td>2019010100100002</td>\n",
       "      <td>201901010000</td>\n",
       "      <td>화요일</td>\n",
       "      <td>서울특별시 구로구 고척동</td>\n",
       "      <td>차대차</td>\n",
       "      <td>안전운전불이행</td>\n",
       "      <td>건조</td>\n",
       "      <td>맑음</td>\n",
       "      <td>단일로 - 기타</td>\n",
       "      <td>이륜</td>\n",
       "      <td>남</td>\n",
       "      <td>청년</td>\n",
       "      <td>126.867286</td>\n",
       "      <td>37.499889</td>\n",
       "      <td>3</td>\n",
       "      <td>201901</td>\n",
       "      <td>서울특별시 구로구</td>\n",
       "      <td>15623</td>\n",
       "      <td>404049</td>\n",
       "      <td>-5.5</td>\n",
       "      <td>0.0</td>\n",
       "      <td>1.0</td>\n",
       "      <td>1980515.0</td>\n",
       "      <td>0.0</td>\n",
       "      <td>0.0</td>\n",
       "      <td>23.0</td>\n",
       "      <td>0.0</td>\n",
       "      <td>0.0</td>\n",
       "      <td>2</td>\n",
       "      <td>4.0</td>\n",
       "    </tr>\n",
       "  </tbody>\n",
       "</table>\n",
       "</div>"
      ],
      "text/plain": [
       "               사고번호          사고일시   요일            시군구 사고유형     법규위반 노면상태 기상상태  \\\n",
       "0  2019010100100002  201901010000  화요일  서울특별시 구로구 고척동  차대차  안전운전불이행   건조   맑음   \n",
       "\n",
       "       도로형태 가해운전자 차종 가해운전자 성별 가해운전자 연령           x          y  EPDO      연월  \\\n",
       "0  단일로 - 기타       이륜        남       청년  126.867286  37.499889     3  201901   \n",
       "\n",
       "          위치    이륜차      인구   기온  강수량   풍속    grid_id  단속카메라수  스쿨존수  음식점수  \\\n",
       "0  서울특별시 구로구  15623  404049 -5.5  0.0  1.0  1980515.0     0.0   0.0  23.0   \n",
       "\n",
       "   유흥주점수  단란주점수  교차로수  버스정류장수  \n",
       "0    0.0    0.0     2     4.0  "
      ]
     },
     "execution_count": 28,
     "metadata": {},
     "output_type": "execute_result"
    }
   ],
   "source": [
    "taas4.head(1)"
   ]
  },
  {
   "cell_type": "code",
   "execution_count": 29,
   "id": "2c129456",
   "metadata": {},
   "outputs": [],
   "source": [
    "# 합쳐진 taas 내보내기\n",
    "taas4.to_csv('data/taas/taas_final.csv', index=False, encoding = 'cp949')"
   ]
  }
 ],
 "metadata": {
  "kernelspec": {
   "display_name": "Python 3 (ipykernel)",
   "language": "python",
   "name": "python3"
  },
  "language_info": {
   "codemirror_mode": {
    "name": "ipython",
    "version": 3
   },
   "file_extension": ".py",
   "mimetype": "text/x-python",
   "name": "python",
   "nbconvert_exporter": "python",
   "pygments_lexer": "ipython3",
   "version": "3.9.12"
  }
 },
 "nbformat": 4,
 "nbformat_minor": 5
}
