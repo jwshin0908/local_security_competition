{
  "cells": [
    {
      "cell_type": "markdown",
      "metadata": {
        "id": "Ey6-5jIvG0Rm"
      },
      "source": [
        "## 무인단속카메라_전처리"
      ]
    },
    {
      "cell_type": "code",
      "execution_count": null,
      "metadata": {
        "id": "lM9eUmr-G0Rp"
      },
      "outputs": [],
      "source": [
        "import pandas as pd"
      ]
    },
    {
      "cell_type": "code",
      "execution_count": null,
      "metadata": {
        "id": "MW5o-mUVG0Rq",
        "outputId": "739ada06-fabf-4f16-b682-5a5799520b12"
      },
      "outputs": [
        {
          "data": {
            "text/html": [
              "<div>\n",
              "<style scoped>\n",
              "    .dataframe tbody tr th:only-of-type {\n",
              "        vertical-align: middle;\n",
              "    }\n",
              "\n",
              "    .dataframe tbody tr th {\n",
              "        vertical-align: top;\n",
              "    }\n",
              "\n",
              "    .dataframe thead th {\n",
              "        text-align: right;\n",
              "    }\n",
              "</style>\n",
              "<table border=\"1\" class=\"dataframe\">\n",
              "  <thead>\n",
              "    <tr style=\"text-align: right;\">\n",
              "      <th></th>\n",
              "      <th>무인교통단속카메라관리번호</th>\n",
              "      <th>시도명</th>\n",
              "      <th>시군구명</th>\n",
              "      <th>도로종류</th>\n",
              "      <th>도로노선번호</th>\n",
              "      <th>도로노선명</th>\n",
              "      <th>도로노선방향</th>\n",
              "      <th>소재지도로명주소</th>\n",
              "      <th>소재지지번주소</th>\n",
              "      <th>위도</th>\n",
              "      <th>...</th>\n",
              "      <th>설치장소</th>\n",
              "      <th>단속구분</th>\n",
              "      <th>제한속도</th>\n",
              "      <th>단속구간위치구분</th>\n",
              "      <th>과속단속구간길이</th>\n",
              "      <th>보호구역구분</th>\n",
              "      <th>설치연도</th>\n",
              "      <th>관리기관명</th>\n",
              "      <th>관리기관전화번호</th>\n",
              "      <th>데이터기준일자</th>\n",
              "    </tr>\n",
              "  </thead>\n",
              "  <tbody>\n",
              "    <tr>\n",
              "      <th>0</th>\n",
              "      <td>F4383</td>\n",
              "      <td>서울특별시</td>\n",
              "      <td>용산구</td>\n",
              "      <td>특별시도</td>\n",
              "      <td>NaN</td>\n",
              "      <td>효창원로</td>\n",
              "      <td>2</td>\n",
              "      <td>서울특별시 용산구 효창원로 137</td>\n",
              "      <td>NaN</td>\n",
              "      <td>37.540942</td>\n",
              "      <td>...</td>\n",
              "      <td>금양초등학교  앞</td>\n",
              "      <td>2</td>\n",
              "      <td>30</td>\n",
              "      <td>NaN</td>\n",
              "      <td>NaN</td>\n",
              "      <td>2.0</td>\n",
              "      <td>2008.0</td>\n",
              "      <td>서울특별시경찰청</td>\n",
              "      <td>02-700-5031</td>\n",
              "      <td>2022-08-19</td>\n",
              "    </tr>\n",
              "    <tr>\n",
              "      <th>1</th>\n",
              "      <td>F4385</td>\n",
              "      <td>서울특별시</td>\n",
              "      <td>도봉구</td>\n",
              "      <td>특별시도</td>\n",
              "      <td>NaN</td>\n",
              "      <td>방학로</td>\n",
              "      <td>2</td>\n",
              "      <td>서울특별시 도봉구 방학로 101</td>\n",
              "      <td>NaN</td>\n",
              "      <td>37.662619</td>\n",
              "      <td>...</td>\n",
              "      <td>방학사거리</td>\n",
              "      <td>2</td>\n",
              "      <td>50</td>\n",
              "      <td>NaN</td>\n",
              "      <td>NaN</td>\n",
              "      <td>NaN</td>\n",
              "      <td>2008.0</td>\n",
              "      <td>서울특별시경찰청</td>\n",
              "      <td>02-700-5031</td>\n",
              "      <td>2022-08-19</td>\n",
              "    </tr>\n",
              "    <tr>\n",
              "      <th>2</th>\n",
              "      <td>F4387</td>\n",
              "      <td>서울특별시</td>\n",
              "      <td>양천구</td>\n",
              "      <td>특별시도</td>\n",
              "      <td>NaN</td>\n",
              "      <td>안양천로</td>\n",
              "      <td>2</td>\n",
              "      <td>서울특별시 양천구 안양천로 1039</td>\n",
              "      <td>NaN</td>\n",
              "      <td>37.535392</td>\n",
              "      <td>...</td>\n",
              "      <td>양정중학교 앞</td>\n",
              "      <td>2</td>\n",
              "      <td>50</td>\n",
              "      <td>NaN</td>\n",
              "      <td>NaN</td>\n",
              "      <td>NaN</td>\n",
              "      <td>2008.0</td>\n",
              "      <td>서울특별시경찰청</td>\n",
              "      <td>02-700-5031</td>\n",
              "      <td>2022-08-19</td>\n",
              "    </tr>\n",
              "    <tr>\n",
              "      <th>3</th>\n",
              "      <td>F4393</td>\n",
              "      <td>서울특별시</td>\n",
              "      <td>강동구</td>\n",
              "      <td>일반국도</td>\n",
              "      <td>43</td>\n",
              "      <td>천호대로</td>\n",
              "      <td>2</td>\n",
              "      <td>서울특별시 강동구 천호대로 1477</td>\n",
              "      <td>NaN</td>\n",
              "      <td>37.547572</td>\n",
              "      <td>...</td>\n",
              "      <td>상일사거리</td>\n",
              "      <td>2</td>\n",
              "      <td>50</td>\n",
              "      <td>NaN</td>\n",
              "      <td>NaN</td>\n",
              "      <td>NaN</td>\n",
              "      <td>2008.0</td>\n",
              "      <td>서울특별시경찰청</td>\n",
              "      <td>02-700-5031</td>\n",
              "      <td>2022-08-19</td>\n",
              "    </tr>\n",
              "    <tr>\n",
              "      <th>4</th>\n",
              "      <td>F4394</td>\n",
              "      <td>서울특별시</td>\n",
              "      <td>종로구</td>\n",
              "      <td>일반국도</td>\n",
              "      <td>6</td>\n",
              "      <td>종로</td>\n",
              "      <td>1</td>\n",
              "      <td>서울특별시 종로구 종로 186</td>\n",
              "      <td>NaN</td>\n",
              "      <td>37.570446</td>\n",
              "      <td>...</td>\n",
              "      <td>종로4가 교차로</td>\n",
              "      <td>2</td>\n",
              "      <td>50</td>\n",
              "      <td>NaN</td>\n",
              "      <td>NaN</td>\n",
              "      <td>NaN</td>\n",
              "      <td>2008.0</td>\n",
              "      <td>서울특별시경찰청</td>\n",
              "      <td>02-700-5031</td>\n",
              "      <td>2022-08-19</td>\n",
              "    </tr>\n",
              "  </tbody>\n",
              "</table>\n",
              "<p>5 rows × 21 columns</p>\n",
              "</div>"
            ],
            "text/plain": [
              "  무인교통단속카메라관리번호    시도명 시군구명  도로종류 도로노선번호 도로노선명  도로노선방향             소재지도로명주소  \\\n",
              "0         F4383  서울특별시  용산구  특별시도    NaN  효창원로       2   서울특별시 용산구 효창원로 137   \n",
              "1         F4385  서울특별시  도봉구  특별시도    NaN   방학로       2    서울특별시 도봉구 방학로 101   \n",
              "2         F4387  서울특별시  양천구  특별시도    NaN  안양천로       2  서울특별시 양천구 안양천로 1039   \n",
              "3         F4393  서울특별시  강동구  일반국도     43  천호대로       2  서울특별시 강동구 천호대로 1477   \n",
              "4         F4394  서울특별시  종로구  일반국도      6    종로       1     서울특별시 종로구 종로 186   \n",
              "\n",
              "  소재지지번주소         위도  ...       설치장소 단속구분  제한속도  단속구간위치구분  과속단속구간길이  보호구역구분  \\\n",
              "0     NaN  37.540942  ...  금양초등학교  앞    2    30       NaN       NaN     2.0   \n",
              "1     NaN  37.662619  ...      방학사거리    2    50       NaN       NaN     NaN   \n",
              "2     NaN  37.535392  ...    양정중학교 앞    2    50       NaN       NaN     NaN   \n",
              "3     NaN  37.547572  ...      상일사거리    2    50       NaN       NaN     NaN   \n",
              "4     NaN  37.570446  ...   종로4가 교차로    2    50       NaN       NaN     NaN   \n",
              "\n",
              "     설치연도     관리기관명     관리기관전화번호     데이터기준일자  \n",
              "0  2008.0  서울특별시경찰청  02-700-5031  2022-08-19  \n",
              "1  2008.0  서울특별시경찰청  02-700-5031  2022-08-19  \n",
              "2  2008.0  서울특별시경찰청  02-700-5031  2022-08-19  \n",
              "3  2008.0  서울특별시경찰청  02-700-5031  2022-08-19  \n",
              "4  2008.0  서울특별시경찰청  02-700-5031  2022-08-19  \n",
              "\n",
              "[5 rows x 21 columns]"
            ]
          },
          "execution_count": 2,
          "metadata": {},
          "output_type": "execute_result"
        }
      ],
      "source": [
        "cam_경찰청 = pd.read_csv(\"./데이터/무인단속카메라/경찰청_무인교통단속카메라_20220819.csv\", encoding='cp949')\n",
        "cam_경찰청.head()"
      ]
    },
    {
      "cell_type": "code",
      "execution_count": null,
      "metadata": {
        "id": "6M-K36xDG0Rr",
        "outputId": "a3a45d9b-8d4c-4a81-ab09-a7452e2c36d7"
      },
      "outputs": [
        {
          "data": {
            "text/plain": [
              "Index(['무인교통단속카메라관리번호', '시도명', '시군구명', '도로종류', '도로노선번호', '도로노선명', '도로노선방향',\n",
              "       '소재지도로명주소', '소재지지번주소', '위도', '경도', '설치장소', '단속구분', '제한속도', '단속구간위치구분',\n",
              "       '과속단속구간길이', '보호구역구분', '설치연도', '관리기관명', '관리기관전화번호', '데이터기준일자'],\n",
              "      dtype='object')"
            ]
          },
          "execution_count": 3,
          "metadata": {},
          "output_type": "execute_result"
        }
      ],
      "source": [
        "cam_경찰청.columns"
      ]
    },
    {
      "cell_type": "code",
      "execution_count": null,
      "metadata": {
        "id": "7KSMMxTwG0Rr",
        "outputId": "c628e748-1de3-44b9-ce4d-31522f4837d4"
      },
      "outputs": [
        {
          "data": {
            "text/plain": [
              "array(['서울특별시', '부산광역시', '대구광역시', '인천광역시', '경기도', '광주광역시', '울산광역시',\n",
              "       '충청남도', '강원도', '충청북도', '대전광역시', '전라북도', '경상남도', '경상북도', '전라남도'],\n",
              "      dtype=object)"
            ]
          },
          "execution_count": 4,
          "metadata": {},
          "output_type": "execute_result"
        }
      ],
      "source": [
        "cam_경찰청.시도명.unique()"
      ]
    },
    {
      "cell_type": "code",
      "execution_count": null,
      "metadata": {
        "id": "s16_4B33G0Rr",
        "outputId": "aa90470d-1d26-4b99-9b8d-1b10d0fa0cf1"
      },
      "outputs": [
        {
          "data": {
            "text/plain": [
              "array(['서울특별시', '부산광역시', '대구광역시', '인천광역시', '광주광역시', '울산광역시', '충청남도',\n",
              "       '대전광역시'], dtype=object)"
            ]
          },
          "execution_count": 5,
          "metadata": {},
          "output_type": "execute_result"
        }
      ],
      "source": [
        "# 6광역시 + 세종특별자치시 + 충청남도\n",
        "cam_경찰청 = cam_경찰청[cam_경찰청.시도명.isin(['서울특별시', '부산광역시', '대구광역시', '인천광역시', '광주광역시', '울산광역시', '대전광역시', '충청남도'])]\n",
        "cam_경찰청.시도명.unique()"
      ]
    },
    {
      "cell_type": "markdown",
      "metadata": {
        "id": "rDtGo6h9G0Rs"
      },
      "source": [
        "### 전처리"
      ]
    },
    {
      "cell_type": "markdown",
      "metadata": {
        "id": "9zQS8i58G0Rs"
      },
      "source": [
        "대구광역시 달성구 -> 달성군"
      ]
    },
    {
      "cell_type": "code",
      "execution_count": null,
      "metadata": {
        "id": "58RygOYaG0Rs"
      },
      "outputs": [],
      "source": [
        "# 대구광역시 달성구 -> 달성군\n",
        "cam_경찰청[(cam_경찰청.시도명 == '대구광역시') & (cam_경찰청.시군구명 == '달성구')][['위도', '경도']] # 달성군\n",
        "cam_경찰청.loc[(cam_경찰청.시도명 == '대구광역시') & (cam_경찰청.시군구명 == '달성구'), '시군구명'] = '달성군'"
      ]
    },
    {
      "cell_type": "code",
      "execution_count": null,
      "metadata": {
        "id": "SogsyJd-G0Rs",
        "outputId": "dda32944-2f74-4da7-db9a-978de2c65f97"
      },
      "outputs": [
        {
          "data": {
            "text/html": [
              "<div>\n",
              "<style scoped>\n",
              "    .dataframe tbody tr th:only-of-type {\n",
              "        vertical-align: middle;\n",
              "    }\n",
              "\n",
              "    .dataframe tbody tr th {\n",
              "        vertical-align: top;\n",
              "    }\n",
              "\n",
              "    .dataframe thead th {\n",
              "        text-align: right;\n",
              "    }\n",
              "</style>\n",
              "<table border=\"1\" class=\"dataframe\">\n",
              "  <thead>\n",
              "    <tr style=\"text-align: right;\">\n",
              "      <th></th>\n",
              "      <th>시군구명</th>\n",
              "      <th>소재지도로명주소</th>\n",
              "    </tr>\n",
              "  </thead>\n",
              "  <tbody>\n",
              "  </tbody>\n",
              "</table>\n",
              "</div>"
            ],
            "text/plain": [
              "Empty DataFrame\n",
              "Columns: [시군구명, 소재지도로명주소]\n",
              "Index: []"
            ]
          },
          "execution_count": 7,
          "metadata": {},
          "output_type": "execute_result"
        }
      ],
      "source": [
        "cam_경찰청[(cam_경찰청.시도명 == '대구광역시') & (cam_경찰청.시군구명 == '달성구')][['시군구명', '소재지도로명주소']]"
      ]
    },
    {
      "cell_type": "markdown",
      "metadata": {
        "id": "AF8NQJfaG0Rt"
      },
      "source": [
        "대구광역시 북부 -> 알맞은 구로 전처리"
      ]
    },
    {
      "cell_type": "code",
      "execution_count": null,
      "metadata": {
        "id": "kASFsrUFG0Rt"
      },
      "outputs": [],
      "source": [
        "cam_경찰청.loc[(cam_경찰청.시도명 == '대구광역시') & (cam_경찰청.시군구명 == '북부'), '시군구명'] = cam_경찰청.loc[(cam_경찰청.시도명 == '대구광역시') & (cam_경찰청.시군구명 == '북부'), '소재지도로명주소'].str.split().str[1]"
      ]
    },
    {
      "cell_type": "code",
      "execution_count": null,
      "metadata": {
        "id": "5Na_xjxgG0Rt",
        "outputId": "cae09a1d-6bec-4a3c-eb50-c297400eb295"
      },
      "outputs": [
        {
          "data": {
            "text/html": [
              "<div>\n",
              "<style scoped>\n",
              "    .dataframe tbody tr th:only-of-type {\n",
              "        vertical-align: middle;\n",
              "    }\n",
              "\n",
              "    .dataframe tbody tr th {\n",
              "        vertical-align: top;\n",
              "    }\n",
              "\n",
              "    .dataframe thead th {\n",
              "        text-align: right;\n",
              "    }\n",
              "</style>\n",
              "<table border=\"1\" class=\"dataframe\">\n",
              "  <thead>\n",
              "    <tr style=\"text-align: right;\">\n",
              "      <th></th>\n",
              "      <th>시군구명</th>\n",
              "      <th>소재지도로명주소</th>\n",
              "    </tr>\n",
              "  </thead>\n",
              "  <tbody>\n",
              "  </tbody>\n",
              "</table>\n",
              "</div>"
            ],
            "text/plain": [
              "Empty DataFrame\n",
              "Columns: [시군구명, 소재지도로명주소]\n",
              "Index: []"
            ]
          },
          "execution_count": 9,
          "metadata": {},
          "output_type": "execute_result"
        }
      ],
      "source": [
        "cam_경찰청[(cam_경찰청.시도명 == '대구광역시') & (cam_경찰청.시군구명 == '북부')][['시군구명', '소재지도로명주소']]"
      ]
    },
    {
      "cell_type": "markdown",
      "metadata": {
        "id": "1WCixocNG0Rt"
      },
      "source": []
    },
    {
      "cell_type": "markdown",
      "metadata": {
        "id": "UK6Quz7zG0Ru"
      },
      "source": [
        "부산광역시 아닌 시들 삭제"
      ]
    },
    {
      "cell_type": "code",
      "execution_count": null,
      "metadata": {
        "id": "Gd-OgMSdG0Ru"
      },
      "outputs": [],
      "source": [
        "부산삭제 = ['경주시', '김해시', '밀양시', '양산시', '창녕군', '합천군']\n",
        "for i in 부산삭제:\n",
        "    cam_경찰청 = cam_경찰청[cam_경찰청.시군구명 != i]"
      ]
    },
    {
      "cell_type": "code",
      "execution_count": null,
      "metadata": {
        "id": "6blHldKTG0Ru",
        "outputId": "c453fc30-341f-4100-b76c-30608b68fd0a"
      },
      "outputs": [
        {
          "name": "stdout",
          "output_type": "stream",
          "text": [
            "0\n",
            "0\n",
            "0\n",
            "0\n",
            "0\n",
            "0\n"
          ]
        }
      ],
      "source": [
        "for i in 부산삭제:\n",
        "    print(cam_경찰청[cam_경찰청.시군구명 == i].size)"
      ]
    },
    {
      "cell_type": "markdown",
      "metadata": {
        "id": "AKhr8IAQG0Rv"
      },
      "source": [
        "울주군 -> 울산광역시"
      ]
    },
    {
      "cell_type": "code",
      "execution_count": null,
      "metadata": {
        "id": "bFIklJc8G0Rv"
      },
      "outputs": [],
      "source": [
        "cam_경찰청.loc[(cam_경찰청.시군구명 == '울주군'), '시도명'] = '울산광역시'"
      ]
    },
    {
      "cell_type": "code",
      "execution_count": null,
      "metadata": {
        "id": "L8HZrREdG0Rv",
        "outputId": "d8875698-f945-435b-fa33-5cdebf0cc752"
      },
      "outputs": [
        {
          "data": {
            "text/plain": [
              "array(['울산광역시'], dtype=object)"
            ]
          },
          "execution_count": 13,
          "metadata": {},
          "output_type": "execute_result"
        }
      ],
      "source": [
        "cam_경찰청.loc[(cam_경찰청.시군구명 == '울주군'), '시도명'].unique()"
      ]
    },
    {
      "cell_type": "markdown",
      "metadata": {
        "id": "kKSMjV_1G0Rw"
      },
      "source": [
        "충청남도 평택시 -> 삭제"
      ]
    },
    {
      "cell_type": "code",
      "execution_count": null,
      "metadata": {
        "id": "FsHtQ0LqG0Rw"
      },
      "outputs": [],
      "source": [
        "cam_경찰청 = cam_경찰청[(cam_경찰청.시군구명 != '평택시')]"
      ]
    },
    {
      "cell_type": "markdown",
      "metadata": {
        "id": "XCVeXANIG0Rw"
      },
      "source": [
        "대전광역시, 세종특별자치시는 개별 데이터로 대체"
      ]
    },
    {
      "cell_type": "code",
      "execution_count": null,
      "metadata": {
        "id": "5JI8W1zHG0Rx"
      },
      "outputs": [],
      "source": [
        "cam_경찰청 = cam_경찰청[cam_경찰청.소재지지번주소.str.split().str[0] != '대전광역시']"
      ]
    },
    {
      "cell_type": "code",
      "execution_count": null,
      "metadata": {
        "id": "8FL6pq4dG0Rx"
      },
      "outputs": [],
      "source": [
        "cam_세종 = pd.read_csv(\"./데이터/무인단속카메라/세종특별자치시경찰청_무인교통단속카메라_20220520.csv\", encoding='cp949')\n",
        "cam_대전 = pd.read_csv(\"./데이터/무인단속카메라/대전광역시_무인교통단속카메라_20221215.csv\", encoding='cp949')"
      ]
    },
    {
      "cell_type": "code",
      "execution_count": null,
      "metadata": {
        "id": "nnlEygChG0Rx",
        "outputId": "759f61b8-302e-4a5d-8bd2-ada8eb635b2d"
      },
      "outputs": [
        {
          "data": {
            "text/plain": [
              "((6419, 21), (207, 18), (506, 21))"
            ]
          },
          "execution_count": 17,
          "metadata": {},
          "output_type": "execute_result"
        }
      ],
      "source": [
        "cam_경찰청.shape, cam_세종.shape, cam_대전.shape"
      ]
    },
    {
      "cell_type": "code",
      "execution_count": null,
      "metadata": {
        "id": "DjvPbTD_G0Rx"
      },
      "outputs": [],
      "source": [
        "cam = pd.concat([cam_경찰청, cam_세종, cam_대전])"
      ]
    },
    {
      "cell_type": "code",
      "execution_count": null,
      "metadata": {
        "id": "5har54REG0Ry",
        "outputId": "0d670901-ae7a-48fd-f260-679235143a81"
      },
      "outputs": [
        {
          "data": {
            "text/plain": [
              "True"
            ]
          },
          "execution_count": 19,
          "metadata": {},
          "output_type": "execute_result"
        }
      ],
      "source": [
        "cam.shape[0] == cam_경찰청.shape[0] + cam_세종.shape[0] + cam_대전.shape[0]"
      ]
    },
    {
      "cell_type": "markdown",
      "metadata": {
        "id": "nKmoqYIuG0Ry"
      },
      "source": [
        "설치연도 2022년 제거"
      ]
    },
    {
      "cell_type": "code",
      "execution_count": null,
      "metadata": {
        "id": "DwnSpSU5G0Ry"
      },
      "outputs": [],
      "source": [
        "cam = cam[cam.설치연도 != 2022]"
      ]
    },
    {
      "cell_type": "markdown",
      "metadata": {
        "id": "ScHSI1zOG0Ry"
      },
      "source": [
        "제한속도"
      ]
    },
    {
      "cell_type": "code",
      "execution_count": null,
      "metadata": {
        "id": "vPIGR3zzG0Rz",
        "outputId": "a36adf54-2085-47ea-cb08-f4613a6ed630"
      },
      "outputs": [
        {
          "data": {
            "text/plain": [
              "30     2701\n",
              "50     1996\n",
              "60      861\n",
              "70      337\n",
              "80      324\n",
              "40      183\n",
              "0       126\n",
              "100      63\n",
              "110      23\n",
              "20       14\n",
              "90       14\n",
              "69        1\n",
              "Name: 제한속도, dtype: int64"
            ]
          },
          "execution_count": 21,
          "metadata": {},
          "output_type": "execute_result"
        }
      ],
      "source": [
        "cam.제한속도.value_counts()"
      ]
    },
    {
      "cell_type": "code",
      "execution_count": null,
      "metadata": {
        "id": "s-UuV63GG0R4"
      },
      "outputs": [],
      "source": [
        "cam.loc[cam.제한속도==69, '제한속도'] = 70"
      ]
    },
    {
      "cell_type": "markdown",
      "metadata": {
        "id": "gC1dESkcG0R5"
      },
      "source": [
        "고속국도 제거"
      ]
    },
    {
      "cell_type": "code",
      "execution_count": null,
      "metadata": {
        "id": "IMxzttg4G0R6"
      },
      "outputs": [],
      "source": [
        "cam = cam[cam.도로종류 != '고속국도']"
      ]
    },
    {
      "cell_type": "markdown",
      "metadata": {
        "id": "jfUjROp-G0R6"
      },
      "source": [
        "### 무인단속카메라.csv 저장"
      ]
    },
    {
      "cell_type": "code",
      "execution_count": null,
      "metadata": {
        "id": "ZxPyB1hUG0R7"
      },
      "outputs": [],
      "source": [
        "cam.to_csv(\"./데이터/무인단속카메라/무인단속카메라.csv\", index=False, encoding='cp949')"
      ]
    },
    {
      "cell_type": "markdown",
      "metadata": {
        "id": "0LDfY8FkG0R7"
      },
      "source": [
        "### EDA"
      ]
    },
    {
      "cell_type": "code",
      "execution_count": null,
      "metadata": {
        "id": "hTYOJnPZG0R7",
        "outputId": "46a9a67d-5ddf-4730-9323-1b848213dde2"
      },
      "outputs": [
        {
          "data": {
            "text/plain": [
              "(7132, 21)"
            ]
          },
          "metadata": {},
          "output_type": "display_data"
        }
      ],
      "source": [
        "cam.shape"
      ]
    },
    {
      "cell_type": "code",
      "execution_count": null,
      "metadata": {
        "id": "_q9Wbp99G0R8",
        "outputId": "f82e512f-7555-4370-c415-b13800d1f6f5"
      },
      "outputs": [
        {
          "data": {
            "text/plain": [
              "무인교통단속카메라관리번호       0\n",
              "시도명                 0\n",
              "시군구명                0\n",
              "도로종류                0\n",
              "도로노선번호           5691\n",
              "도로노선명               0\n",
              "도로노선방향              0\n",
              "소재지도로명주소          713\n",
              "소재지지번주소          1296\n",
              "위도                  0\n",
              "경도                  0\n",
              "설치장소                0\n",
              "단속구분                0\n",
              "제한속도                0\n",
              "단속구간위치구분         7027\n",
              "과속단속구간길이         7070\n",
              "보호구역구분           3613\n",
              "설치연도               40\n",
              "관리기관명               0\n",
              "관리기관전화번호            0\n",
              "데이터기준일자             0\n",
              "dtype: int64"
            ]
          },
          "metadata": {},
          "output_type": "display_data"
        }
      ],
      "source": [
        "cam.isnull().sum()"
      ]
    }
  ],
  "metadata": {
    "kernelspec": {
      "display_name": "Python 3.9.15 ('yeonii')",
      "language": "python",
      "name": "python3"
    },
    "language_info": {
      "codemirror_mode": {
        "name": "ipython",
        "version": 3
      },
      "file_extension": ".py",
      "mimetype": "text/x-python",
      "name": "python",
      "nbconvert_exporter": "python",
      "pygments_lexer": "ipython3",
      "version": "3.9.15"
    },
    "orig_nbformat": 4,
    "vscode": {
      "interpreter": {
        "hash": "19cdb573a42401074e38f706383cbfa1833acb696c2188dc3609525a6f268ee1"
      }
    },
    "colab": {
      "provenance": []
    }
  },
  "nbformat": 4,
  "nbformat_minor": 0
}