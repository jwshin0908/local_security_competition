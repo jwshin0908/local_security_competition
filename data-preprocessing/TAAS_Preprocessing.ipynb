{
 "cells": [
  {
   "cell_type": "code",
   "execution_count": 1,
   "id": "93e74117",
   "metadata": {},
   "outputs": [],
   "source": [
    "import re\n",
    "import numpy as np\n",
    "import pandas as pd\n",
    "import seaborn as sns\n",
    "import matplotlib.pyplot as plt\n",
    "\n",
    "plt.rcParams['font.family'] = 'Malgun Gothic'\n",
    "pd.set_option('mode.chained_assignment',  None) # 경고를 끈다\n",
    "pd.set_option('display.max_columns', None) # 모든 열 출력\n",
    "plt.rcParams['axes.unicode_minus'] = False"
   ]
  },
  {
   "cell_type": "code",
   "execution_count": 2,
   "id": "5f0caee3",
   "metadata": {},
   "outputs": [],
   "source": [
    "taas = pd.read_csv('data/taas/taas_only.csv', encoding='cp949')"
   ]
  },
  {
   "cell_type": "markdown",
   "id": "fe025964",
   "metadata": {},
   "source": [
    "### df 생성(지역 합치기)"
   ]
  },
  {
   "cell_type": "code",
   "execution_count": 3,
   "id": "975e1898",
   "metadata": {},
   "outputs": [
    {
     "data": {
      "text/html": [
       "<div>\n",
       "<style scoped>\n",
       "    .dataframe tbody tr th:only-of-type {\n",
       "        vertical-align: middle;\n",
       "    }\n",
       "\n",
       "    .dataframe tbody tr th {\n",
       "        vertical-align: top;\n",
       "    }\n",
       "\n",
       "    .dataframe thead th {\n",
       "        text-align: right;\n",
       "    }\n",
       "</style>\n",
       "<table border=\"1\" class=\"dataframe\">\n",
       "  <thead>\n",
       "    <tr style=\"text-align: right;\">\n",
       "      <th></th>\n",
       "      <th>사고번호</th>\n",
       "      <th>사고일시</th>\n",
       "      <th>요일</th>\n",
       "      <th>시군구</th>\n",
       "      <th>사고내용</th>\n",
       "      <th>사망자수</th>\n",
       "      <th>중상자수</th>\n",
       "      <th>경상자수</th>\n",
       "      <th>부상신고자수</th>\n",
       "      <th>사고유형</th>\n",
       "      <th>법규위반</th>\n",
       "      <th>노면상태</th>\n",
       "      <th>기상상태</th>\n",
       "      <th>도로형태</th>\n",
       "      <th>가해운전자 차종</th>\n",
       "      <th>가해운전자 성별</th>\n",
       "      <th>가해운전자 연령</th>\n",
       "      <th>가해운전자 상해정도</th>\n",
       "      <th>피해운전자 차종</th>\n",
       "      <th>피해운전자 성별</th>\n",
       "      <th>피해운전자 연령</th>\n",
       "      <th>피해운전자 상해정도</th>\n",
       "      <th>x</th>\n",
       "      <th>y</th>\n",
       "    </tr>\n",
       "  </thead>\n",
       "  <tbody>\n",
       "    <tr>\n",
       "      <th>0</th>\n",
       "      <td>2019010100100002</td>\n",
       "      <td>2019년 1월 1일 00시</td>\n",
       "      <td>화요일</td>\n",
       "      <td>서울특별시 구로구 고척동</td>\n",
       "      <td>경상사고</td>\n",
       "      <td>0</td>\n",
       "      <td>0</td>\n",
       "      <td>1</td>\n",
       "      <td>0</td>\n",
       "      <td>차대차 - 추돌</td>\n",
       "      <td>안전운전불이행</td>\n",
       "      <td>포장 - 건조</td>\n",
       "      <td>맑음</td>\n",
       "      <td>단일로 - 기타</td>\n",
       "      <td>이륜</td>\n",
       "      <td>남</td>\n",
       "      <td>23세</td>\n",
       "      <td>상해없음</td>\n",
       "      <td>승용</td>\n",
       "      <td>남</td>\n",
       "      <td>71세</td>\n",
       "      <td>경상</td>\n",
       "      <td>126.867286</td>\n",
       "      <td>37.499889</td>\n",
       "    </tr>\n",
       "  </tbody>\n",
       "</table>\n",
       "</div>"
      ],
      "text/plain": [
       "               사고번호             사고일시   요일            시군구  사고내용  사망자수  중상자수  \\\n",
       "0  2019010100100002  2019년 1월 1일 00시  화요일  서울특별시 구로구 고척동  경상사고     0     0   \n",
       "\n",
       "   경상자수  부상신고자수      사고유형     법규위반     노면상태 기상상태      도로형태 가해운전자 차종 가해운전자 성별  \\\n",
       "0     1       0  차대차 - 추돌  안전운전불이행  포장 - 건조   맑음  단일로 - 기타       이륜        남   \n",
       "\n",
       "  가해운전자 연령 가해운전자 상해정도 피해운전자 차종 피해운전자 성별 피해운전자 연령 피해운전자 상해정도           x  \\\n",
       "0      23세       상해없음       승용        남      71세         경상  126.867286   \n",
       "\n",
       "           y  \n",
       "0  37.499889  "
      ]
     },
     "execution_count": 3,
     "metadata": {},
     "output_type": "execute_result"
    }
   ],
   "source": [
    "taas.head(1)"
   ]
  },
  {
   "cell_type": "code",
   "execution_count": 4,
   "id": "12900994",
   "metadata": {
    "scrolled": true
   },
   "outputs": [],
   "source": [
    "df = taas.copy()"
   ]
  },
  {
   "cell_type": "markdown",
   "id": "f5f7eaa9",
   "metadata": {},
   "source": [
    "### 사고번호 유지(PK)"
   ]
  },
  {
   "cell_type": "markdown",
   "id": "2720304d",
   "metadata": {},
   "source": [
    "### 사고일시 전처리"
   ]
  },
  {
   "cell_type": "code",
   "execution_count": 5,
   "id": "a531e62c",
   "metadata": {},
   "outputs": [],
   "source": [
    "# 사고일시 형식 변경\n",
    "df['사고일시'] = pd.to_datetime(df['사고일시'], format='%Y년 %m월 %d일 %H시')\n",
    "df['사고일시'] = df['사고일시'].dt.strftime('%Y%m%d%H%M')"
   ]
  },
  {
   "cell_type": "markdown",
   "id": "7c975121",
   "metadata": {},
   "source": [
    "### 요일 유지 : 7가지"
   ]
  },
  {
   "cell_type": "code",
   "execution_count": 6,
   "id": "8c205428",
   "metadata": {
    "scrolled": true
   },
   "outputs": [
    {
     "data": {
      "text/plain": [
       "금요일    9771\n",
       "토요일    9200\n",
       "목요일    8766\n",
       "화요일    8703\n",
       "수요일    8690\n",
       "월요일    8419\n",
       "일요일    7866\n",
       "Name: 요일, dtype: int64"
      ]
     },
     "execution_count": 6,
     "metadata": {},
     "output_type": "execute_result"
    }
   ],
   "source": [
    "df['요일'].value_counts()"
   ]
  },
  {
   "cell_type": "markdown",
   "id": "f0da498a",
   "metadata": {},
   "source": [
    "### 시군구 유지"
   ]
  },
  {
   "cell_type": "code",
   "execution_count": 7,
   "id": "798c974a",
   "metadata": {},
   "outputs": [],
   "source": [
    "df1 = df.copy()"
   ]
  },
  {
   "cell_type": "code",
   "execution_count": 8,
   "id": "365d77ad",
   "metadata": {
    "scrolled": false
   },
   "outputs": [
    {
     "data": {
      "text/html": [
       "<div>\n",
       "<style scoped>\n",
       "    .dataframe tbody tr th:only-of-type {\n",
       "        vertical-align: middle;\n",
       "    }\n",
       "\n",
       "    .dataframe tbody tr th {\n",
       "        vertical-align: top;\n",
       "    }\n",
       "\n",
       "    .dataframe thead th {\n",
       "        text-align: right;\n",
       "    }\n",
       "</style>\n",
       "<table border=\"1\" class=\"dataframe\">\n",
       "  <thead>\n",
       "    <tr style=\"text-align: right;\">\n",
       "      <th></th>\n",
       "      <th>사고번호</th>\n",
       "      <th>사고일시</th>\n",
       "      <th>요일</th>\n",
       "      <th>시군구</th>\n",
       "      <th>사고내용</th>\n",
       "      <th>사망자수</th>\n",
       "      <th>중상자수</th>\n",
       "      <th>경상자수</th>\n",
       "      <th>부상신고자수</th>\n",
       "      <th>사고유형</th>\n",
       "      <th>법규위반</th>\n",
       "      <th>노면상태</th>\n",
       "      <th>기상상태</th>\n",
       "      <th>도로형태</th>\n",
       "      <th>가해운전자 차종</th>\n",
       "      <th>가해운전자 성별</th>\n",
       "      <th>가해운전자 연령</th>\n",
       "      <th>가해운전자 상해정도</th>\n",
       "      <th>피해운전자 차종</th>\n",
       "      <th>피해운전자 성별</th>\n",
       "      <th>피해운전자 연령</th>\n",
       "      <th>피해운전자 상해정도</th>\n",
       "      <th>x</th>\n",
       "      <th>y</th>\n",
       "    </tr>\n",
       "  </thead>\n",
       "  <tbody>\n",
       "    <tr>\n",
       "      <th>7098</th>\n",
       "      <td>2019110800100396</td>\n",
       "      <td>201911081400</td>\n",
       "      <td>금요일</td>\n",
       "      <td>미분류 미분류 미분류</td>\n",
       "      <td>중상사고</td>\n",
       "      <td>0</td>\n",
       "      <td>1</td>\n",
       "      <td>0</td>\n",
       "      <td>0</td>\n",
       "      <td>차대차 - 측면충돌</td>\n",
       "      <td>신호위반</td>\n",
       "      <td>포장 - 건조</td>\n",
       "      <td>맑음</td>\n",
       "      <td>교차로 - 교차로안</td>\n",
       "      <td>승합</td>\n",
       "      <td>남</td>\n",
       "      <td>56세</td>\n",
       "      <td>상해없음</td>\n",
       "      <td>이륜</td>\n",
       "      <td>남</td>\n",
       "      <td>44세</td>\n",
       "      <td>중상</td>\n",
       "      <td>127.068553</td>\n",
       "      <td>37.593779</td>\n",
       "    </tr>\n",
       "  </tbody>\n",
       "</table>\n",
       "</div>"
      ],
      "text/plain": [
       "                  사고번호          사고일시   요일          시군구  사고내용  사망자수  중상자수  \\\n",
       "7098  2019110800100396  201911081400  금요일  미분류 미분류 미분류  중상사고     0     1   \n",
       "\n",
       "      경상자수  부상신고자수        사고유형  법규위반     노면상태 기상상태        도로형태 가해운전자 차종  \\\n",
       "7098     0       0  차대차 - 측면충돌  신호위반  포장 - 건조   맑음  교차로 - 교차로안       승합   \n",
       "\n",
       "     가해운전자 성별 가해운전자 연령 가해운전자 상해정도 피해운전자 차종 피해운전자 성별 피해운전자 연령 피해운전자 상해정도  \\\n",
       "7098        남      56세       상해없음       이륜        남      44세         중상   \n",
       "\n",
       "               x          y  \n",
       "7098  127.068553  37.593779  "
      ]
     },
     "execution_count": 8,
     "metadata": {},
     "output_type": "execute_result"
    }
   ],
   "source": [
    "df1[df1['시군구'].str.contains('미분류')]"
   ]
  },
  {
   "cell_type": "code",
   "execution_count": 9,
   "id": "ffaee6ce",
   "metadata": {},
   "outputs": [
    {
     "name": "stdout",
     "output_type": "stream",
     "text": [
      "379, 한천로, 이문동, 휘경1동, 동대문구, 서울, 02403, 대한민국\n"
     ]
    }
   ],
   "source": [
    "# 가입 없이 좌표->주소 변환\n",
    "from geopy.geocoders import Nominatim\n",
    "\n",
    "def geocoding_reverse(lat_lng_str): \n",
    "    geolocoder = Nominatim(user_agent = 'South Korea', timeout=None)\n",
    "    address = geolocoder.reverse(lat_lng_str)\n",
    "\n",
    "    return address\n",
    "\n",
    "address = geocoding_reverse('37.593779, 127.068553')\n",
    "print(address)"
   ]
  },
  {
   "cell_type": "code",
   "execution_count": 10,
   "id": "768c1d57",
   "metadata": {},
   "outputs": [],
   "source": [
    "df1.iloc[7098,3] = '서울특별시 동대문구 휘경1동'"
   ]
  },
  {
   "cell_type": "code",
   "execution_count": 11,
   "id": "83f4c5e8",
   "metadata": {
    "scrolled": false
   },
   "outputs": [
    {
     "data": {
      "text/html": [
       "<div>\n",
       "<style scoped>\n",
       "    .dataframe tbody tr th:only-of-type {\n",
       "        vertical-align: middle;\n",
       "    }\n",
       "\n",
       "    .dataframe tbody tr th {\n",
       "        vertical-align: top;\n",
       "    }\n",
       "\n",
       "    .dataframe thead th {\n",
       "        text-align: right;\n",
       "    }\n",
       "</style>\n",
       "<table border=\"1\" class=\"dataframe\">\n",
       "  <thead>\n",
       "    <tr style=\"text-align: right;\">\n",
       "      <th></th>\n",
       "      <th>사고번호</th>\n",
       "      <th>사고일시</th>\n",
       "      <th>요일</th>\n",
       "      <th>시군구</th>\n",
       "      <th>사고내용</th>\n",
       "      <th>사망자수</th>\n",
       "      <th>중상자수</th>\n",
       "      <th>경상자수</th>\n",
       "      <th>부상신고자수</th>\n",
       "      <th>사고유형</th>\n",
       "      <th>법규위반</th>\n",
       "      <th>노면상태</th>\n",
       "      <th>기상상태</th>\n",
       "      <th>도로형태</th>\n",
       "      <th>가해운전자 차종</th>\n",
       "      <th>가해운전자 성별</th>\n",
       "      <th>가해운전자 연령</th>\n",
       "      <th>가해운전자 상해정도</th>\n",
       "      <th>피해운전자 차종</th>\n",
       "      <th>피해운전자 성별</th>\n",
       "      <th>피해운전자 연령</th>\n",
       "      <th>피해운전자 상해정도</th>\n",
       "      <th>x</th>\n",
       "      <th>y</th>\n",
       "    </tr>\n",
       "  </thead>\n",
       "  <tbody>\n",
       "  </tbody>\n",
       "</table>\n",
       "</div>"
      ],
      "text/plain": [
       "Empty DataFrame\n",
       "Columns: [사고번호, 사고일시, 요일, 시군구, 사고내용, 사망자수, 중상자수, 경상자수, 부상신고자수, 사고유형, 법규위반, 노면상태, 기상상태, 도로형태, 가해운전자 차종, 가해운전자 성별, 가해운전자 연령, 가해운전자 상해정도, 피해운전자 차종, 피해운전자 성별, 피해운전자 연령, 피해운전자 상해정도, x, y]\n",
       "Index: []"
      ]
     },
     "execution_count": 11,
     "metadata": {},
     "output_type": "execute_result"
    }
   ],
   "source": [
    "df1[df1['시군구'].str.contains('미분류')]"
   ]
  },
  {
   "cell_type": "markdown",
   "id": "1c218fe9",
   "metadata": {},
   "source": [
    "### 사고내용 전처리(drop)"
   ]
  },
  {
   "cell_type": "code",
   "execution_count": 12,
   "id": "f7f38b4d",
   "metadata": {},
   "outputs": [],
   "source": [
    "# 사고내용 column drop\n",
    "df1.drop('사고내용', axis=1, inplace=True)"
   ]
  },
  {
   "cell_type": "markdown",
   "id": "8d7e2800",
   "metadata": {},
   "source": [
    "### 사고유형 전처리 : 3가지"
   ]
  },
  {
   "cell_type": "code",
   "execution_count": 13,
   "id": "6d662f7a",
   "metadata": {},
   "outputs": [
    {
     "data": {
      "text/plain": [
       "차대차 - 측면충돌           25933\n",
       "차대차 - 기타             19248\n",
       "차대차 - 추돌              6134\n",
       "차대차 - 정면충돌            2502\n",
       "차대사람 - 횡단중            2431\n",
       "차대사람 - 기타             1444\n",
       "차대차 - 후진중충돌            801\n",
       "차량단독 - 기타              728\n",
       "차량단독 - 전도전복 - 전도       679\n",
       "차대사람 - 보도통행중           454\n",
       "차량단독 - 공작물충돌           428\n",
       "차대사람 - 차도통행중           420\n",
       "차대사람 - 길가장자리구역통행중      119\n",
       "차량단독 - 도로외이탈 - 추락       36\n",
       "차량단독 - 도로외이탈 - 기타       27\n",
       "차량단독 - 전도전복 - 전복        22\n",
       "차량단독 - 주/정차차량 충돌         8\n",
       "철길건널목 - 철길건널목            1\n",
       "Name: 사고유형, dtype: int64"
      ]
     },
     "execution_count": 13,
     "metadata": {},
     "output_type": "execute_result"
    }
   ],
   "source": [
    "df1[\"사고유형\"].value_counts()"
   ]
  },
  {
   "cell_type": "code",
   "execution_count": 14,
   "id": "195a441e",
   "metadata": {},
   "outputs": [],
   "source": [
    "# 사고유형 중에 \"철길건널목 - 철길건널목\" 삭제\n",
    "df1 = df1[df1['사고유형'] != \"철길건널목 - 철길건널목\"]"
   ]
  },
  {
   "cell_type": "code",
   "execution_count": 15,
   "id": "0b19073a",
   "metadata": {},
   "outputs": [],
   "source": [
    "df1['사고유형'] = df1['사고유형'].apply(lambda x: x.split(\" - \")[0])"
   ]
  },
  {
   "cell_type": "code",
   "execution_count": 16,
   "id": "7b5dd990",
   "metadata": {
    "scrolled": false
   },
   "outputs": [
    {
     "data": {
      "text/plain": [
       "차대차     54618\n",
       "차대사람     4868\n",
       "차량단독     1928\n",
       "Name: 사고유형, dtype: int64"
      ]
     },
     "execution_count": 16,
     "metadata": {},
     "output_type": "execute_result"
    }
   ],
   "source": [
    "df1['사고유형'].value_counts()"
   ]
  },
  {
   "cell_type": "markdown",
   "id": "aeb454bb",
   "metadata": {},
   "source": [
    "### 법규위반 유지 : 11가지"
   ]
  },
  {
   "cell_type": "code",
   "execution_count": 17,
   "id": "80c7da87",
   "metadata": {},
   "outputs": [
    {
     "data": {
      "text/plain": [
       "안전운전불이행      29395\n",
       "신호위반         11240\n",
       "안전거리미확보       6390\n",
       "교차로운행방법위반     4287\n",
       "중앙선침범         3053\n",
       "기타            2388\n",
       "직진우회전진행방해     2251\n",
       "차로위반          1089\n",
       "보행자보호의무위반      616\n",
       "불법유턴           572\n",
       "과속             133\n",
       "Name: 법규위반, dtype: int64"
      ]
     },
     "execution_count": 17,
     "metadata": {},
     "output_type": "execute_result"
    }
   ],
   "source": [
    "df1['법규위반'].value_counts()"
   ]
  },
  {
   "cell_type": "markdown",
   "id": "8fa2369f",
   "metadata": {},
   "source": [
    "### 노면상태 전처리 : 7가지"
   ]
  },
  {
   "cell_type": "code",
   "execution_count": 18,
   "id": "6bcd00e2",
   "metadata": {},
   "outputs": [],
   "source": [
    "df1['노면상태'] = df1['노면상태'].apply(lambda x: x.split(\" - \")[1])"
   ]
  },
  {
   "cell_type": "code",
   "execution_count": 19,
   "id": "05d9f734",
   "metadata": {
    "scrolled": false
   },
   "outputs": [
    {
     "data": {
      "text/plain": [
       "건조       54625\n",
       "젖음/습기     6044\n",
       "기타         595\n",
       "서리/결빙      110\n",
       "적설          30\n",
       "침수           7\n",
       "해빙           3\n",
       "Name: 노면상태, dtype: int64"
      ]
     },
     "execution_count": 19,
     "metadata": {},
     "output_type": "execute_result"
    }
   ],
   "source": [
    "df1['노면상태'].value_counts()"
   ]
  },
  {
   "cell_type": "markdown",
   "id": "9e9c3a40",
   "metadata": {},
   "source": [
    "### 기상상태 유지 : 6가지"
   ]
  },
  {
   "cell_type": "code",
   "execution_count": 20,
   "id": "36fa22cd",
   "metadata": {},
   "outputs": [
    {
     "data": {
      "text/plain": [
       "맑음    53907\n",
       "비      4577\n",
       "흐림     2271\n",
       "기타      546\n",
       "눈       103\n",
       "안개       10\n",
       "Name: 기상상태, dtype: int64"
      ]
     },
     "execution_count": 20,
     "metadata": {},
     "output_type": "execute_result"
    }
   ],
   "source": [
    "df1['기상상태'].value_counts()"
   ]
  },
  {
   "cell_type": "markdown",
   "id": "7446ba4a",
   "metadata": {},
   "source": [
    "### 도로형태 유지 : 11가지"
   ]
  },
  {
   "cell_type": "code",
   "execution_count": 21,
   "id": "f44d67de",
   "metadata": {},
   "outputs": [
    {
     "data": {
      "text/plain": [
       "단일로 - 기타           25258\n",
       "교차로 - 교차로안         22414\n",
       "교차로 - 교차로부근         8943\n",
       "기타 - 기타             2276\n",
       "교차로 - 교차로횡단보도내      1444\n",
       "단일로 - 지하차도(도로)내      551\n",
       "단일로 - 교량             242\n",
       "단일로 - 고가도로위          122\n",
       "단일로 - 터널              94\n",
       "주차장 - 주차장             58\n",
       "미분류 - 미분류             12\n",
       "Name: 도로형태, dtype: int64"
      ]
     },
     "execution_count": 21,
     "metadata": {},
     "output_type": "execute_result"
    }
   ],
   "source": [
    "df1['도로형태'].value_counts()"
   ]
  },
  {
   "cell_type": "markdown",
   "id": "6cbcbccf",
   "metadata": {},
   "source": [
    "### 가해운전자 차종 : 유지"
   ]
  },
  {
   "cell_type": "code",
   "execution_count": 22,
   "id": "16901f64",
   "metadata": {},
   "outputs": [
    {
     "data": {
      "text/plain": [
       "이륜             28600\n",
       "승용             26526\n",
       "화물              3183\n",
       "승합              1295\n",
       "기타불명             836\n",
       "자전거              523\n",
       "건설기계             164\n",
       "개인형이동수단(PM)      108\n",
       "원동기               82\n",
       "특수                80\n",
       "농기계               12\n",
       "사륜오토바이(ATV)        5\n",
       "Name: 가해운전자 차종, dtype: int64"
      ]
     },
     "execution_count": 22,
     "metadata": {},
     "output_type": "execute_result"
    }
   ],
   "source": [
    "df1['가해운전자 차종'].value_counts()"
   ]
  },
  {
   "cell_type": "markdown",
   "id": "7311f872",
   "metadata": {},
   "source": [
    "### 가해운전자 성별 유지 : 3가지"
   ]
  },
  {
   "cell_type": "code",
   "execution_count": 23,
   "id": "fa994ef6",
   "metadata": {},
   "outputs": [
    {
     "data": {
      "text/plain": [
       "남       52250\n",
       "여        8239\n",
       "기타불명      925\n",
       "Name: 가해운전자 성별, dtype: int64"
      ]
     },
     "execution_count": 23,
     "metadata": {},
     "output_type": "execute_result"
    }
   ],
   "source": [
    "df1['가해운전자 성별'].value_counts()"
   ]
  },
  {
   "cell_type": "markdown",
   "id": "1cbe25a6",
   "metadata": {},
   "source": [
    "### 가해운전자 연령 : 5가지\n",
    "+ 청소년(13~18세)\n",
    "+ 청년(19~29세)\n",
    "+ 중년(30~49세)\n",
    "+ 장년(50~64세)\n",
    "+ 노년(65세 이상)"
   ]
  },
  {
   "cell_type": "code",
   "execution_count": 24,
   "id": "27d6d597",
   "metadata": {},
   "outputs": [],
   "source": [
    "df1['가해운전자 연령'] = df1['가해운전자 연령'].replace('90세 이상', '90세')"
   ]
  },
  {
   "cell_type": "code",
   "execution_count": 25,
   "id": "59e3a036",
   "metadata": {},
   "outputs": [],
   "source": [
    "# df1의 '가해운전자 연령' column에서 '세' 문자열 제거\n",
    "df1['가해운전자 연령'] = df1['가해운전자 연령'].apply(lambda x: x.rstrip('세'))\n",
    "\n",
    "# '가해운전자 연령' column의 모든 값이 숫자로 변환 가능한지 확인\n",
    "age_col = pd.to_numeric(df1['가해운전자 연령'], errors='coerce')\n",
    "\n",
    "# 변환 가능하지 않은 값은 NaN 값으로 변환되어 mean 함수 결과는 NaN 값이 나옴\n",
    "mean_age = np.round(age_col.mean(), 0)\n",
    "\n",
    "# '미분류' 값을 해당 column의 숫자평균값으로 변경\n",
    "df1['가해운전자 연령'] = df1['가해운전자 연령'].replace('미분류', int(mean_age))"
   ]
  },
  {
   "cell_type": "code",
   "execution_count": 26,
   "id": "49adf7b1",
   "metadata": {},
   "outputs": [],
   "source": [
    "df1['가해운전자 연령'] = df1['가해운전자 연령'].astype(int)"
   ]
  },
  {
   "cell_type": "code",
   "execution_count": 27,
   "id": "c6e576eb",
   "metadata": {},
   "outputs": [],
   "source": [
    "df1['가해운전자 연령'] = df1['가해운전자 연령'].apply(lambda x: '청소년' if 13<=x<=18 else ('청년' if 19<=x<=29 else ('중년' if 30<=x<=49 else ('장년' if 50<=x<=64 else '노년'))))"
   ]
  },
  {
   "cell_type": "code",
   "execution_count": 28,
   "id": "87d11ba9",
   "metadata": {},
   "outputs": [
    {
     "data": {
      "text/plain": [
       "중년     21583\n",
       "장년     16788\n",
       "청년     12734\n",
       "노년      7420\n",
       "청소년     2889\n",
       "Name: 가해운전자 연령, dtype: int64"
      ]
     },
     "execution_count": 28,
     "metadata": {},
     "output_type": "execute_result"
    }
   ],
   "source": [
    "df1['가해운전자 연령'].value_counts()"
   ]
  },
  {
   "cell_type": "markdown",
   "id": "b689338c",
   "metadata": {},
   "source": [
    "### 가해운전자 상해정도, 피해운전자 차종, 피해운전자 성별, 피해운전자 연령, 피해운전자 상해정도 전처리(drop)"
   ]
  },
  {
   "cell_type": "code",
   "execution_count": 29,
   "id": "dd257302",
   "metadata": {},
   "outputs": [],
   "source": [
    "# column drop\n",
    "df1.drop(['가해운전자 상해정도', '피해운전자 차종', '피해운전자 성별', '피해운전자 연령', '피해운전자 상해정도'], axis=1, inplace=True)"
   ]
  },
  {
   "cell_type": "code",
   "execution_count": 30,
   "id": "8ebf2082",
   "metadata": {},
   "outputs": [
    {
     "name": "stdout",
     "output_type": "stream",
     "text": [
      "<class 'pandas.core.frame.DataFrame'>\n",
      "Int64Index: 61414 entries, 0 to 61414\n",
      "Data columns (total 18 columns):\n",
      " #   Column    Non-Null Count  Dtype  \n",
      "---  ------    --------------  -----  \n",
      " 0   사고번호      61414 non-null  int64  \n",
      " 1   사고일시      61414 non-null  object \n",
      " 2   요일        61414 non-null  object \n",
      " 3   시군구       61414 non-null  object \n",
      " 4   사망자수      61414 non-null  int64  \n",
      " 5   중상자수      61414 non-null  int64  \n",
      " 6   경상자수      61414 non-null  int64  \n",
      " 7   부상신고자수    61414 non-null  int64  \n",
      " 8   사고유형      61414 non-null  object \n",
      " 9   법규위반      61414 non-null  object \n",
      " 10  노면상태      61414 non-null  object \n",
      " 11  기상상태      61414 non-null  object \n",
      " 12  도로형태      61414 non-null  object \n",
      " 13  가해운전자 차종  61414 non-null  object \n",
      " 14  가해운전자 성별  61414 non-null  object \n",
      " 15  가해운전자 연령  61414 non-null  object \n",
      " 16  x         61414 non-null  float64\n",
      " 17  y         61414 non-null  float64\n",
      "dtypes: float64(2), int64(5), object(11)\n",
      "memory usage: 8.9+ MB\n"
     ]
    }
   ],
   "source": [
    "df1.info()"
   ]
  },
  {
   "cell_type": "markdown",
   "id": "3326622a",
   "metadata": {},
   "source": [
    "### EPDO(대물피해환산계수) = 사망자수 x 12 + 중상자수 x 5 + 경상자수 x 3 + 부상신고자수"
   ]
  },
  {
   "cell_type": "code",
   "execution_count": 31,
   "id": "2561dc26",
   "metadata": {},
   "outputs": [],
   "source": [
    "df1['EPDO'] = 12 * df1['사망자수'] + 5 * df1['중상자수'] + 3 * df1['경상자수'] + df1['부상신고자수']"
   ]
  },
  {
   "cell_type": "markdown",
   "id": "a9a5bf51",
   "metadata": {},
   "source": [
    "### 사망자수, 중상자수, 경상자수, 부상신고자수 전처리(drop)"
   ]
  },
  {
   "cell_type": "code",
   "execution_count": 32,
   "id": "f02feeea",
   "metadata": {},
   "outputs": [],
   "source": [
    "# column drop\n",
    "df1.drop(['사망자수', '중상자수', '경상자수', '부상신고자수'], axis=1, inplace=True)"
   ]
  },
  {
   "cell_type": "code",
   "execution_count": 33,
   "id": "9fa9e898",
   "metadata": {},
   "outputs": [],
   "source": [
    "taas_1 = df1.copy()"
   ]
  },
  {
   "cell_type": "markdown",
   "id": "baf746dc",
   "metadata": {},
   "source": [
    "## TAAS 전처리 완료 dataframe"
   ]
  },
  {
   "cell_type": "code",
   "execution_count": 34,
   "id": "c7d666bc",
   "metadata": {
    "scrolled": false
   },
   "outputs": [
    {
     "data": {
      "text/html": [
       "<div>\n",
       "<style scoped>\n",
       "    .dataframe tbody tr th:only-of-type {\n",
       "        vertical-align: middle;\n",
       "    }\n",
       "\n",
       "    .dataframe tbody tr th {\n",
       "        vertical-align: top;\n",
       "    }\n",
       "\n",
       "    .dataframe thead th {\n",
       "        text-align: right;\n",
       "    }\n",
       "</style>\n",
       "<table border=\"1\" class=\"dataframe\">\n",
       "  <thead>\n",
       "    <tr style=\"text-align: right;\">\n",
       "      <th></th>\n",
       "      <th>사고번호</th>\n",
       "      <th>사고일시</th>\n",
       "      <th>요일</th>\n",
       "      <th>시군구</th>\n",
       "      <th>사고유형</th>\n",
       "      <th>법규위반</th>\n",
       "      <th>노면상태</th>\n",
       "      <th>기상상태</th>\n",
       "      <th>도로형태</th>\n",
       "      <th>가해운전자 차종</th>\n",
       "      <th>가해운전자 성별</th>\n",
       "      <th>가해운전자 연령</th>\n",
       "      <th>x</th>\n",
       "      <th>y</th>\n",
       "      <th>EPDO</th>\n",
       "    </tr>\n",
       "  </thead>\n",
       "  <tbody>\n",
       "    <tr>\n",
       "      <th>0</th>\n",
       "      <td>2019010100100002</td>\n",
       "      <td>201901010000</td>\n",
       "      <td>화요일</td>\n",
       "      <td>서울특별시 구로구 고척동</td>\n",
       "      <td>차대차</td>\n",
       "      <td>안전운전불이행</td>\n",
       "      <td>건조</td>\n",
       "      <td>맑음</td>\n",
       "      <td>단일로 - 기타</td>\n",
       "      <td>이륜</td>\n",
       "      <td>남</td>\n",
       "      <td>청년</td>\n",
       "      <td>126.867286</td>\n",
       "      <td>37.499889</td>\n",
       "      <td>3</td>\n",
       "    </tr>\n",
       "    <tr>\n",
       "      <th>1</th>\n",
       "      <td>2019010100100141</td>\n",
       "      <td>201901011100</td>\n",
       "      <td>화요일</td>\n",
       "      <td>서울특별시 서초구 서초동</td>\n",
       "      <td>차대차</td>\n",
       "      <td>안전거리미확보</td>\n",
       "      <td>건조</td>\n",
       "      <td>맑음</td>\n",
       "      <td>단일로 - 기타</td>\n",
       "      <td>승용</td>\n",
       "      <td>남</td>\n",
       "      <td>중년</td>\n",
       "      <td>127.017439</td>\n",
       "      <td>37.481949</td>\n",
       "      <td>3</td>\n",
       "    </tr>\n",
       "    <tr>\n",
       "      <th>2</th>\n",
       "      <td>2019010100100170</td>\n",
       "      <td>201901011300</td>\n",
       "      <td>화요일</td>\n",
       "      <td>서울특별시 서대문구 북아현동</td>\n",
       "      <td>차대사람</td>\n",
       "      <td>보행자보호의무위반</td>\n",
       "      <td>건조</td>\n",
       "      <td>맑음</td>\n",
       "      <td>단일로 - 기타</td>\n",
       "      <td>이륜</td>\n",
       "      <td>남</td>\n",
       "      <td>청년</td>\n",
       "      <td>126.956285</td>\n",
       "      <td>37.558028</td>\n",
       "      <td>3</td>\n",
       "    </tr>\n",
       "    <tr>\n",
       "      <th>3</th>\n",
       "      <td>2019010100100236</td>\n",
       "      <td>201901011700</td>\n",
       "      <td>화요일</td>\n",
       "      <td>서울특별시 중랑구 상봉동</td>\n",
       "      <td>차대차</td>\n",
       "      <td>신호위반</td>\n",
       "      <td>건조</td>\n",
       "      <td>맑음</td>\n",
       "      <td>교차로 - 교차로안</td>\n",
       "      <td>이륜</td>\n",
       "      <td>남</td>\n",
       "      <td>청년</td>\n",
       "      <td>127.085745</td>\n",
       "      <td>37.596356</td>\n",
       "      <td>3</td>\n",
       "    </tr>\n",
       "    <tr>\n",
       "      <th>4</th>\n",
       "      <td>2019010100100249</td>\n",
       "      <td>201901011800</td>\n",
       "      <td>화요일</td>\n",
       "      <td>서울특별시 구로구 천왕동</td>\n",
       "      <td>차대차</td>\n",
       "      <td>안전운전불이행</td>\n",
       "      <td>젖음/습기</td>\n",
       "      <td>맑음</td>\n",
       "      <td>교차로 - 교차로안</td>\n",
       "      <td>이륜</td>\n",
       "      <td>남</td>\n",
       "      <td>청년</td>\n",
       "      <td>126.842479</td>\n",
       "      <td>37.484115</td>\n",
       "      <td>3</td>\n",
       "    </tr>\n",
       "    <tr>\n",
       "      <th>...</th>\n",
       "      <td>...</td>\n",
       "      <td>...</td>\n",
       "      <td>...</td>\n",
       "      <td>...</td>\n",
       "      <td>...</td>\n",
       "      <td>...</td>\n",
       "      <td>...</td>\n",
       "      <td>...</td>\n",
       "      <td>...</td>\n",
       "      <td>...</td>\n",
       "      <td>...</td>\n",
       "      <td>...</td>\n",
       "      <td>...</td>\n",
       "      <td>...</td>\n",
       "      <td>...</td>\n",
       "    </tr>\n",
       "    <tr>\n",
       "      <th>61410</th>\n",
       "      <td>2021123000100493</td>\n",
       "      <td>202112301900</td>\n",
       "      <td>목요일</td>\n",
       "      <td>울산광역시 남구 삼산동</td>\n",
       "      <td>차량단독</td>\n",
       "      <td>안전운전불이행</td>\n",
       "      <td>건조</td>\n",
       "      <td>맑음</td>\n",
       "      <td>단일로 - 기타</td>\n",
       "      <td>이륜</td>\n",
       "      <td>남</td>\n",
       "      <td>중년</td>\n",
       "      <td>129.351972</td>\n",
       "      <td>35.538223</td>\n",
       "      <td>1</td>\n",
       "    </tr>\n",
       "    <tr>\n",
       "      <th>61411</th>\n",
       "      <td>2021123100100141</td>\n",
       "      <td>202112311100</td>\n",
       "      <td>금요일</td>\n",
       "      <td>울산광역시 동구 일산동</td>\n",
       "      <td>차대차</td>\n",
       "      <td>안전운전불이행</td>\n",
       "      <td>건조</td>\n",
       "      <td>맑음</td>\n",
       "      <td>기타 - 기타</td>\n",
       "      <td>이륜</td>\n",
       "      <td>남</td>\n",
       "      <td>청소년</td>\n",
       "      <td>129.428386</td>\n",
       "      <td>35.498666</td>\n",
       "      <td>1</td>\n",
       "    </tr>\n",
       "    <tr>\n",
       "      <th>61412</th>\n",
       "      <td>2021123100100408</td>\n",
       "      <td>202112311700</td>\n",
       "      <td>금요일</td>\n",
       "      <td>울산광역시 중구 복산동</td>\n",
       "      <td>차대차</td>\n",
       "      <td>안전운전불이행</td>\n",
       "      <td>건조</td>\n",
       "      <td>맑음</td>\n",
       "      <td>단일로 - 기타</td>\n",
       "      <td>승용</td>\n",
       "      <td>남</td>\n",
       "      <td>노년</td>\n",
       "      <td>129.329986</td>\n",
       "      <td>35.563774</td>\n",
       "      <td>5</td>\n",
       "    </tr>\n",
       "    <tr>\n",
       "      <th>61413</th>\n",
       "      <td>2021123100100409</td>\n",
       "      <td>202112311700</td>\n",
       "      <td>금요일</td>\n",
       "      <td>울산광역시 북구 염포동</td>\n",
       "      <td>차대차</td>\n",
       "      <td>차로위반</td>\n",
       "      <td>건조</td>\n",
       "      <td>맑음</td>\n",
       "      <td>단일로 - 기타</td>\n",
       "      <td>승합</td>\n",
       "      <td>남</td>\n",
       "      <td>중년</td>\n",
       "      <td>129.389056</td>\n",
       "      <td>35.535538</td>\n",
       "      <td>5</td>\n",
       "    </tr>\n",
       "    <tr>\n",
       "      <th>61414</th>\n",
       "      <td>2021123100100593</td>\n",
       "      <td>202112312100</td>\n",
       "      <td>금요일</td>\n",
       "      <td>울산광역시 남구 야음동</td>\n",
       "      <td>차대차</td>\n",
       "      <td>안전운전불이행</td>\n",
       "      <td>건조</td>\n",
       "      <td>맑음</td>\n",
       "      <td>단일로 - 기타</td>\n",
       "      <td>승용</td>\n",
       "      <td>남</td>\n",
       "      <td>청년</td>\n",
       "      <td>129.319239</td>\n",
       "      <td>35.522241</td>\n",
       "      <td>3</td>\n",
       "    </tr>\n",
       "  </tbody>\n",
       "</table>\n",
       "<p>61414 rows × 15 columns</p>\n",
       "</div>"
      ],
      "text/plain": [
       "                   사고번호          사고일시   요일              시군구  사고유형       법규위반  \\\n",
       "0      2019010100100002  201901010000  화요일    서울특별시 구로구 고척동   차대차    안전운전불이행   \n",
       "1      2019010100100141  201901011100  화요일    서울특별시 서초구 서초동   차대차    안전거리미확보   \n",
       "2      2019010100100170  201901011300  화요일  서울특별시 서대문구 북아현동  차대사람  보행자보호의무위반   \n",
       "3      2019010100100236  201901011700  화요일    서울특별시 중랑구 상봉동   차대차       신호위반   \n",
       "4      2019010100100249  201901011800  화요일    서울특별시 구로구 천왕동   차대차    안전운전불이행   \n",
       "...                 ...           ...  ...              ...   ...        ...   \n",
       "61410  2021123000100493  202112301900  목요일     울산광역시 남구 삼산동  차량단독    안전운전불이행   \n",
       "61411  2021123100100141  202112311100  금요일     울산광역시 동구 일산동   차대차    안전운전불이행   \n",
       "61412  2021123100100408  202112311700  금요일     울산광역시 중구 복산동   차대차    안전운전불이행   \n",
       "61413  2021123100100409  202112311700  금요일     울산광역시 북구 염포동   차대차       차로위반   \n",
       "61414  2021123100100593  202112312100  금요일     울산광역시 남구 야음동   차대차    안전운전불이행   \n",
       "\n",
       "        노면상태 기상상태        도로형태 가해운전자 차종 가해운전자 성별 가해운전자 연령           x  \\\n",
       "0         건조   맑음    단일로 - 기타       이륜        남       청년  126.867286   \n",
       "1         건조   맑음    단일로 - 기타       승용        남       중년  127.017439   \n",
       "2         건조   맑음    단일로 - 기타       이륜        남       청년  126.956285   \n",
       "3         건조   맑음  교차로 - 교차로안       이륜        남       청년  127.085745   \n",
       "4      젖음/습기   맑음  교차로 - 교차로안       이륜        남       청년  126.842479   \n",
       "...      ...  ...         ...      ...      ...      ...         ...   \n",
       "61410     건조   맑음    단일로 - 기타       이륜        남       중년  129.351972   \n",
       "61411     건조   맑음     기타 - 기타       이륜        남      청소년  129.428386   \n",
       "61412     건조   맑음    단일로 - 기타       승용        남       노년  129.329986   \n",
       "61413     건조   맑음    단일로 - 기타       승합        남       중년  129.389056   \n",
       "61414     건조   맑음    단일로 - 기타       승용        남       청년  129.319239   \n",
       "\n",
       "               y  EPDO  \n",
       "0      37.499889     3  \n",
       "1      37.481949     3  \n",
       "2      37.558028     3  \n",
       "3      37.596356     3  \n",
       "4      37.484115     3  \n",
       "...          ...   ...  \n",
       "61410  35.538223     1  \n",
       "61411  35.498666     1  \n",
       "61412  35.563774     5  \n",
       "61413  35.535538     5  \n",
       "61414  35.522241     3  \n",
       "\n",
       "[61414 rows x 15 columns]"
      ]
     },
     "execution_count": 34,
     "metadata": {},
     "output_type": "execute_result"
    }
   ],
   "source": [
    "taas_1"
   ]
  },
  {
   "cell_type": "code",
   "execution_count": 35,
   "id": "a0c5925c",
   "metadata": {},
   "outputs": [],
   "source": [
    "# 합쳐진 taas 내보내기\n",
    "taas_1.to_csv('data/taas/taas_preprocessed.csv', index=False, encoding = 'cp949')"
   ]
  }
 ],
 "metadata": {
  "kernelspec": {
   "display_name": "Python 3 (ipykernel)",
   "language": "python",
   "name": "python3"
  },
  "language_info": {
   "codemirror_mode": {
    "name": "ipython",
    "version": 3
   },
   "file_extension": ".py",
   "mimetype": "text/x-python",
   "name": "python",
   "nbconvert_exporter": "python",
   "pygments_lexer": "ipython3",
   "version": "3.9.12"
  }
 },
 "nbformat": 4,
 "nbformat_minor": 5
}
